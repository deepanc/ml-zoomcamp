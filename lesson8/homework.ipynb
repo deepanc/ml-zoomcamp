{
 "cells": [
  {
   "cell_type": "code",
   "execution_count": null,
   "id": "6596a936-6377-428c-8f04-b0036ac692a9",
   "metadata": {},
   "outputs": [],
   "source": [
    "data = !wget https://github.com/alexeygrigorev/large-datasets/releases/download/dogs-cats/train.zip\n"
   ]
  },
  {
   "cell_type": "code",
   "execution_count": 31,
   "id": "d8538a05-912c-4e45-8957-29ecb7c8307c",
   "metadata": {},
   "outputs": [],
   "source": [
    "import os\n",
    "import shutil\n",
    "\n",
    "import tensorflow as tf\n",
    "from tensorflow import keras\n",
    "from keras.layers.convolutional import Conv2D\n",
    "\n"
   ]
  },
  {
   "cell_type": "code",
   "execution_count": null,
   "id": "20f311b1-d6e0-46f6-8c99-bd95d812b23a",
   "metadata": {},
   "outputs": [],
   "source": [
    "# files = sorted(os.listdir(os.path.expanduser('~/dev/ml_zoomcamp/ml-zoomcamp/lesson 8/catsanddogs')))[:20000]\n",
    "\n",
    "# source_dir = os.path.expanduser('~/dev/ml_zoomcamp/ml-zoomcamp/lesson 8/catsanddogs/')\n",
    "\n",
    "# for file in files:\n",
    "#     if(file.startswith(\"cat\")):\n",
    "#         shutil.copy(os.path.join(source_dir, file), os.path.expanduser('~/dev/ml_zoomcamp/ml-zoomcamp/lesson 8/homework/train/cats'))\n",
    "#     elif(file.startswith(\"dog\")):\n",
    "#         shutil.copy(os.path.join(source_dir, file), os.path.expanduser('~/dev/ml_zoomcamp/ml-zoomcamp/lesson 8/homework/train/dogs'))"
   ]
  },
  {
   "cell_type": "code",
   "execution_count": 32,
   "id": "8306754d-1837-4710-884b-88b027c12690",
   "metadata": {},
   "outputs": [
    {
     "name": "stdout",
     "output_type": "stream",
     "text": [
      "Model: \"model\"\n",
      "_________________________________________________________________\n",
      "Layer (type)                 Output Shape              Param #   \n",
      "=================================================================\n",
      "input_1 (InputLayer)         [(None, 150, 150, 3)]     0         \n",
      "_________________________________________________________________\n",
      "conv2d (Conv2D)              (None, 148, 148, 32)      896       \n",
      "_________________________________________________________________\n",
      "max_pooling2d (MaxPooling2D) (None, 74, 74, 32)        0         \n",
      "_________________________________________________________________\n",
      "flatten (Flatten)            (None, 175232)            0         \n",
      "_________________________________________________________________\n",
      "dense (Dense)                (None, 64)                11214912  \n",
      "_________________________________________________________________\n",
      "dense_1 (Dense)              (None, 1)                 65        \n",
      "=================================================================\n",
      "Total params: 11,215,873\n",
      "Trainable params: 11,215,873\n",
      "Non-trainable params: 0\n",
      "_________________________________________________________________\n"
     ]
    },
    {
     "name": "stderr",
     "output_type": "stream",
     "text": [
      "/Users/deepa/miniforge3/envs/tensorflow/lib/python3.9/site-packages/keras/optimizer_v2/optimizer_v2.py:355: UserWarning: The `lr` argument is deprecated, use `learning_rate` instead.\n",
      "  warnings.warn(\n"
     ]
    }
   ],
   "source": [
    "inputs = keras.Input(shape = (150, 150, 3))\n",
    "conv = keras.layers.Conv2D(32, (3,3), activation = 'relu', input_shape = (150,150,3))(inputs)\n",
    "pooling = keras.layers.MaxPooling2D(pool_size = (2,2))(conv)\n",
    "vectors = keras.layers.Flatten()(pooling)\n",
    "inner = keras.layers.Dense(64, activation='relu')(vectors)\n",
    "outputs = keras.layers.Dense(1)(inner)\n",
    "model = keras.Model(inputs, outputs)\n",
    "\n",
    "optimizer = keras.optimizers.SGD(lr=0.002, momentum=0.8)\n",
    "loss = keras.losses.BinaryCrossentropy(from_logits=False)\n",
    "model.compile(optimizer=optimizer, loss=loss, metrics=['accuracy'])\n",
    "model.summary()"
   ]
  },
  {
   "cell_type": "code",
   "execution_count": 54,
   "id": "47063074-c730-4360-83cc-3bfab291ae03",
   "metadata": {},
   "outputs": [
    {
     "name": "stdout",
     "output_type": "stream",
     "text": [
      "Found 20000 images belonging to 2 classes.\n",
      "Found 5000 images belonging to 2 classes.\n"
     ]
    }
   ],
   "source": [
    "from tensorflow.keras.preprocessing.image import ImageDataGenerator\n",
    "\n",
    "train_gen = ImageDataGenerator(rescale=1./255)\n",
    "train_ds = train_gen.flow_from_directory('./homework/train', target_size=(150, 150), batch_size=20, class_mode='binary')\n",
    "\n",
    "val_gen = ImageDataGenerator(rescale=1./255)\n",
    "val_ds = val_gen.flow_from_directory('./homework/validation', target_size=(150, 150), batch_size=20, shuffle=False)\n"
   ]
  },
  {
   "cell_type": "code",
   "execution_count": 55,
   "id": "6150260c-c926-471d-aefa-1d28367c247c",
   "metadata": {},
   "outputs": [
    {
     "name": "stdout",
     "output_type": "stream",
     "text": [
      "Epoch 1/10\n",
      "100/100 [==============================] - 33s 322ms/step - loss: 0.6662 - accuracy: 0.6010 - val_loss: 0.7203 - val_accuracy: 0.5000\n",
      "Epoch 2/10\n",
      "100/100 [==============================] - 32s 319ms/step - loss: 0.6703 - accuracy: 0.5915 - val_loss: 0.7140 - val_accuracy: 0.5000\n",
      "Epoch 3/10\n",
      "100/100 [==============================] - 32s 320ms/step - loss: 0.6672 - accuracy: 0.6010 - val_loss: 0.7148 - val_accuracy: 0.5000\n",
      "Epoch 4/10\n",
      "100/100 [==============================] - 32s 322ms/step - loss: 0.6699 - accuracy: 0.6040 - val_loss: 0.7172 - val_accuracy: 0.5000\n",
      "Epoch 5/10\n",
      "100/100 [==============================] - 32s 323ms/step - loss: 0.6759 - accuracy: 0.5735 - val_loss: 0.7093 - val_accuracy: 0.5000\n",
      "Epoch 6/10\n",
      "100/100 [==============================] - 32s 323ms/step - loss: 0.6757 - accuracy: 0.5790 - val_loss: 0.7155 - val_accuracy: 0.5000\n",
      "Epoch 7/10\n",
      "100/100 [==============================] - 32s 322ms/step - loss: 0.6715 - accuracy: 0.5875 - val_loss: 0.7138 - val_accuracy: 0.5000\n",
      "Epoch 8/10\n",
      "100/100 [==============================] - 32s 323ms/step - loss: 0.6720 - accuracy: 0.5820 - val_loss: 0.7149 - val_accuracy: 0.5000\n",
      "Epoch 9/10\n",
      "100/100 [==============================] - 32s 323ms/step - loss: 0.6715 - accuracy: 0.5865 - val_loss: 0.7115 - val_accuracy: 0.5000\n",
      "Epoch 10/10\n",
      "100/100 [==============================] - 32s 322ms/step - loss: 0.6704 - accuracy: 0.5925 - val_loss: 0.7317 - val_accuracy: 0.5000\n"
     ]
    }
   ],
   "source": [
    "# train_ds.class_indices\n",
    "history = model.fit(\n",
    "    train_ds,\n",
    "    steps_per_epoch=100,\n",
    "    epochs=10,\n",
    "    validation_data=val_ds,\n",
    "    validation_steps=50\n",
    ")\n"
   ]
  },
  {
   "cell_type": "code",
   "execution_count": 43,
   "id": "56f3d68e-80c8-48e0-a6e5-03de0cb5b4ed",
   "metadata": {},
   "outputs": [],
   "source": [
    "import matplotlib.pyplot as plt\n",
    "\n",
    "%matplotlib inline\n",
    "import numpy as np"
   ]
  },
  {
   "cell_type": "code",
   "execution_count": 51,
   "id": "a5a37b1d-501b-49c6-8103-2d89837d0245",
   "metadata": {},
   "outputs": [
    {
     "data": {
      "text/plain": [
       "<matplotlib.legend.Legend at 0x2a1ece910>"
      ]
     },
     "execution_count": 51,
     "metadata": {},
     "output_type": "execute_result"
    },
    {
     "data": {
      "image/png": "[encoded data removed]",
      "text/plain": [
       "<Figure size 432x288 with 1 Axes>"
      ]
     },
     "metadata": {
      "needs_background": "light"
     },
     "output_type": "display_data"
    }
   ],
   "source": [
    "plt.plot(history.history['accuracy'], label='val')\n",
    "plt.xticks(np.arange(10))\n",
    "plt.legend()"
   ]
  },
  {
   "cell_type": "code",
   "execution_count": 57,
   "id": "4e298cfb-c3d8-4b49-92e7-78a4aae7af12",
   "metadata": {},
   "outputs": [
    {
     "data": {
      "text/plain": [
       "0.0029556254343982083"
      ]
     },
     "execution_count": 57,
     "metadata": {},
     "output_type": "execute_result"
    }
   ],
   "source": [
    "np.std(history.history['loss'])"
   ]
  },
  {
   "cell_type": "code",
   "execution_count": 56,
   "id": "8715c3ff-777e-49e1-951d-41a1c58c417b",
   "metadata": {},
   "outputs": [
    {
     "data": {
      "text/plain": [
       "0.5898500323295593"
      ]
     },
     "execution_count": 56,
     "metadata": {},
     "output_type": "execute_result"
    }
   ],
   "source": [
    "np.mean(history.history['accuracy'])"
   ]
  },
  {
   "cell_type": "code",
   "execution_count": 58,
   "id": "18c22e06-a4d0-4beb-900f-2130422f930f",
   "metadata": {},
   "outputs": [
    {
     "name": "stdout",
     "output_type": "stream",
     "text": [
      "Found 20000 images belonging to 2 classes.\n"
     ]
    }
   ],
   "source": [
    "train_gen = ImageDataGenerator(\n",
    "    rotation_range=40,\n",
    "    width_shift_range=0.2,\n",
    "    height_shift_range=0.2,\n",
    "    shear_range=0.2,\n",
    "    zoom_range=0.2,\n",
    "    horizontal_flip=True,\n",
    "    fill_mode='nearest'\n",
    ")\n",
    "train_ds = train_gen.flow_from_directory('./homework/train', target_size=(150, 150), batch_size=20, class_mode='binary')\n",
    "\n"
   ]
  },
  {
   "cell_type": "code",
   "execution_count": 59,
   "id": "96a1329f-2e13-4a6f-9a36-a7ec27383887",
   "metadata": {},
   "outputs": [
    {
     "name": "stdout",
     "output_type": "stream",
     "text": [
      "Epoch 1/10\n",
      "100/100 [==============================] - 33s 323ms/step - loss: 0.6965 - accuracy: 0.4935 - val_loss: 0.7421 - val_accuracy: 0.5000\n",
      "Epoch 2/10\n",
      "100/100 [==============================] - 32s 323ms/step - loss: 0.7024 - accuracy: 0.4805 - val_loss: 0.7006 - val_accuracy: 0.5000\n",
      "Epoch 3/10\n",
      "100/100 [==============================] - 32s 323ms/step - loss: 0.7024 - accuracy: 0.4905 - val_loss: 0.7018 - val_accuracy: 0.5000\n",
      "Epoch 4/10\n",
      "100/100 [==============================] - 32s 322ms/step - loss: 0.7077 - accuracy: 0.5165 - val_loss: 0.7022 - val_accuracy: 0.5000\n",
      "Epoch 5/10\n",
      "100/100 [==============================] - 32s 323ms/step - loss: 0.6942 - accuracy: 0.5095 - val_loss: 0.7000 - val_accuracy: 0.5000\n",
      "Epoch 6/10\n",
      "100/100 [==============================] - 32s 323ms/step - loss: 0.6936 - accuracy: 0.5080 - val_loss: 0.7014 - val_accuracy: 0.5000\n",
      "Epoch 7/10\n",
      "100/100 [==============================] - 32s 322ms/step - loss: 0.7004 - accuracy: 0.5040 - val_loss: 0.7009 - val_accuracy: 0.5000\n",
      "Epoch 8/10\n",
      "100/100 [==============================] - 32s 323ms/step - loss: 0.7089 - accuracy: 0.4855 - val_loss: 0.7040 - val_accuracy: 0.5000\n",
      "Epoch 9/10\n",
      "100/100 [==============================] - 32s 323ms/step - loss: 0.7013 - accuracy: 0.4930 - val_loss: 0.7025 - val_accuracy: 0.5000\n",
      "Epoch 10/10\n",
      "100/100 [==============================] - 32s 323ms/step - loss: 0.7008 - accuracy: 0.5075 - val_loss: 0.7002 - val_accuracy: 0.5000\n"
     ]
    }
   ],
   "source": [
    "history = model.fit(\n",
    "    train_ds,\n",
    "    steps_per_epoch=100,\n",
    "    epochs=10,\n",
    "    validation_data=val_ds,\n",
    "    validation_steps=50\n",
    ")\n"
   ]
  },
  {
   "cell_type": "code",
   "execution_count": 60,
   "id": "025df3eb-d803-423d-9ea0-5ed6471e481a",
   "metadata": {},
   "outputs": [
    {
     "data": {
      "text/plain": [
       "0.7055630028247833"
      ]
     },
     "execution_count": 60,
     "metadata": {},
     "output_type": "execute_result"
    }
   ],
   "source": [
    "np.mean(history.history['val_loss'])"
   ]
  },
  {
   "cell_type": "code",
   "execution_count": 61,
   "id": "cbcd6e9f-45b6-479a-b2e7-368bfc1cb56e",
   "metadata": {},
   "outputs": [
    {
     "data": {
      "text/plain": [
       "0.5"
      ]
     },
     "execution_count": 61,
     "metadata": {},
     "output_type": "execute_result"
    }
   ],
   "source": [
    "np.mean(history.history['val_accuracy'])"
   ]
  },
  {
   "cell_type": "code",
   "execution_count": null,
   "id": "cfcca221-b76b-4dae-94ba-4eb849faf899",
   "metadata": {},
   "outputs": [],
   "source": []
  }
 ],
 "metadata": {
  "kernelspec": {
   "display_name": "Python 3",
   "language": "python",
   "name": "python3"
  },
  "language_info": {
   "codemirror_mode": {
    "name": "ipython",
    "version": 3
   },
   "file_extension": ".py",
   "mimetype": "text/x-python",
   "name": "python",
   "nbconvert_exporter": "python",
   "pygments_lexer": "ipython3",
   "version": "3.9.5"
  }
 },
 "nbformat": 4,
 "nbformat_minor": 5
}
