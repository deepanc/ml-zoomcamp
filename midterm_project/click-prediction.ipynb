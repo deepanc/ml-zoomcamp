{
 "cells": [
  {
   "cell_type": "code",
   "execution_count": 1,
   "id": "2517e8e1",
   "metadata": {},
   "outputs": [],
   "source": [
    "import pandas as pd\n",
    "import numpy as np\n",
    "\n",
    "import matplotlib.pyplot as plt\n",
    "import seaborn as sns\n",
    "\n",
    "%matplotlib inline"
   ]
  },
  {
   "cell_type": "code",
   "execution_count": 4,
   "id": "c2249d80",
   "metadata": {},
   "outputs": [
    {
     "name": "stdout",
     "output_type": "stream",
     "text": [
      "--2021-10-24 16:52:21--  https://www.openml.org/data/get_csv/184157/phpfGCaQC.csv\n",
      "Resolving www.openml.org (www.openml.org)... 131.155.11.11\n",
      "Connecting to www.openml.org (www.openml.org)|131.155.11.11|:443... connected.\n",
      "HTTP request sent, awaiting response... 200 OK\n",
      "Length: unspecified [text/plain]\n",
      "Saving to: ‘phpfGCaQC.csv’\n",
      "\n",
      "phpfGCaQC.csv           [       <=>          ]   2.75M  1.57MB/s    in 1.8s    \n",
      "\n",
      "2021-10-24 16:52:24 (1.57 MB/s) - ‘phpfGCaQC.csv’ saved [2885823]\n",
      "\n"
     ]
    }
   ],
   "source": [
    "data = \"https://www.openml.org/data/get_csv/184157/phpfGCaQC.csv\"\n",
    "\n",
    "!wget $data"
   ]
  },
  {
   "cell_type": "markdown",
   "id": "b4de2770",
   "metadata": {},
   "source": [
    "#### Read the data and do the basic EDA"
   ]
  },
  {
   "cell_type": "code",
   "execution_count": 5,
   "id": "3ded455e",
   "metadata": {},
   "outputs": [],
   "source": [
    "df = pd.read_csv('click_data.csv')"
   ]
  },
  {
   "cell_type": "code",
   "execution_count": 6,
   "id": "d84ccdb4",
   "metadata": {},
   "outputs": [
    {
     "data": {
      "text/html": [
       "<div>\n",
       "<style scoped>\n",
       "    .dataframe tbody tr th:only-of-type {\n",
       "        vertical-align: middle;\n",
       "    }\n",
       "\n",
       "    .dataframe tbody tr th {\n",
       "        vertical-align: top;\n",
       "    }\n",
       "\n",
       "    .dataframe thead th {\n",
       "        text-align: right;\n",
       "    }\n",
       "</style>\n",
       "<table border=\"1\" class=\"dataframe\">\n",
       "  <thead>\n",
       "    <tr style=\"text-align: right;\">\n",
       "      <th></th>\n",
       "      <th>click</th>\n",
       "      <th>impression</th>\n",
       "      <th>url_hash</th>\n",
       "      <th>ad_id</th>\n",
       "      <th>advertiser_id</th>\n",
       "      <th>depth</th>\n",
       "      <th>position</th>\n",
       "      <th>query_id</th>\n",
       "      <th>keyword_id</th>\n",
       "      <th>title_id</th>\n",
       "      <th>description_id</th>\n",
       "      <th>user_id</th>\n",
       "    </tr>\n",
       "  </thead>\n",
       "  <tbody>\n",
       "    <tr>\n",
       "      <th>0</th>\n",
       "      <td>0</td>\n",
       "      <td>1</td>\n",
       "      <td>1.071003e+19</td>\n",
       "      <td>8343295</td>\n",
       "      <td>11700</td>\n",
       "      <td>3</td>\n",
       "      <td>3</td>\n",
       "      <td>7702266</td>\n",
       "      <td>21264</td>\n",
       "      <td>27892</td>\n",
       "      <td>1559</td>\n",
       "      <td>0</td>\n",
       "    </tr>\n",
       "    <tr>\n",
       "      <th>1</th>\n",
       "      <td>1</td>\n",
       "      <td>1</td>\n",
       "      <td>1.736385e+19</td>\n",
       "      <td>20017077</td>\n",
       "      <td>23798</td>\n",
       "      <td>1</td>\n",
       "      <td>1</td>\n",
       "      <td>93079</td>\n",
       "      <td>35498</td>\n",
       "      <td>4</td>\n",
       "      <td>36476</td>\n",
       "      <td>562934</td>\n",
       "    </tr>\n",
       "    <tr>\n",
       "      <th>2</th>\n",
       "      <td>0</td>\n",
       "      <td>1</td>\n",
       "      <td>8.915473e+18</td>\n",
       "      <td>21348354</td>\n",
       "      <td>36654</td>\n",
       "      <td>1</td>\n",
       "      <td>1</td>\n",
       "      <td>10981</td>\n",
       "      <td>19975</td>\n",
       "      <td>36105</td>\n",
       "      <td>33292</td>\n",
       "      <td>11621116</td>\n",
       "    </tr>\n",
       "    <tr>\n",
       "      <th>3</th>\n",
       "      <td>0</td>\n",
       "      <td>1</td>\n",
       "      <td>4.426693e+18</td>\n",
       "      <td>20366086</td>\n",
       "      <td>33280</td>\n",
       "      <td>3</td>\n",
       "      <td>3</td>\n",
       "      <td>0</td>\n",
       "      <td>5942</td>\n",
       "      <td>4057</td>\n",
       "      <td>4390</td>\n",
       "      <td>8778348</td>\n",
       "    </tr>\n",
       "    <tr>\n",
       "      <th>4</th>\n",
       "      <td>0</td>\n",
       "      <td>1</td>\n",
       "      <td>1.157260e+19</td>\n",
       "      <td>6803526</td>\n",
       "      <td>10790</td>\n",
       "      <td>2</td>\n",
       "      <td>1</td>\n",
       "      <td>9881978</td>\n",
       "      <td>60593</td>\n",
       "      <td>25242</td>\n",
       "      <td>1679</td>\n",
       "      <td>12118311</td>\n",
       "    </tr>\n",
       "  </tbody>\n",
       "</table>\n",
       "</div>"
      ],
      "text/plain": [
       "   click  impression      url_hash     ad_id  advertiser_id  depth  position  \\\n",
       "0      0           1  1.071003e+19   8343295          11700      3         3   \n",
       "1      1           1  1.736385e+19  20017077          23798      1         1   \n",
       "2      0           1  8.915473e+18  21348354          36654      1         1   \n",
       "3      0           1  4.426693e+18  20366086          33280      3         3   \n",
       "4      0           1  1.157260e+19   6803526          10790      2         1   \n",
       "\n",
       "   query_id  keyword_id  title_id  description_id   user_id  \n",
       "0   7702266       21264     27892            1559         0  \n",
       "1     93079       35498         4           36476    562934  \n",
       "2     10981       19975     36105           33292  11621116  \n",
       "3         0        5942      4057            4390   8778348  \n",
       "4   9881978       60593     25242            1679  12118311  "
      ]
     },
     "execution_count": 6,
     "metadata": {},
     "output_type": "execute_result"
    }
   ],
   "source": [
    "df.head()"
   ]
  },
  {
   "cell_type": "code",
   "execution_count": 8,
   "id": "65ddccbf",
   "metadata": {},
   "outputs": [
    {
     "data": {
      "text/html": [
       "<div>\n",
       "<style scoped>\n",
       "    .dataframe tbody tr th:only-of-type {\n",
       "        vertical-align: middle;\n",
       "    }\n",
       "\n",
       "    .dataframe tbody tr th {\n",
       "        vertical-align: top;\n",
       "    }\n",
       "\n",
       "    .dataframe thead th {\n",
       "        text-align: right;\n",
       "    }\n",
       "</style>\n",
       "<table border=\"1\" class=\"dataframe\">\n",
       "  <thead>\n",
       "    <tr style=\"text-align: right;\">\n",
       "      <th></th>\n",
       "      <th>click</th>\n",
       "      <th>impression</th>\n",
       "      <th>url_hash</th>\n",
       "      <th>ad_id</th>\n",
       "      <th>advertiser_id</th>\n",
       "      <th>depth</th>\n",
       "      <th>position</th>\n",
       "      <th>query_id</th>\n",
       "      <th>keyword_id</th>\n",
       "      <th>title_id</th>\n",
       "      <th>description_id</th>\n",
       "      <th>user_id</th>\n",
       "    </tr>\n",
       "  </thead>\n",
       "  <tbody>\n",
       "    <tr>\n",
       "      <th>count</th>\n",
       "      <td>39948.000000</td>\n",
       "      <td>39948.000000</td>\n",
       "      <td>3.994800e+04</td>\n",
       "      <td>3.994800e+04</td>\n",
       "      <td>39948.000000</td>\n",
       "      <td>39948.000000</td>\n",
       "      <td>39948.000000</td>\n",
       "      <td>3.994800e+04</td>\n",
       "      <td>3.994800e+04</td>\n",
       "      <td>3.994800e+04</td>\n",
       "      <td>3.994800e+04</td>\n",
       "      <td>3.994800e+04</td>\n",
       "    </tr>\n",
       "    <tr>\n",
       "      <th>mean</th>\n",
       "      <td>0.168419</td>\n",
       "      <td>2.100205</td>\n",
       "      <td>9.641350e+18</td>\n",
       "      <td>1.601672e+07</td>\n",
       "      <td>22454.496546</td>\n",
       "      <td>1.960023</td>\n",
       "      <td>1.463853</td>\n",
       "      <td>3.142146e+06</td>\n",
       "      <td>3.519443e+04</td>\n",
       "      <td>1.732829e+05</td>\n",
       "      <td>1.111509e+05</td>\n",
       "      <td>3.669622e+06</td>\n",
       "    </tr>\n",
       "    <tr>\n",
       "      <th>std</th>\n",
       "      <td>0.374243</td>\n",
       "      <td>65.867383</td>\n",
       "      <td>4.986705e+18</td>\n",
       "      <td>7.222260e+06</td>\n",
       "      <td>11796.085798</td>\n",
       "      <td>0.715407</td>\n",
       "      <td>0.631545</td>\n",
       "      <td>5.841540e+06</td>\n",
       "      <td>1.009148e+05</td>\n",
       "      <td>4.656748e+05</td>\n",
       "      <td>3.283742e+05</td>\n",
       "      <td>5.492058e+06</td>\n",
       "    </tr>\n",
       "    <tr>\n",
       "      <th>min</th>\n",
       "      <td>0.000000</td>\n",
       "      <td>1.000000</td>\n",
       "      <td>4.824369e+14</td>\n",
       "      <td>1.000515e+06</td>\n",
       "      <td>82.000000</td>\n",
       "      <td>1.000000</td>\n",
       "      <td>1.000000</td>\n",
       "      <td>0.000000e+00</td>\n",
       "      <td>0.000000e+00</td>\n",
       "      <td>0.000000e+00</td>\n",
       "      <td>0.000000e+00</td>\n",
       "      <td>0.000000e+00</td>\n",
       "    </tr>\n",
       "    <tr>\n",
       "      <th>25%</th>\n",
       "      <td>0.000000</td>\n",
       "      <td>1.000000</td>\n",
       "      <td>5.468728e+18</td>\n",
       "      <td>9.027238e+06</td>\n",
       "      <td>13476.500000</td>\n",
       "      <td>1.000000</td>\n",
       "      <td>1.000000</td>\n",
       "      <td>2.364250e+03</td>\n",
       "      <td>3.700000e+02</td>\n",
       "      <td>6.707500e+02</td>\n",
       "      <td>3.560000e+02</td>\n",
       "      <td>1.472250e+03</td>\n",
       "    </tr>\n",
       "    <tr>\n",
       "      <th>50%</th>\n",
       "      <td>0.000000</td>\n",
       "      <td>1.000000</td>\n",
       "      <td>1.034947e+19</td>\n",
       "      <td>2.030373e+07</td>\n",
       "      <td>23808.000000</td>\n",
       "      <td>2.000000</td>\n",
       "      <td>1.000000</td>\n",
       "      <td>1.128365e+05</td>\n",
       "      <td>3.389000e+03</td>\n",
       "      <td>1.065400e+04</td>\n",
       "      <td>5.048000e+03</td>\n",
       "      <td>8.883865e+05</td>\n",
       "    </tr>\n",
       "    <tr>\n",
       "      <th>75%</th>\n",
       "      <td>0.000000</td>\n",
       "      <td>1.000000</td>\n",
       "      <td>1.434039e+19</td>\n",
       "      <td>2.116392e+07</td>\n",
       "      <td>32124.000000</td>\n",
       "      <td>2.000000</td>\n",
       "      <td>2.000000</td>\n",
       "      <td>3.147909e+06</td>\n",
       "      <td>2.103000e+04</td>\n",
       "      <td>1.002895e+05</td>\n",
       "      <td>5.286175e+04</td>\n",
       "      <td>5.129631e+06</td>\n",
       "    </tr>\n",
       "    <tr>\n",
       "      <th>max</th>\n",
       "      <td>1.000000</td>\n",
       "      <td>11820.000000</td>\n",
       "      <td>1.844094e+19</td>\n",
       "      <td>2.222734e+07</td>\n",
       "      <td>39074.000000</td>\n",
       "      <td>3.000000</td>\n",
       "      <td>3.000000</td>\n",
       "      <td>2.624010e+07</td>\n",
       "      <td>1.243163e+06</td>\n",
       "      <td>4.050208e+06</td>\n",
       "      <td>3.171504e+06</td>\n",
       "      <td>2.390734e+07</td>\n",
       "    </tr>\n",
       "  </tbody>\n",
       "</table>\n",
       "</div>"
      ],
      "text/plain": [
       "              click    impression      url_hash         ad_id  advertiser_id  \\\n",
       "count  39948.000000  39948.000000  3.994800e+04  3.994800e+04   39948.000000   \n",
       "mean       0.168419      2.100205  9.641350e+18  1.601672e+07   22454.496546   \n",
       "std        0.374243     65.867383  4.986705e+18  7.222260e+06   11796.085798   \n",
       "min        0.000000      1.000000  4.824369e+14  1.000515e+06      82.000000   \n",
       "25%        0.000000      1.000000  5.468728e+18  9.027238e+06   13476.500000   \n",
       "50%        0.000000      1.000000  1.034947e+19  2.030373e+07   23808.000000   \n",
       "75%        0.000000      1.000000  1.434039e+19  2.116392e+07   32124.000000   \n",
       "max        1.000000  11820.000000  1.844094e+19  2.222734e+07   39074.000000   \n",
       "\n",
       "              depth      position      query_id    keyword_id      title_id  \\\n",
       "count  39948.000000  39948.000000  3.994800e+04  3.994800e+04  3.994800e+04   \n",
       "mean       1.960023      1.463853  3.142146e+06  3.519443e+04  1.732829e+05   \n",
       "std        0.715407      0.631545  5.841540e+06  1.009148e+05  4.656748e+05   \n",
       "min        1.000000      1.000000  0.000000e+00  0.000000e+00  0.000000e+00   \n",
       "25%        1.000000      1.000000  2.364250e+03  3.700000e+02  6.707500e+02   \n",
       "50%        2.000000      1.000000  1.128365e+05  3.389000e+03  1.065400e+04   \n",
       "75%        2.000000      2.000000  3.147909e+06  2.103000e+04  1.002895e+05   \n",
       "max        3.000000      3.000000  2.624010e+07  1.243163e+06  4.050208e+06   \n",
       "\n",
       "       description_id       user_id  \n",
       "count    3.994800e+04  3.994800e+04  \n",
       "mean     1.111509e+05  3.669622e+06  \n",
       "std      3.283742e+05  5.492058e+06  \n",
       "min      0.000000e+00  0.000000e+00  \n",
       "25%      3.560000e+02  1.472250e+03  \n",
       "50%      5.048000e+03  8.883865e+05  \n",
       "75%      5.286175e+04  5.129631e+06  \n",
       "max      3.171504e+06  2.390734e+07  "
      ]
     },
     "execution_count": 8,
     "metadata": {},
     "output_type": "execute_result"
    }
   ],
   "source": [
    "df.describe()"
   ]
  },
  {
   "cell_type": "code",
   "execution_count": 9,
   "id": "dfaf7cbe",
   "metadata": {},
   "outputs": [
    {
     "data": {
      "text/plain": [
       "0"
      ]
     },
     "execution_count": 9,
     "metadata": {},
     "output_type": "execute_result"
    }
   ],
   "source": [
    "df.click.isna().sum()"
   ]
  },
  {
   "cell_type": "code",
   "execution_count": 11,
   "id": "9eea63cc",
   "metadata": {},
   "outputs": [
    {
     "data": {
      "text/plain": [
       "click             0\n",
       "impression        0\n",
       "url_hash          0\n",
       "ad_id             0\n",
       "advertiser_id     0\n",
       "depth             0\n",
       "position          0\n",
       "query_id          0\n",
       "keyword_id        0\n",
       "title_id          0\n",
       "description_id    0\n",
       "user_id           0\n",
       "dtype: int64"
      ]
     },
     "execution_count": 11,
     "metadata": {},
     "output_type": "execute_result"
    }
   ],
   "source": [
    "df.isna().sum()"
   ]
  },
  {
   "cell_type": "markdown",
   "id": "b641773f",
   "metadata": {},
   "source": [
    "#### Target variable is click. \n",
    "#### Data doesn't seem to have any missing values."
   ]
  },
  {
   "cell_type": "code",
   "execution_count": 12,
   "id": "fc219dfa",
   "metadata": {},
   "outputs": [
    {
     "data": {
      "text/plain": [
       "0    33220\n",
       "1     6728\n",
       "Name: click, dtype: int64"
      ]
     },
     "execution_count": 12,
     "metadata": {},
     "output_type": "execute_result"
    }
   ],
   "source": [
    "df.click.value_counts()"
   ]
  },
  {
   "cell_type": "markdown",
   "id": "2960ab1c",
   "metadata": {},
   "source": [
    "#### As we can see above, click 0 has more occurences than click 1. \n",
    "#### Note: The original dataset already had this class imbalance and in the downloaded csv, downsampling of the majority class (click=0) has been done so that the target feature is reasonably balanced (5 to 1). "
   ]
  },
  {
   "cell_type": "markdown",
   "id": "84f69de1",
   "metadata": {},
   "source": [
    "#### Lets try to do Feature Importance to identify which features are affecting the target variable Click"
   ]
  },
  {
   "cell_type": "code",
   "execution_count": 17,
   "id": "19e8f444",
   "metadata": {},
   "outputs": [
    {
     "data": {
      "text/plain": [
       "click             1.000000\n",
       "impression        0.023876\n",
       "url_hash         -0.006924\n",
       "ad_id            -0.015202\n",
       "advertiser_id    -0.027146\n",
       "depth            -0.053392\n",
       "position         -0.123688\n",
       "query_id         -0.075456\n",
       "keyword_id        0.027127\n",
       "title_id          0.012609\n",
       "description_id    0.004623\n",
       "user_id           0.078729\n",
       "dtype: float64"
      ]
     },
     "execution_count": 17,
     "metadata": {},
     "output_type": "execute_result"
    }
   ],
   "source": [
    "corr_mat = df.corrwith(df.click)\n",
    "corr_mat"
   ]
  },
  {
   "cell_type": "code",
   "execution_count": 19,
   "id": "9cdfc806",
   "metadata": {},
   "outputs": [
    {
     "name": "stdout",
     "output_type": "stream",
     "text": [
      "Collecting imbalanced-learn\n",
      "  Downloading imbalanced_learn-0.8.1-py3-none-any.whl (189 kB)\n",
      "\u001b[K     |████████████████████████████████| 189 kB 1.5 MB/s eta 0:00:01\n",
      "\u001b[?25hRequirement already satisfied: joblib>=0.11 in /usr/local/anaconda3/envs/ml-zoomcamp/lib/python3.8/site-packages (from imbalanced-learn) (1.0.1)\n",
      "Requirement already satisfied: scipy>=0.19.1 in /usr/local/anaconda3/envs/ml-zoomcamp/lib/python3.8/site-packages (from imbalanced-learn) (1.7.1)\n",
      "Requirement already satisfied: numpy>=1.13.3 in /usr/local/anaconda3/envs/ml-zoomcamp/lib/python3.8/site-packages (from imbalanced-learn) (1.20.3)\n",
      "Requirement already satisfied: scikit-learn>=0.24 in /usr/local/anaconda3/envs/ml-zoomcamp/lib/python3.8/site-packages (from imbalanced-learn) (0.24.2)\n",
      "Requirement already satisfied: threadpoolctl>=2.0.0 in /usr/local/anaconda3/envs/ml-zoomcamp/lib/python3.8/site-packages (from scikit-learn>=0.24->imbalanced-learn) (2.2.0)\n",
      "Installing collected packages: imbalanced-learn\n",
      "Successfully installed imbalanced-learn-0.8.1\n",
      "Note: you may need to restart the kernel to use updated packages.\n"
     ]
    }
   ],
   "source": [
    "pip install -U imbalanced-learn"
   ]
  },
  {
   "cell_type": "code",
   "execution_count": 20,
   "id": "1db38e91",
   "metadata": {},
   "outputs": [
    {
     "name": "stdout",
     "output_type": "stream",
     "text": [
      "0.8.1\n"
     ]
    }
   ],
   "source": [
    "import imblearn\n",
    "print(imblearn.__version__)"
   ]
  },
  {
   "cell_type": "markdown",
   "id": "a5d07a0b",
   "metadata": {},
   "source": [
    "#### Try to predict the accuracy, precision, recall and F1 score in the dataset without applying any imbalance technique"
   ]
  },
  {
   "cell_type": "code",
   "execution_count": 21,
   "id": "3343643f",
   "metadata": {},
   "outputs": [],
   "source": [
    "from sklearn.model_selection import train_test_split"
   ]
  },
  {
   "cell_type": "code",
   "execution_count": 22,
   "id": "9131cc93",
   "metadata": {},
   "outputs": [],
   "source": [
    "df_full_train, df_test = train_test_split(df, test_size=0.2, random_state=1)\n",
    "df_train, df_val = train_test_split(df_full_train, test_size=0.25, random_state=1)"
   ]
  },
  {
   "cell_type": "code",
   "execution_count": 23,
   "id": "be681f26",
   "metadata": {},
   "outputs": [
    {
     "data": {
      "text/plain": [
       "(23968, 7990, 7990)"
      ]
     },
     "execution_count": 23,
     "metadata": {},
     "output_type": "execute_result"
    }
   ],
   "source": [
    "len(df_train), len(df_val), len(df_test)"
   ]
  },
  {
   "cell_type": "code",
   "execution_count": 24,
   "id": "03da7a9b",
   "metadata": {},
   "outputs": [],
   "source": [
    "df_train = df_train.reset_index(drop=True)\n",
    "df_val = df_val.reset_index(drop=True)\n",
    "df_test = df_test.reset_index(drop=True)"
   ]
  },
  {
   "cell_type": "code",
   "execution_count": 25,
   "id": "b357873f",
   "metadata": {},
   "outputs": [],
   "source": [
    "y_train = df_train.click.values\n",
    "y_val = df_val.click.values\n",
    "y_test = df_test.click.values\n",
    "\n",
    "del df_train['click']\n",
    "del df_val['click']\n",
    "del df_test['click']"
   ]
  },
  {
   "cell_type": "markdown",
   "id": "e1e5c7f3",
   "metadata": {},
   "source": [
    "### EDA"
   ]
  },
  {
   "cell_type": "markdown",
   "id": "bd9ed585",
   "metadata": {},
   "source": [
    "#### Check the value counts of click variable to understand the imbalance"
   ]
  },
  {
   "cell_type": "code",
   "execution_count": 26,
   "id": "e73ad74c",
   "metadata": {},
   "outputs": [
    {
     "data": {
      "text/plain": [
       "0    0.830621\n",
       "1    0.169379\n",
       "Name: click, dtype: float64"
      ]
     },
     "execution_count": 26,
     "metadata": {},
     "output_type": "execute_result"
    }
   ],
   "source": [
    "df_full_train.click.value_counts(normalize=True)"
   ]
  },
  {
   "cell_type": "markdown",
   "id": "be1cda3e",
   "metadata": {},
   "source": [
    "#### As you can see above 83% of the data has click 0 and 16% has click 1."
   ]
  },
  {
   "cell_type": "markdown",
   "id": "ca5b9fec",
   "metadata": {},
   "source": [
    "#### Lets try to do Feature Importance to identify which features are affecting the target variable Click"
   ]
  },
  {
   "cell_type": "code",
   "execution_count": 28,
   "id": "5e796177",
   "metadata": {},
   "outputs": [
    {
     "data": {
      "text/plain": [
       "click             1.000000\n",
       "impression        0.023952\n",
       "url_hash          0.008151\n",
       "ad_id             0.018725\n",
       "advertiser_id     0.030278\n",
       "depth             0.052021\n",
       "position          0.123598\n",
       "query_id          0.077591\n",
       "keyword_id        0.030610\n",
       "title_id          0.015195\n",
       "description_id    0.007121\n",
       "user_id           0.079518\n",
       "dtype: float64"
      ]
     },
     "execution_count": 28,
     "metadata": {},
     "output_type": "execute_result"
    }
   ],
   "source": [
    "corr_mat = df_full_train.corrwith(df.click).abs()\n",
    "corr_mat"
   ]
  },
  {
   "cell_type": "markdown",
   "id": "ae0ac390",
   "metadata": {},
   "source": [
    "#### Position where the Ad has been displayed seems to be more correlated to the click than other attributes."
   ]
  },
  {
   "cell_type": "markdown",
   "id": "d90e98db",
   "metadata": {},
   "source": [
    "### Train a model with LogisticRegression"
   ]
  },
  {
   "cell_type": "code",
   "execution_count": 29,
   "id": "ac366003",
   "metadata": {},
   "outputs": [],
   "source": [
    "from sklearn.feature_extraction import DictVectorizer\n",
    "from sklearn.linear_model import LogisticRegression"
   ]
  },
  {
   "cell_type": "markdown",
   "id": "eb3587bd",
   "metadata": {},
   "source": [
    "#### Since column url_hash has very big values and also as we can see from the correlation matrix that its correlation to the target variable is very less (0.008), removing the column for training purpose."
   ]
  },
  {
   "cell_type": "code",
   "execution_count": 49,
   "id": "23e5532a",
   "metadata": {},
   "outputs": [
    {
     "ename": "KeyError",
     "evalue": "\"['url_hash'] not found in axis\"",
     "output_type": "error",
     "traceback": [
      "\u001b[0;31m---------------------------------------------------------------------------\u001b[0m",
      "\u001b[0;31mKeyError\u001b[0m                                  Traceback (most recent call last)",
      "\u001b[0;32m/var/folders/hb/6ftrzv4d27l4qgry0h5tcc040000gn/T/ipykernel_29400/3529608567.py\u001b[0m in \u001b[0;36m<module>\u001b[0;34m\u001b[0m\n\u001b[1;32m      2\u001b[0m \u001b[0mdf_train_cpy\u001b[0m\u001b[0;34m.\u001b[0m\u001b[0mcolumns\u001b[0m\u001b[0;34m\u001b[0m\u001b[0;34m\u001b[0m\u001b[0m\n\u001b[1;32m      3\u001b[0m \u001b[0mdf_val_cpy\u001b[0m \u001b[0;34m=\u001b[0m \u001b[0mdf_val\u001b[0m\u001b[0;34m.\u001b[0m\u001b[0mcopy\u001b[0m\u001b[0;34m(\u001b[0m\u001b[0;34m)\u001b[0m\u001b[0;34m\u001b[0m\u001b[0;34m\u001b[0m\u001b[0m\n\u001b[0;32m----> 4\u001b[0;31m \u001b[0mdf_train\u001b[0m \u001b[0;34m=\u001b[0m \u001b[0mdf_train\u001b[0m\u001b[0;34m.\u001b[0m\u001b[0mdrop\u001b[0m\u001b[0;34m(\u001b[0m\u001b[0;34m[\u001b[0m\u001b[0;34m'url_hash'\u001b[0m\u001b[0;34m]\u001b[0m\u001b[0;34m,\u001b[0m\u001b[0maxis\u001b[0m\u001b[0;34m=\u001b[0m\u001b[0;36m1\u001b[0m\u001b[0;34m)\u001b[0m\u001b[0;34m\u001b[0m\u001b[0;34m\u001b[0m\u001b[0m\n\u001b[0m\u001b[1;32m      5\u001b[0m \u001b[0mdf_train\u001b[0m\u001b[0;34m.\u001b[0m\u001b[0mcolumns\u001b[0m\u001b[0;34m\u001b[0m\u001b[0;34m\u001b[0m\u001b[0m\n\u001b[1;32m      6\u001b[0m \u001b[0mdf_val\u001b[0m \u001b[0;34m=\u001b[0m \u001b[0mdf_val\u001b[0m\u001b[0;34m.\u001b[0m\u001b[0mdrop\u001b[0m\u001b[0;34m(\u001b[0m\u001b[0;34m[\u001b[0m\u001b[0;34m'url_hash'\u001b[0m\u001b[0;34m]\u001b[0m\u001b[0;34m,\u001b[0m\u001b[0maxis\u001b[0m\u001b[0;34m=\u001b[0m\u001b[0;36m1\u001b[0m\u001b[0;34m)\u001b[0m\u001b[0;34m\u001b[0m\u001b[0;34m\u001b[0m\u001b[0m\n",
      "\u001b[0;32m/usr/local/anaconda3/envs/ml-zoomcamp/lib/python3.8/site-packages/pandas/util/_decorators.py\u001b[0m in \u001b[0;36mwrapper\u001b[0;34m(*args, **kwargs)\u001b[0m\n\u001b[1;32m    309\u001b[0m                     \u001b[0mstacklevel\u001b[0m\u001b[0;34m=\u001b[0m\u001b[0mstacklevel\u001b[0m\u001b[0;34m,\u001b[0m\u001b[0;34m\u001b[0m\u001b[0;34m\u001b[0m\u001b[0m\n\u001b[1;32m    310\u001b[0m                 )\n\u001b[0;32m--> 311\u001b[0;31m             \u001b[0;32mreturn\u001b[0m \u001b[0mfunc\u001b[0m\u001b[0;34m(\u001b[0m\u001b[0;34m*\u001b[0m\u001b[0margs\u001b[0m\u001b[0;34m,\u001b[0m \u001b[0;34m**\u001b[0m\u001b[0mkwargs\u001b[0m\u001b[0;34m)\u001b[0m\u001b[0;34m\u001b[0m\u001b[0;34m\u001b[0m\u001b[0m\n\u001b[0m\u001b[1;32m    312\u001b[0m \u001b[0;34m\u001b[0m\u001b[0m\n\u001b[1;32m    313\u001b[0m         \u001b[0;32mreturn\u001b[0m \u001b[0mwrapper\u001b[0m\u001b[0;34m\u001b[0m\u001b[0;34m\u001b[0m\u001b[0m\n",
      "\u001b[0;32m/usr/local/anaconda3/envs/ml-zoomcamp/lib/python3.8/site-packages/pandas/core/frame.py\u001b[0m in \u001b[0;36mdrop\u001b[0;34m(self, labels, axis, index, columns, level, inplace, errors)\u001b[0m\n\u001b[1;32m   4899\u001b[0m                 \u001b[0mweight\u001b[0m  \u001b[0;36m1.0\u001b[0m     \u001b[0;36m0.8\u001b[0m\u001b[0;34m\u001b[0m\u001b[0;34m\u001b[0m\u001b[0m\n\u001b[1;32m   4900\u001b[0m         \"\"\"\n\u001b[0;32m-> 4901\u001b[0;31m         return super().drop(\n\u001b[0m\u001b[1;32m   4902\u001b[0m             \u001b[0mlabels\u001b[0m\u001b[0;34m=\u001b[0m\u001b[0mlabels\u001b[0m\u001b[0;34m,\u001b[0m\u001b[0;34m\u001b[0m\u001b[0;34m\u001b[0m\u001b[0m\n\u001b[1;32m   4903\u001b[0m             \u001b[0maxis\u001b[0m\u001b[0;34m=\u001b[0m\u001b[0maxis\u001b[0m\u001b[0;34m,\u001b[0m\u001b[0;34m\u001b[0m\u001b[0;34m\u001b[0m\u001b[0m\n",
      "\u001b[0;32m/usr/local/anaconda3/envs/ml-zoomcamp/lib/python3.8/site-packages/pandas/core/generic.py\u001b[0m in \u001b[0;36mdrop\u001b[0;34m(self, labels, axis, index, columns, level, inplace, errors)\u001b[0m\n\u001b[1;32m   4148\u001b[0m         \u001b[0;32mfor\u001b[0m \u001b[0maxis\u001b[0m\u001b[0;34m,\u001b[0m \u001b[0mlabels\u001b[0m \u001b[0;32min\u001b[0m \u001b[0maxes\u001b[0m\u001b[0;34m.\u001b[0m\u001b[0mitems\u001b[0m\u001b[0;34m(\u001b[0m\u001b[0;34m)\u001b[0m\u001b[0;34m:\u001b[0m\u001b[0;34m\u001b[0m\u001b[0;34m\u001b[0m\u001b[0m\n\u001b[1;32m   4149\u001b[0m             \u001b[0;32mif\u001b[0m \u001b[0mlabels\u001b[0m \u001b[0;32mis\u001b[0m \u001b[0;32mnot\u001b[0m \u001b[0;32mNone\u001b[0m\u001b[0;34m:\u001b[0m\u001b[0;34m\u001b[0m\u001b[0;34m\u001b[0m\u001b[0m\n\u001b[0;32m-> 4150\u001b[0;31m                 \u001b[0mobj\u001b[0m \u001b[0;34m=\u001b[0m \u001b[0mobj\u001b[0m\u001b[0;34m.\u001b[0m\u001b[0m_drop_axis\u001b[0m\u001b[0;34m(\u001b[0m\u001b[0mlabels\u001b[0m\u001b[0;34m,\u001b[0m \u001b[0maxis\u001b[0m\u001b[0;34m,\u001b[0m \u001b[0mlevel\u001b[0m\u001b[0;34m=\u001b[0m\u001b[0mlevel\u001b[0m\u001b[0;34m,\u001b[0m \u001b[0merrors\u001b[0m\u001b[0;34m=\u001b[0m\u001b[0merrors\u001b[0m\u001b[0;34m)\u001b[0m\u001b[0;34m\u001b[0m\u001b[0;34m\u001b[0m\u001b[0m\n\u001b[0m\u001b[1;32m   4151\u001b[0m \u001b[0;34m\u001b[0m\u001b[0m\n\u001b[1;32m   4152\u001b[0m         \u001b[0;32mif\u001b[0m \u001b[0minplace\u001b[0m\u001b[0;34m:\u001b[0m\u001b[0;34m\u001b[0m\u001b[0;34m\u001b[0m\u001b[0m\n",
      "\u001b[0;32m/usr/local/anaconda3/envs/ml-zoomcamp/lib/python3.8/site-packages/pandas/core/generic.py\u001b[0m in \u001b[0;36m_drop_axis\u001b[0;34m(self, labels, axis, level, errors)\u001b[0m\n\u001b[1;32m   4183\u001b[0m                 \u001b[0mnew_axis\u001b[0m \u001b[0;34m=\u001b[0m \u001b[0maxis\u001b[0m\u001b[0;34m.\u001b[0m\u001b[0mdrop\u001b[0m\u001b[0;34m(\u001b[0m\u001b[0mlabels\u001b[0m\u001b[0;34m,\u001b[0m \u001b[0mlevel\u001b[0m\u001b[0;34m=\u001b[0m\u001b[0mlevel\u001b[0m\u001b[0;34m,\u001b[0m \u001b[0merrors\u001b[0m\u001b[0;34m=\u001b[0m\u001b[0merrors\u001b[0m\u001b[0;34m)\u001b[0m\u001b[0;34m\u001b[0m\u001b[0;34m\u001b[0m\u001b[0m\n\u001b[1;32m   4184\u001b[0m             \u001b[0;32melse\u001b[0m\u001b[0;34m:\u001b[0m\u001b[0;34m\u001b[0m\u001b[0;34m\u001b[0m\u001b[0m\n\u001b[0;32m-> 4185\u001b[0;31m                 \u001b[0mnew_axis\u001b[0m \u001b[0;34m=\u001b[0m \u001b[0maxis\u001b[0m\u001b[0;34m.\u001b[0m\u001b[0mdrop\u001b[0m\u001b[0;34m(\u001b[0m\u001b[0mlabels\u001b[0m\u001b[0;34m,\u001b[0m \u001b[0merrors\u001b[0m\u001b[0;34m=\u001b[0m\u001b[0merrors\u001b[0m\u001b[0;34m)\u001b[0m\u001b[0;34m\u001b[0m\u001b[0;34m\u001b[0m\u001b[0m\n\u001b[0m\u001b[1;32m   4186\u001b[0m             \u001b[0mresult\u001b[0m \u001b[0;34m=\u001b[0m \u001b[0mself\u001b[0m\u001b[0;34m.\u001b[0m\u001b[0mreindex\u001b[0m\u001b[0;34m(\u001b[0m\u001b[0;34m**\u001b[0m\u001b[0;34m{\u001b[0m\u001b[0maxis_name\u001b[0m\u001b[0;34m:\u001b[0m \u001b[0mnew_axis\u001b[0m\u001b[0;34m}\u001b[0m\u001b[0;34m)\u001b[0m\u001b[0;34m\u001b[0m\u001b[0;34m\u001b[0m\u001b[0m\n\u001b[1;32m   4187\u001b[0m \u001b[0;34m\u001b[0m\u001b[0m\n",
      "\u001b[0;32m/usr/local/anaconda3/envs/ml-zoomcamp/lib/python3.8/site-packages/pandas/core/indexes/base.py\u001b[0m in \u001b[0;36mdrop\u001b[0;34m(self, labels, errors)\u001b[0m\n\u001b[1;32m   6016\u001b[0m         \u001b[0;32mif\u001b[0m \u001b[0mmask\u001b[0m\u001b[0;34m.\u001b[0m\u001b[0many\u001b[0m\u001b[0;34m(\u001b[0m\u001b[0;34m)\u001b[0m\u001b[0;34m:\u001b[0m\u001b[0;34m\u001b[0m\u001b[0;34m\u001b[0m\u001b[0m\n\u001b[1;32m   6017\u001b[0m             \u001b[0;32mif\u001b[0m \u001b[0merrors\u001b[0m \u001b[0;34m!=\u001b[0m \u001b[0;34m\"ignore\"\u001b[0m\u001b[0;34m:\u001b[0m\u001b[0;34m\u001b[0m\u001b[0;34m\u001b[0m\u001b[0m\n\u001b[0;32m-> 6018\u001b[0;31m                 \u001b[0;32mraise\u001b[0m \u001b[0mKeyError\u001b[0m\u001b[0;34m(\u001b[0m\u001b[0;34mf\"{labels[mask]} not found in axis\"\u001b[0m\u001b[0;34m)\u001b[0m\u001b[0;34m\u001b[0m\u001b[0;34m\u001b[0m\u001b[0m\n\u001b[0m\u001b[1;32m   6019\u001b[0m             \u001b[0mindexer\u001b[0m \u001b[0;34m=\u001b[0m \u001b[0mindexer\u001b[0m\u001b[0;34m[\u001b[0m\u001b[0;34m~\u001b[0m\u001b[0mmask\u001b[0m\u001b[0;34m]\u001b[0m\u001b[0;34m\u001b[0m\u001b[0;34m\u001b[0m\u001b[0m\n\u001b[1;32m   6020\u001b[0m         \u001b[0;32mreturn\u001b[0m \u001b[0mself\u001b[0m\u001b[0;34m.\u001b[0m\u001b[0mdelete\u001b[0m\u001b[0;34m(\u001b[0m\u001b[0mindexer\u001b[0m\u001b[0;34m)\u001b[0m\u001b[0;34m\u001b[0m\u001b[0;34m\u001b[0m\u001b[0m\n",
      "\u001b[0;31mKeyError\u001b[0m: \"['url_hash'] not found in axis\""
     ]
    }
   ],
   "source": [
    "df_train_cpy = df_train.copy()\n",
    "df_train_cpy.columns\n",
    "\n",
    "df_train = df_train.drop(['url_hash'],axis=1)\n",
    "\n"
   ]
  },
  {
   "cell_type": "code",
   "execution_count": 50,
   "id": "8ff2a598",
   "metadata": {},
   "outputs": [],
   "source": [
    "df_val_cpy = df_val.copy()\n",
    "df_val = df_val.drop(['url_hash'],axis=1)"
   ]
  },
  {
   "cell_type": "code",
   "execution_count": 51,
   "id": "9fd79c78",
   "metadata": {},
   "outputs": [
    {
     "data": {
      "text/plain": [
       "LogisticRegression(random_state=42, solver='liblinear')"
      ]
     },
     "execution_count": 51,
     "metadata": {},
     "output_type": "execute_result"
    }
   ],
   "source": [
    "dv = DictVectorizer(sparse=False)\n",
    "\n",
    "train_dict = df_train.to_dict(orient='records')\n",
    "X_train = dv.fit_transform(train_dict)\n",
    "\n",
    "model = LogisticRegression(solver='liblinear', C=1.0, random_state=42)\n",
    "model.fit(X_train, y_train)"
   ]
  },
  {
   "cell_type": "code",
   "execution_count": 52,
   "id": "d7c9c246",
   "metadata": {},
   "outputs": [],
   "source": [
    "from sklearn.metrics import accuracy_score"
   ]
  },
  {
   "cell_type": "code",
   "execution_count": 53,
   "id": "05ad9fcb",
   "metadata": {},
   "outputs": [
    {
     "data": {
      "text/plain": [
       "0.8369211514392991"
      ]
     },
     "execution_count": 53,
     "metadata": {},
     "output_type": "execute_result"
    }
   ],
   "source": [
    "val_dict = df_val.to_dict(orient='records')\n",
    "X_val = dv.transform(val_dict)\n",
    "\n",
    "y_pred = model.predict_proba(X_val)[:, 1]\n",
    "accuracy_score(y_val, y_pred >= 0.5)"
   ]
  },
  {
   "cell_type": "code",
   "execution_count": 56,
   "id": "0f392af6",
   "metadata": {},
   "outputs": [
    {
     "name": "stdout",
     "output_type": "stream",
     "text": [
      "0.00 0.163\n",
      "0.05 0.181\n",
      "0.10 0.254\n",
      "0.15 0.450\n",
      "0.20 0.593\n",
      "0.25 0.656\n",
      "0.30 0.745\n",
      "0.35 0.785\n",
      "0.40 0.809\n",
      "0.45 0.827\n",
      "0.50 0.837\n",
      "0.55 0.837\n",
      "0.60 0.837\n",
      "0.65 0.837\n",
      "0.70 0.837\n",
      "0.75 0.837\n",
      "0.80 0.837\n",
      "0.85 0.837\n",
      "0.90 0.837\n",
      "0.95 0.837\n",
      "1.00 0.837\n"
     ]
    },
    {
     "data": {
      "text/plain": [
       "[0.16257822277847309,\n",
       " 0.18135168961201503,\n",
       " 0.2536921151439299,\n",
       " 0.45043804755944933,\n",
       " 0.592866082603254,\n",
       " 0.6555694618272842,\n",
       " 0.7451814768460576,\n",
       " 0.7847309136420526,\n",
       " 0.8085106382978723,\n",
       " 0.8266583229036295,\n",
       " 0.8369211514392991,\n",
       " 0.83729662077597,\n",
       " 0.83729662077597,\n",
       " 0.8374217772215269,\n",
       " 0.8374217772215269,\n",
       " 0.8374217772215269,\n",
       " 0.8374217772215269,\n",
       " 0.8374217772215269,\n",
       " 0.8374217772215269,\n",
       " 0.8374217772215269,\n",
       " 0.8374217772215269]"
      ]
     },
     "execution_count": 56,
     "metadata": {},
     "output_type": "execute_result"
    }
   ],
   "source": [
    "thresholds = np.linspace(0, 1, 21)\n",
    "\n",
    "scores = []\n",
    "\n",
    "for t in thresholds:\n",
    "    score = accuracy_score(y_val, y_pred >= t)\n",
    "    print('%.2f %.3f' % (t, score))\n",
    "    scores.append(score)\n",
    "\n",
    "scores"
   ]
  },
  {
   "cell_type": "markdown",
   "id": "7633212c",
   "metadata": {},
   "source": [
    "#### As you can see above, setting the threshold value of 0.5 seems to be the best for predicting accuracy score. "
   ]
  },
  {
   "cell_type": "markdown",
   "id": "a8a776a8",
   "metadata": {},
   "source": [
    "#### Confusion Table for evaluation"
   ]
  },
  {
   "cell_type": "code",
   "execution_count": 81,
   "id": "3961a364",
   "metadata": {},
   "outputs": [
    {
     "data": {
      "text/plain": [
       "array([[6687,    4],\n",
       "       [1299,    0]])"
      ]
     },
     "execution_count": 81,
     "metadata": {},
     "output_type": "execute_result"
    }
   ],
   "source": [
    "actual_positive = (y_val == 1)\n",
    "actual_negative = (y_val == 0)\n",
    "\n",
    "t = 0.5\n",
    "predict_positive = (y_pred >= t)\n",
    "predict_negative = (y_pred < t)\n",
    "\n",
    "tp = (predict_positive & actual_positive).sum()\n",
    "tn = (predict_negative & actual_negative).sum()\n",
    "\n",
    "fp = (predict_positive & actual_negative).sum()\n",
    "fn = (predict_negative & actual_positive).sum()\n",
    "\n",
    "confusion_matrix = np.array([\n",
    "    [tn, fp],\n",
    "    [fn, tp]\n",
    "])\n",
    "confusion_matrix"
   ]
  },
  {
   "cell_type": "markdown",
   "id": "1fdfe9ae",
   "metadata": {},
   "source": [
    "#### Dataset seems to have been divided in such a way that true positive value is 0. We need to perform Cross Validation in the dataset to train the model in various different subsets."
   ]
  },
  {
   "cell_type": "code",
   "execution_count": 86,
   "id": "e1985027",
   "metadata": {},
   "outputs": [],
   "source": [
    "from sklearn.metrics import roc_auc_score"
   ]
  },
  {
   "cell_type": "code",
   "execution_count": 87,
   "id": "af948368",
   "metadata": {},
   "outputs": [
    {
     "data": {
      "text/plain": [
       "0.5633788864639446"
      ]
     },
     "execution_count": 87,
     "metadata": {},
     "output_type": "execute_result"
    }
   ],
   "source": [
    "roc_auc_score(y_val, y_pred)"
   ]
  },
  {
   "cell_type": "markdown",
   "id": "a7d5901c",
   "metadata": {},
   "source": [
    "#### Though the accuracy score is 83% we see that roc_auc_score is 56% and the Precision and Recall we are unable to calculate properly due to the distribution of the dataset. "
   ]
  },
  {
   "cell_type": "markdown",
   "id": "10f8a5d9",
   "metadata": {},
   "source": [
    "#### Applying Cross-Validation using KFold"
   ]
  },
  {
   "cell_type": "code",
   "execution_count": 96,
   "id": "f03d593f",
   "metadata": {},
   "outputs": [],
   "source": [
    "def train(df_train, y_train, C=1.0):\n",
    "    dicts = df_train.to_dict(orient='records')\n",
    "\n",
    "    dv = DictVectorizer(sparse=False)\n",
    "    X_train = dv.fit_transform(dicts)\n",
    "\n",
    "    model = LogisticRegression(solver='liblinear', C=C, random_state=42, max_iter=1000)\n",
    "    model.fit(X_train, y_train)\n",
    "    \n",
    "    return dv, model"
   ]
  },
  {
   "cell_type": "code",
   "execution_count": 97,
   "id": "a31ccac0",
   "metadata": {},
   "outputs": [],
   "source": [
    "def predict(df, dv, model):\n",
    "    dicts = df.to_dict(orient='records')\n",
    "\n",
    "    X = dv.transform(dicts)\n",
    "    y_pred = model.predict_proba(X)[:, 1]\n",
    "\n",
    "    return y_pred"
   ]
  },
  {
   "cell_type": "code",
   "execution_count": 101,
   "id": "35445815",
   "metadata": {},
   "outputs": [],
   "source": [
    "def precision_and_recall(y_val,y_pred):\n",
    "    actual_positive = (y_val == 1)\n",
    "    actual_negative = (y_val == 0)\n",
    "\n",
    "    t = 0.5\n",
    "    predict_positive = (y_pred >= t)\n",
    "    predict_negative = (y_pred < t)\n",
    "\n",
    "    tp = (predict_positive & actual_positive).sum()\n",
    "    tn = (predict_negative & actual_negative).sum()\n",
    "\n",
    "    fp = (predict_positive & actual_negative).sum()\n",
    "    fn = (predict_negative & actual_positive).sum()\n",
    "    p = tp / (tp + fp)\n",
    "    r = tp / (tp + fn)\n",
    "    p, r"
   ]
  },
  {
   "cell_type": "code",
   "execution_count": 98,
   "id": "4851a2e3",
   "metadata": {},
   "outputs": [],
   "source": [
    "from sklearn.model_selection import KFold"
   ]
  },
  {
   "cell_type": "code",
   "execution_count": 91,
   "id": "b40c6ab5",
   "metadata": {},
   "outputs": [
    {
     "name": "stdout",
     "output_type": "stream",
     "text": [
      "Requirement already satisfied: tqdm in /usr/local/anaconda3/lib/python3.8/site-packages (4.59.0)\r\n"
     ]
    }
   ],
   "source": [
    "\n",
    "df_full_train_cpy = df_full_train.copy()\n",
    "df_full_train = df_full_train.drop(['url_hash'],axis=1)"
   ]
  },
  {
   "cell_type": "code",
   "execution_count": 106,
   "id": "7fac07fb",
   "metadata": {},
   "outputs": [
    {
     "name": "stdout",
     "output_type": "stream",
     "text": [
      "C=0.001 0.568348 +- 0.000000\n",
      "C=0.001 0.560483 +- 0.007866\n",
      "C=0.001 0.561084 +- 0.006478\n",
      "C=0.001 0.564312 +- 0.007920\n",
      "C=0.001 0.563848 +- 0.007145\n",
      "C=0.01 0.568362 +- 0.000000\n",
      "C=0.01 0.560490 +- 0.007872\n",
      "C=0.01 0.561089 +- 0.006483\n",
      "C=0.01 0.564317 +- 0.007923\n",
      "C=0.01 0.563854 +- 0.007147\n",
      "C=0.1 0.568356 +- 0.000000\n",
      "C=0.1 0.560487 +- 0.007870\n",
      "C=0.1 0.561087 +- 0.006481\n",
      "C=0.1 0.564315 +- 0.007923\n",
      "C=0.1 0.563851 +- 0.007147\n",
      "C=0.5 0.568362 +- 0.000000\n",
      "C=0.5 0.560489 +- 0.007872\n",
      "C=0.5 0.561089 +- 0.006483\n",
      "C=0.5 0.564316 +- 0.007923\n",
      "C=0.5 0.563853 +- 0.007147\n",
      "C=1 0.568362 +- 0.000000\n",
      "C=1 0.560490 +- 0.007872\n",
      "C=1 0.561089 +- 0.006483\n",
      "C=1 0.564316 +- 0.007923\n",
      "C=1 0.563852 +- 0.007148\n",
      "C=5 0.568356 +- 0.000000\n",
      "C=5 0.560487 +- 0.007870\n",
      "C=5 0.561093 +- 0.006483\n",
      "C=5 0.564319 +- 0.007920\n",
      "C=5 0.563854 +- 0.007145\n",
      "C=10 0.568362 +- 0.000000\n",
      "C=10 0.560489 +- 0.007872\n",
      "C=10 0.561095 +- 0.006485\n",
      "C=10 0.564321 +- 0.007922\n",
      "C=10 0.563856 +- 0.007147\n"
     ]
    }
   ],
   "source": [
    "n_splits = 5\n",
    "\n",
    "for C in [0.001, 0.01, 0.1, 0.5, 1, 5, 10]:\n",
    "    kfold = KFold(n_splits=n_splits, shuffle=True, random_state=1)\n",
    "\n",
    "    scores = []\n",
    "    precision = []\n",
    "    recall = []\n",
    "\n",
    "    for train_idx, val_idx in kfold.split(df_full_train):\n",
    "        df_train = df_full_train.iloc[train_idx]\n",
    "        df_val = df_full_train.iloc[val_idx]\n",
    "\n",
    "        y_train = df_train.click.values\n",
    "        y_val = df_val.click.values\n",
    "\n",
    "        dv, model = train(df_train, y_train, C=C)\n",
    "        y_pred = predict(df_val, dv, model)\n",
    "\n",
    "        auc = roc_auc_score(y_val, y_pred)\n",
    "        scores.append(auc)\n",
    "        print('C=%s %.6f +- %.6f' % (C, np.mean(scores), np.std(scores)))\n",
    "    \n",
    "\n",
    "    "
   ]
  },
  {
   "cell_type": "markdown",
   "id": "1597de38",
   "metadata": {},
   "source": [
    "#### Most of the C parameter values are almost similar. Hence deciding on C=0.01"
   ]
  },
  {
   "cell_type": "code",
   "execution_count": 107,
   "id": "c63d62a2",
   "metadata": {},
   "outputs": [
    {
     "data": {
      "text/plain": [
       "0.546941570185557"
      ]
     },
     "execution_count": 107,
     "metadata": {},
     "output_type": "execute_result"
    }
   ],
   "source": [
    "dv, model = train(df_full_train, df_full_train.click.values, C=0.01)\n",
    "y_pred = predict(df_test, dv, model)\n",
    "\n",
    "auc = roc_auc_score(y_test, y_pred)\n",
    "auc"
   ]
  },
  {
   "cell_type": "markdown",
   "id": "708e8cca",
   "metadata": {},
   "source": [
    "### Prediction accuracy using LogisticRegression = 0.546"
   ]
  },
  {
   "cell_type": "markdown",
   "id": "c1933d6b",
   "metadata": {},
   "source": [
    "#### Training Dataset using Ridge Model"
   ]
  },
  {
   "cell_type": "code",
   "execution_count": 108,
   "id": "f6938768",
   "metadata": {},
   "outputs": [],
   "source": [
    "from sklearn.linear_model import Ridge"
   ]
  },
  {
   "cell_type": "code",
   "execution_count": 112,
   "id": "276e44c4",
   "metadata": {},
   "outputs": [],
   "source": [
    "df_full_train, df_test = train_test_split(df, test_size=0.2, random_state=1)\n",
    "df_train, df_val = train_test_split(df_full_train, test_size=0.25, random_state=1)\n",
    "\n",
    "df_train = df_train.reset_index(drop=True)\n",
    "df_val = df_val.reset_index(drop=True)\n",
    "df_test = df_test.reset_index(drop=True)\n",
    "\n",
    "y_train = df_train.click.values\n",
    "y_val = df_val.click.values\n",
    "y_test = df_test.click.values\n",
    "\n",
    "del df_train['click']\n",
    "del df_val['click']\n",
    "del df_test['click']\n"
   ]
  },
  {
   "cell_type": "code",
   "execution_count": 114,
   "id": "a1943059",
   "metadata": {},
   "outputs": [],
   "source": [
    "df_train_cpy = df_train.copy()\n",
    "df_train_cpy.columns\n",
    "\n",
    "df_train = df_train.drop(['url_hash'],axis=1)\n",
    "\n",
    "df_val_cpy = df_val.copy()\n",
    "df_val = df_val.drop(['url_hash'],axis=1)\n",
    "\n",
    "train_dict = df_train.to_dict(orient='records')\n",
    "X_train = dv.fit_transform(train_dict)\n",
    "\n",
    "val_dict = df_val.to_dict(orient='records')\n",
    "X_val = dv.transform(val_dict)\n"
   ]
  },
  {
   "cell_type": "code",
   "execution_count": 115,
   "id": "45506d24",
   "metadata": {},
   "outputs": [
    {
     "data": {
      "text/plain": [
       "array([0.19499961, 0.18158732, 0.14696818, ..., 0.18989415, 0.11764419,\n",
       "       0.19259215])"
      ]
     },
     "execution_count": 115,
     "metadata": {},
     "output_type": "execute_result"
    }
   ],
   "source": [
    "ridge_model = Ridge(alpha=0, random_state=42)\n",
    "ridge_model.fit(X_train,y_train)\n",
    "\n",
    "val_dict = df_val.to_dict(orient='records')\n",
    "X_val = dv.transform(val_dict)\n",
    "\n",
    "y_pred = ridge_model.predict(X_val)\n",
    "y_pred"
   ]
  },
  {
   "cell_type": "code",
   "execution_count": 116,
   "id": "298eeb20",
   "metadata": {},
   "outputs": [],
   "source": [
    "def rmse(y, y_pred):\n",
    "    se = (y - y_pred) ** 2\n",
    "    mse = se.mean()\n",
    "    return np.sqrt(mse)"
   ]
  },
  {
   "cell_type": "code",
   "execution_count": 117,
   "id": "e2732ed8",
   "metadata": {},
   "outputs": [
    {
     "data": {
      "text/plain": [
       "0.49"
      ]
     },
     "execution_count": 117,
     "metadata": {},
     "output_type": "execute_result"
    }
   ],
   "source": [
    "score_with_alpha_0 = rmse(y_val, y_pred) \n",
    "score_with_alpha_0.round(3)"
   ]
  },
  {
   "cell_type": "code",
   "execution_count": 119,
   "id": "1df4d03d",
   "metadata": {},
   "outputs": [
    {
     "name": "stdout",
     "output_type": "stream",
     "text": [
      "alpha, score 0 0.48964901633762403\n",
      "alpha, score 0.01 0.4896490148661009\n",
      "alpha, score 0.1 0.48964900162347835\n",
      "alpha, score 1 0.48964886930474527\n",
      "alpha, score 10 0.48964755683318206\n"
     ]
    }
   ],
   "source": [
    "for a in [0, 0.01, 0.1, 1, 10]:\n",
    "    ridge_model = Ridge(alpha=a, random_state=42)\n",
    "    ridge_model.fit(X_train,y_train)\n",
    "    y_pred = ridge_model.predict(X_val)\n",
    "    score = rmse(y_val, y_pred)\n",
    "    print('alpha, score', a, score)"
   ]
  },
  {
   "cell_type": "markdown",
   "id": "acde0375",
   "metadata": {},
   "source": [
    "#### As you can see above tuning alpha parameter is not having much of a difference in the scores. Hence alpha = 0 is good enough for the Ridge model"
   ]
  },
  {
   "cell_type": "code",
   "execution_count": 122,
   "id": "a04a6397",
   "metadata": {},
   "outputs": [],
   "source": [
    "df_test_cpy = df_test.copy()\n",
    "df_test = df_test.drop(['url_hash'],axis=1)"
   ]
  },
  {
   "cell_type": "code",
   "execution_count": 123,
   "id": "6cdc067d",
   "metadata": {},
   "outputs": [
    {
     "data": {
      "text/plain": [
       "array([0.0499203 , 0.14773399, 0.15712776, ..., 0.10037121, 0.09295492,\n",
       "       0.23776941])"
      ]
     },
     "execution_count": 123,
     "metadata": {},
     "output_type": "execute_result"
    }
   ],
   "source": [
    "ridge_model = Ridge(alpha=0, random_state=42)\n",
    "ridge_model.fit(X_train,y_train)\n",
    "\n",
    "test_dict = df_test.to_dict(orient='records')\n",
    "X_test = dv.transform(test_dict)\n",
    "\n",
    "y_pred = ridge_model.predict(X_test)\n",
    "y_pred"
   ]
  },
  {
   "cell_type": "code",
   "execution_count": 124,
   "id": "2a188ddf",
   "metadata": {},
   "outputs": [
    {
     "data": {
      "text/plain": [
       "0.365"
      ]
     },
     "execution_count": 124,
     "metadata": {},
     "output_type": "execute_result"
    }
   ],
   "source": [
    "score_with_alpha_0_test = rmse(y_test, y_pred) \n",
    "score_with_alpha_0_test.round(3)"
   ]
  },
  {
   "cell_type": "markdown",
   "id": "171bf949",
   "metadata": {},
   "source": [
    "### RMSE score with Ridge model was low 0.365"
   ]
  },
  {
   "cell_type": "markdown",
   "id": "78854b17",
   "metadata": {},
   "source": [
    "#### Training model with Decision Tree"
   ]
  },
  {
   "cell_type": "code",
   "execution_count": 135,
   "id": "cc2ef8c6",
   "metadata": {},
   "outputs": [],
   "source": [
    "from sklearn.tree import DecisionTreeClassifier\n",
    "from sklearn.tree import export_text\n",
    "from sklearn.metrics import roc_auc_score\n",
    "from sklearn.tree import export_text"
   ]
  },
  {
   "cell_type": "code",
   "execution_count": 127,
   "id": "93614fee",
   "metadata": {},
   "outputs": [
    {
     "data": {
      "text/plain": [
       "DecisionTreeClassifier(max_depth=1)"
      ]
     },
     "execution_count": 127,
     "metadata": {},
     "output_type": "execute_result"
    }
   ],
   "source": [
    "dt = DecisionTreeClassifier(max_depth=1)\n",
    "dt.fit(X_train, y_train)"
   ]
  },
  {
   "cell_type": "code",
   "execution_count": 129,
   "id": "c00785cf",
   "metadata": {},
   "outputs": [
    {
     "data": {
      "text/plain": [
       "0.5663410537680653"
      ]
     },
     "execution_count": 129,
     "metadata": {},
     "output_type": "execute_result"
    }
   ],
   "source": [
    "y_pred = dt.predict_proba(X_val)[:, 1]\n",
    "score_depth_1 = roc_auc_score(y_val, y_pred)\n",
    "score_depth_1"
   ]
  },
  {
   "cell_type": "markdown",
   "id": "563d6965",
   "metadata": {},
   "source": [
    "#### Lets tune the max_depth and min_samples_leaf parameter and see if the score improves"
   ]
  },
  {
   "cell_type": "code",
   "execution_count": 130,
   "id": "de127183",
   "metadata": {},
   "outputs": [
    {
     "name": "stdout",
     "output_type": "stream",
     "text": [
      "   1 -> 0.566\n",
      "   2 -> 0.619\n",
      "   3 -> 0.635\n",
      "   4 -> 0.649\n",
      "   5 -> 0.662\n",
      "   6 -> 0.673\n",
      "  10 -> 0.647\n",
      "  15 -> 0.602\n",
      "  20 -> 0.575\n",
      "None -> 0.557\n"
     ]
    }
   ],
   "source": [
    "depths = [1, 2, 3, 4, 5, 6, 10, 15, 20, None]\n",
    "\n",
    "for depth in depths: \n",
    "    dt = DecisionTreeClassifier(max_depth=depth)\n",
    "    dt.fit(X_train, y_train)\n",
    "    \n",
    "    y_pred = dt.predict_proba(X_val)[:, 1]\n",
    "    auc = roc_auc_score(y_val, y_pred)\n",
    "    \n",
    "    print('%4s -> %.3f' % (depth, auc))"
   ]
  },
  {
   "cell_type": "markdown",
   "id": "fa7536f2",
   "metadata": {},
   "source": [
    "#### max_depth = [5, 6]  seems to give better scores. But to prevent overfitting lets take max_depth values [4,5,6] and tune the min_sample_leaf parameter"
   ]
  },
  {
   "cell_type": "code",
   "execution_count": 131,
   "id": "e2d12976",
   "metadata": {},
   "outputs": [],
   "source": [
    "scores = []\n",
    "\n",
    "for depth in [4, 5, 6]:\n",
    "    for s in [1, 5, 10, 15, 20, 500, 100, 200]:\n",
    "        dt = DecisionTreeClassifier(max_depth=depth, min_samples_leaf=s)\n",
    "        dt.fit(X_train, y_train)\n",
    "\n",
    "        y_pred = dt.predict_proba(X_val)[:, 1]\n",
    "        auc = roc_auc_score(y_val, y_pred)\n",
    "        \n",
    "        scores.append((depth, s, auc))"
   ]
  },
  {
   "cell_type": "code",
   "execution_count": 132,
   "id": "18567cf5",
   "metadata": {},
   "outputs": [
    {
     "data": {
      "text/html": [
       "<div>\n",
       "<style scoped>\n",
       "    .dataframe tbody tr th:only-of-type {\n",
       "        vertical-align: middle;\n",
       "    }\n",
       "\n",
       "    .dataframe tbody tr th {\n",
       "        vertical-align: top;\n",
       "    }\n",
       "\n",
       "    .dataframe thead tr th {\n",
       "        text-align: left;\n",
       "    }\n",
       "\n",
       "    .dataframe thead tr:last-of-type th {\n",
       "        text-align: right;\n",
       "    }\n",
       "</style>\n",
       "<table border=\"1\" class=\"dataframe\">\n",
       "  <thead>\n",
       "    <tr>\n",
       "      <th></th>\n",
       "      <th colspan=\"3\" halign=\"left\">auc</th>\n",
       "    </tr>\n",
       "    <tr>\n",
       "      <th>max_depth</th>\n",
       "      <th>4</th>\n",
       "      <th>5</th>\n",
       "      <th>6</th>\n",
       "    </tr>\n",
       "    <tr>\n",
       "      <th>min_samples_leaf</th>\n",
       "      <th></th>\n",
       "      <th></th>\n",
       "      <th></th>\n",
       "    </tr>\n",
       "  </thead>\n",
       "  <tbody>\n",
       "    <tr>\n",
       "      <th>1</th>\n",
       "      <td>0.649</td>\n",
       "      <td>0.662</td>\n",
       "      <td>0.672</td>\n",
       "    </tr>\n",
       "    <tr>\n",
       "      <th>5</th>\n",
       "      <td>0.649</td>\n",
       "      <td>0.662</td>\n",
       "      <td>0.673</td>\n",
       "    </tr>\n",
       "    <tr>\n",
       "      <th>10</th>\n",
       "      <td>0.649</td>\n",
       "      <td>0.663</td>\n",
       "      <td>0.674</td>\n",
       "    </tr>\n",
       "    <tr>\n",
       "      <th>15</th>\n",
       "      <td>0.649</td>\n",
       "      <td>0.664</td>\n",
       "      <td>0.675</td>\n",
       "    </tr>\n",
       "    <tr>\n",
       "      <th>20</th>\n",
       "      <td>0.649</td>\n",
       "      <td>0.664</td>\n",
       "      <td>0.675</td>\n",
       "    </tr>\n",
       "    <tr>\n",
       "      <th>100</th>\n",
       "      <td>0.650</td>\n",
       "      <td>0.664</td>\n",
       "      <td>0.672</td>\n",
       "    </tr>\n",
       "    <tr>\n",
       "      <th>200</th>\n",
       "      <td>0.650</td>\n",
       "      <td>0.663</td>\n",
       "      <td>0.672</td>\n",
       "    </tr>\n",
       "    <tr>\n",
       "      <th>500</th>\n",
       "      <td>0.651</td>\n",
       "      <td>0.659</td>\n",
       "      <td>0.665</td>\n",
       "    </tr>\n",
       "  </tbody>\n",
       "</table>\n",
       "</div>"
      ],
      "text/plain": [
       "                    auc              \n",
       "max_depth             4      5      6\n",
       "min_samples_leaf                     \n",
       "1                 0.649  0.662  0.672\n",
       "5                 0.649  0.662  0.673\n",
       "10                0.649  0.663  0.674\n",
       "15                0.649  0.664  0.675\n",
       "20                0.649  0.664  0.675\n",
       "100               0.650  0.664  0.672\n",
       "200               0.650  0.663  0.672\n",
       "500               0.651  0.659  0.665"
      ]
     },
     "execution_count": 132,
     "metadata": {},
     "output_type": "execute_result"
    }
   ],
   "source": [
    "columns = ['max_depth', 'min_samples_leaf', 'auc']\n",
    "df_scores = pd.DataFrame(scores, columns=columns)\n",
    "\n",
    "df_scores_pivot = df_scores.pivot(index='min_samples_leaf', columns=['max_depth'], values=['auc'])\n",
    "df_scores_pivot.round(3)"
   ]
  },
  {
   "cell_type": "code",
   "execution_count": 133,
   "id": "b2910422",
   "metadata": {},
   "outputs": [
    {
     "data": {
      "text/plain": [
       "<AxesSubplot:xlabel='None-max_depth', ylabel='min_samples_leaf'>"
      ]
     },
     "execution_count": 133,
     "metadata": {},
     "output_type": "execute_result"
    },
    {
     "data": {
      "image/png": "[encoded data removed]",
      "text/plain": [
       "<Figure size 432x288 with 2 Axes>"
      ]
     },
     "metadata": {
      "needs_background": "light"
     },
     "output_type": "display_data"
    }
   ],
   "source": [
    "sns.heatmap(df_scores_pivot, annot=True, fmt=\".3f\")\n"
   ]
  },
  {
   "cell_type": "markdown",
   "id": "1912eb92",
   "metadata": {},
   "source": [
    "#### As we can see score seems to be more for max_depth=6 and min_samples_leaf = [15, 20]"
   ]
  },
  {
   "cell_type": "code",
   "execution_count": 134,
   "id": "a50bd33a",
   "metadata": {},
   "outputs": [
    {
     "data": {
      "text/plain": [
       "DecisionTreeClassifier(max_depth=6, min_samples_leaf=15)"
      ]
     },
     "execution_count": 134,
     "metadata": {},
     "output_type": "execute_result"
    }
   ],
   "source": [
    "dt = DecisionTreeClassifier(max_depth=6, min_samples_leaf=15)\n",
    "dt.fit(X_train, y_train)"
   ]
  },
  {
   "cell_type": "code",
   "execution_count": 136,
   "id": "574db195",
   "metadata": {},
   "outputs": [
    {
     "name": "stdout",
     "output_type": "stream",
     "text": [
      "|--- user_id <= 239403.00\n",
      "|   |--- impression <= 6.50\n",
      "|   |   |--- impression <= 1.50\n",
      "|   |   |   |--- keyword_id <= 357352.00\n",
      "|   |   |   |   |--- user_id <= 26258.50\n",
      "|   |   |   |   |   |--- depth <= 2.50\n",
      "|   |   |   |   |   |   |--- class: 0\n",
      "|   |   |   |   |   |--- depth >  2.50\n",
      "|   |   |   |   |   |   |--- class: 0\n",
      "|   |   |   |   |--- user_id >  26258.50\n",
      "|   |   |   |   |   |--- query_id <= 64455.00\n",
      "|   |   |   |   |   |   |--- class: 0\n",
      "|   |   |   |   |   |--- query_id >  64455.00\n",
      "|   |   |   |   |   |   |--- class: 0\n",
      "|   |   |   |--- keyword_id >  357352.00\n",
      "|   |   |   |   |--- user_id <= 60201.00\n",
      "|   |   |   |   |   |--- description_id <= 11202.00\n",
      "|   |   |   |   |   |   |--- class: 0\n",
      "|   |   |   |   |   |--- description_id >  11202.00\n",
      "|   |   |   |   |   |   |--- class: 0\n",
      "|   |   |   |   |--- user_id >  60201.00\n",
      "|   |   |   |   |   |--- user_id <= 130287.00\n",
      "|   |   |   |   |   |   |--- class: 1\n",
      "|   |   |   |   |   |--- user_id >  130287.00\n",
      "|   |   |   |   |   |   |--- class: 0\n",
      "|   |   |--- impression >  1.50\n",
      "|   |   |   |--- query_id <= 227839.00\n",
      "|   |   |   |   |--- impression <= 3.50\n",
      "|   |   |   |   |   |--- depth <= 2.50\n",
      "|   |   |   |   |   |   |--- class: 0\n",
      "|   |   |   |   |   |--- depth >  2.50\n",
      "|   |   |   |   |   |   |--- class: 0\n",
      "|   |   |   |   |--- impression >  3.50\n",
      "|   |   |   |   |   |--- user_id <= 30.50\n",
      "|   |   |   |   |   |   |--- class: 0\n",
      "|   |   |   |   |   |--- user_id >  30.50\n",
      "|   |   |   |   |   |   |--- class: 0\n",
      "|   |   |   |--- query_id >  227839.00\n",
      "|   |   |   |   |--- title_id <= 2424805.50\n",
      "|   |   |   |   |   |--- position <= 1.50\n",
      "|   |   |   |   |   |   |--- class: 0\n",
      "|   |   |   |   |   |--- position >  1.50\n",
      "|   |   |   |   |   |   |--- class: 0\n",
      "|   |   |   |   |--- title_id >  2424805.50\n",
      "|   |   |   |   |   |--- class: 0\n",
      "|   |--- impression >  6.50\n",
      "|   |   |--- query_id <= 11215.00\n",
      "|   |   |   |--- ad_id <= 6570783.00\n",
      "|   |   |   |   |--- class: 0\n",
      "|   |   |   |--- ad_id >  6570783.00\n",
      "|   |   |   |   |--- impression <= 16.50\n",
      "|   |   |   |   |   |--- title_id <= 31295.00\n",
      "|   |   |   |   |   |   |--- class: 0\n",
      "|   |   |   |   |   |--- title_id >  31295.00\n",
      "|   |   |   |   |   |   |--- class: 1\n",
      "|   |   |   |   |--- impression >  16.50\n",
      "|   |   |   |   |   |--- query_id <= 4346.50\n",
      "|   |   |   |   |   |   |--- class: 1\n",
      "|   |   |   |   |   |--- query_id >  4346.50\n",
      "|   |   |   |   |   |   |--- class: 1\n",
      "|   |   |--- query_id >  11215.00\n",
      "|   |   |   |--- query_id <= 80137.00\n",
      "|   |   |   |   |--- depth <= 2.50\n",
      "|   |   |   |   |   |--- ad_id <= 10723667.50\n",
      "|   |   |   |   |   |   |--- class: 1\n",
      "|   |   |   |   |   |--- ad_id >  10723667.50\n",
      "|   |   |   |   |   |   |--- class: 0\n",
      "|   |   |   |   |--- depth >  2.50\n",
      "|   |   |   |   |   |--- class: 0\n",
      "|   |   |   |--- query_id >  80137.00\n",
      "|   |   |   |   |--- depth <= 1.50\n",
      "|   |   |   |   |   |--- advertiser_id <= 23803.00\n",
      "|   |   |   |   |   |   |--- class: 1\n",
      "|   |   |   |   |   |--- advertiser_id >  23803.00\n",
      "|   |   |   |   |   |   |--- class: 0\n",
      "|   |   |   |   |--- depth >  1.50\n",
      "|   |   |   |   |   |--- keyword_id <= 10247.00\n",
      "|   |   |   |   |   |   |--- class: 0\n",
      "|   |   |   |   |   |--- keyword_id >  10247.00\n",
      "|   |   |   |   |   |   |--- class: 0\n",
      "|--- user_id >  239403.00\n",
      "|   |--- position <= 1.50\n",
      "|   |   |--- query_id <= 2302778.00\n",
      "|   |   |   |--- advertiser_id <= 37286.50\n",
      "|   |   |   |   |--- depth <= 1.50\n",
      "|   |   |   |   |   |--- ad_id <= 3067071.00\n",
      "|   |   |   |   |   |   |--- class: 0\n",
      "|   |   |   |   |   |--- ad_id >  3067071.00\n",
      "|   |   |   |   |   |   |--- class: 0\n",
      "|   |   |   |   |--- depth >  1.50\n",
      "|   |   |   |   |   |--- title_id <= 645.00\n",
      "|   |   |   |   |   |   |--- class: 0\n",
      "|   |   |   |   |   |--- title_id >  645.00\n",
      "|   |   |   |   |   |   |--- class: 0\n",
      "|   |   |   |--- advertiser_id >  37286.50\n",
      "|   |   |   |   |--- keyword_id <= 196.00\n",
      "|   |   |   |   |   |--- user_id <= 1428076.50\n",
      "|   |   |   |   |   |   |--- class: 0\n",
      "|   |   |   |   |   |--- user_id >  1428076.50\n",
      "|   |   |   |   |   |   |--- class: 0\n",
      "|   |   |   |   |--- keyword_id >  196.00\n",
      "|   |   |   |   |   |--- depth <= 2.50\n",
      "|   |   |   |   |   |   |--- class: 0\n",
      "|   |   |   |   |   |--- depth >  2.50\n",
      "|   |   |   |   |   |   |--- class: 0\n",
      "|   |   |--- query_id >  2302778.00\n",
      "|   |   |   |--- keyword_id <= 461509.50\n",
      "|   |   |   |   |--- user_id <= 1043990.50\n",
      "|   |   |   |   |   |--- title_id <= 117590.00\n",
      "|   |   |   |   |   |   |--- class: 0\n",
      "|   |   |   |   |   |--- title_id >  117590.00\n",
      "|   |   |   |   |   |   |--- class: 0\n",
      "|   |   |   |   |--- user_id >  1043990.50\n",
      "|   |   |   |   |   |--- title_id <= 301600.50\n",
      "|   |   |   |   |   |   |--- class: 0\n",
      "|   |   |   |   |   |--- title_id >  301600.50\n",
      "|   |   |   |   |   |   |--- class: 0\n",
      "|   |   |   |--- keyword_id >  461509.50\n",
      "|   |   |   |   |--- title_id <= 1986972.00\n",
      "|   |   |   |   |   |--- class: 0\n",
      "|   |   |   |   |--- title_id >  1986972.00\n",
      "|   |   |   |   |   |--- description_id <= 1891137.00\n",
      "|   |   |   |   |   |   |--- class: 1\n",
      "|   |   |   |   |   |--- description_id >  1891137.00\n",
      "|   |   |   |   |   |   |--- class: 0\n",
      "|   |--- position >  1.50\n",
      "|   |   |--- keyword_id <= 365.00\n",
      "|   |   |   |--- keyword_id <= 0.50\n",
      "|   |   |   |   |--- class: 0\n",
      "|   |   |   |--- keyword_id >  0.50\n",
      "|   |   |   |   |--- description_id <= 26.50\n",
      "|   |   |   |   |   |--- ad_id <= 21145782.00\n",
      "|   |   |   |   |   |   |--- class: 0\n",
      "|   |   |   |   |   |--- ad_id >  21145782.00\n",
      "|   |   |   |   |   |   |--- class: 0\n",
      "|   |   |   |   |--- description_id >  26.50\n",
      "|   |   |   |   |   |--- ad_id <= 20108734.00\n",
      "|   |   |   |   |   |   |--- class: 0\n",
      "|   |   |   |   |   |--- ad_id >  20108734.00\n",
      "|   |   |   |   |   |   |--- class: 0\n",
      "|   |   |--- keyword_id >  365.00\n",
      "|   |   |   |--- impression <= 1.50\n",
      "|   |   |   |   |--- description_id <= 289163.00\n",
      "|   |   |   |   |   |--- advertiser_id <= 3655.00\n",
      "|   |   |   |   |   |   |--- class: 0\n",
      "|   |   |   |   |   |--- advertiser_id >  3655.00\n",
      "|   |   |   |   |   |   |--- class: 0\n",
      "|   |   |   |   |--- description_id >  289163.00\n",
      "|   |   |   |   |   |--- ad_id <= 20317904.00\n",
      "|   |   |   |   |   |   |--- class: 0\n",
      "|   |   |   |   |   |--- ad_id >  20317904.00\n",
      "|   |   |   |   |   |   |--- class: 0\n",
      "|   |   |   |--- impression >  1.50\n",
      "|   |   |   |   |--- query_id <= 1726447.00\n",
      "|   |   |   |   |   |--- keyword_id <= 24960.00\n",
      "|   |   |   |   |   |   |--- class: 0\n",
      "|   |   |   |   |   |--- keyword_id >  24960.00\n",
      "|   |   |   |   |   |   |--- class: 0\n",
      "|   |   |   |   |--- query_id >  1726447.00\n",
      "|   |   |   |   |   |--- advertiser_id <= 13548.50\n",
      "|   |   |   |   |   |   |--- class: 0\n",
      "|   |   |   |   |   |--- advertiser_id >  13548.50\n",
      "|   |   |   |   |   |   |--- class: 0\n",
      "\n"
     ]
    }
   ],
   "source": [
    "print(export_text(dt, feature_names=dv.get_feature_names()))\n"
   ]
  },
  {
   "cell_type": "code",
   "execution_count": 137,
   "id": "a5c7c0d0",
   "metadata": {},
   "outputs": [
    {
     "data": {
      "text/plain": [
       "0.6857114538385953"
      ]
     },
     "execution_count": 137,
     "metadata": {},
     "output_type": "execute_result"
    }
   ],
   "source": [
    "y_pred = dt.predict_proba(X_test)[:, 1]\n",
    "score_with_dt = roc_auc_score(y_test, y_pred)\n",
    "score_with_dt"
   ]
  },
  {
   "cell_type": "markdown",
   "id": "594be74a",
   "metadata": {},
   "source": [
    "### Score with Decision Tree Classifier was 0.685"
   ]
  },
  {
   "cell_type": "markdown",
   "id": "c4c0c4a1",
   "metadata": {},
   "source": [
    "#### Training Data with RandomForest"
   ]
  },
  {
   "cell_type": "code",
   "execution_count": null,
   "id": "2fd78f0d",
   "metadata": {},
   "outputs": [],
   "source": []
  }
 ],
 "metadata": {
  "kernelspec": {
   "display_name": "Python 3 (ipykernel)",
   "language": "python",
   "name": "python3"
  },
  "language_info": {
   "codemirror_mode": {
    "name": "ipython",
    "version": 3
   },
   "file_extension": ".py",
   "mimetype": "text/x-python",
   "name": "python",
   "nbconvert_exporter": "python",
   "pygments_lexer": "ipython3",
   "version": "3.8.11"
  }
 },
 "nbformat": 4,
 "nbformat_minor": 5
}
