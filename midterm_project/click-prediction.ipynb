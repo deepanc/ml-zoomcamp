{
 "cells": [
  {
   "cell_type": "code",
   "execution_count": 1,
   "id": "b5429372",
   "metadata": {},
   "outputs": [],
   "source": [
    "import pandas as pd\n",
    "import numpy as np\n",
    "\n",
    "import matplotlib.pyplot as plt\n",
    "import seaborn as sns\n",
    "\n",
    "%matplotlib inline"
   ]
  },
  {
   "cell_type": "code",
   "execution_count": 4,
   "id": "2725b001",
   "metadata": {},
   "outputs": [
    {
     "name": "stdout",
     "output_type": "stream",
     "text": [
      "--2021-10-24 16:52:21--  https://www.openml.org/data/get_csv/184157/phpfGCaQC.csv\n",
      "Resolving www.openml.org (www.openml.org)... 131.155.11.11\n",
      "Connecting to www.openml.org (www.openml.org)|131.155.11.11|:443... connected.\n",
      "HTTP request sent, awaiting response... 200 OK\n",
      "Length: unspecified [text/plain]\n",
      "Saving to: ‘phpfGCaQC.csv’\n",
      "\n",
      "phpfGCaQC.csv           [       <=>          ]   2.75M  1.57MB/s    in 1.8s    \n",
      "\n",
      "2021-10-24 16:52:24 (1.57 MB/s) - ‘phpfGCaQC.csv’ saved [2885823]\n",
      "\n"
     ]
    }
   ],
   "source": [
    "data = \"https://www.openml.org/data/get_csv/184157/phpfGCaQC.csv\"\n",
    "\n",
    "!wget $data"
   ]
  },
  {
   "cell_type": "markdown",
   "id": "20befa1f",
   "metadata": {},
   "source": [
    "#### Read the data and do the basic EDA"
   ]
  },
  {
   "cell_type": "code",
   "execution_count": 5,
   "id": "3de00230",
   "metadata": {},
   "outputs": [],
   "source": [
    "df = pd.read_csv('click_data.csv')"
   ]
  },
  {
   "cell_type": "code",
   "execution_count": 6,
   "id": "08590c06",
   "metadata": {},
   "outputs": [
    {
     "data": {
      "text/html": [
       "<div>\n",
       "<style scoped>\n",
       "    .dataframe tbody tr th:only-of-type {\n",
       "        vertical-align: middle;\n",
       "    }\n",
       "\n",
       "    .dataframe tbody tr th {\n",
       "        vertical-align: top;\n",
       "    }\n",
       "\n",
       "    .dataframe thead th {\n",
       "        text-align: right;\n",
       "    }\n",
       "</style>\n",
       "<table border=\"1\" class=\"dataframe\">\n",
       "  <thead>\n",
       "    <tr style=\"text-align: right;\">\n",
       "      <th></th>\n",
       "      <th>click</th>\n",
       "      <th>impression</th>\n",
       "      <th>url_hash</th>\n",
       "      <th>ad_id</th>\n",
       "      <th>advertiser_id</th>\n",
       "      <th>depth</th>\n",
       "      <th>position</th>\n",
       "      <th>query_id</th>\n",
       "      <th>keyword_id</th>\n",
       "      <th>title_id</th>\n",
       "      <th>description_id</th>\n",
       "      <th>user_id</th>\n",
       "    </tr>\n",
       "  </thead>\n",
       "  <tbody>\n",
       "    <tr>\n",
       "      <th>0</th>\n",
       "      <td>0</td>\n",
       "      <td>1</td>\n",
       "      <td>1.071003e+19</td>\n",
       "      <td>8343295</td>\n",
       "      <td>11700</td>\n",
       "      <td>3</td>\n",
       "      <td>3</td>\n",
       "      <td>7702266</td>\n",
       "      <td>21264</td>\n",
       "      <td>27892</td>\n",
       "      <td>1559</td>\n",
       "      <td>0</td>\n",
       "    </tr>\n",
       "    <tr>\n",
       "      <th>1</th>\n",
       "      <td>1</td>\n",
       "      <td>1</td>\n",
       "      <td>1.736385e+19</td>\n",
       "      <td>20017077</td>\n",
       "      <td>23798</td>\n",
       "      <td>1</td>\n",
       "      <td>1</td>\n",
       "      <td>93079</td>\n",
       "      <td>35498</td>\n",
       "      <td>4</td>\n",
       "      <td>36476</td>\n",
       "      <td>562934</td>\n",
       "    </tr>\n",
       "    <tr>\n",
       "      <th>2</th>\n",
       "      <td>0</td>\n",
       "      <td>1</td>\n",
       "      <td>8.915473e+18</td>\n",
       "      <td>21348354</td>\n",
       "      <td>36654</td>\n",
       "      <td>1</td>\n",
       "      <td>1</td>\n",
       "      <td>10981</td>\n",
       "      <td>19975</td>\n",
       "      <td>36105</td>\n",
       "      <td>33292</td>\n",
       "      <td>11621116</td>\n",
       "    </tr>\n",
       "    <tr>\n",
       "      <th>3</th>\n",
       "      <td>0</td>\n",
       "      <td>1</td>\n",
       "      <td>4.426693e+18</td>\n",
       "      <td>20366086</td>\n",
       "      <td>33280</td>\n",
       "      <td>3</td>\n",
       "      <td>3</td>\n",
       "      <td>0</td>\n",
       "      <td>5942</td>\n",
       "      <td>4057</td>\n",
       "      <td>4390</td>\n",
       "      <td>8778348</td>\n",
       "    </tr>\n",
       "    <tr>\n",
       "      <th>4</th>\n",
       "      <td>0</td>\n",
       "      <td>1</td>\n",
       "      <td>1.157260e+19</td>\n",
       "      <td>6803526</td>\n",
       "      <td>10790</td>\n",
       "      <td>2</td>\n",
       "      <td>1</td>\n",
       "      <td>9881978</td>\n",
       "      <td>60593</td>\n",
       "      <td>25242</td>\n",
       "      <td>1679</td>\n",
       "      <td>12118311</td>\n",
       "    </tr>\n",
       "  </tbody>\n",
       "</table>\n",
       "</div>"
      ],
      "text/plain": [
       "   click  impression      url_hash     ad_id  advertiser_id  depth  position  \\\n",
       "0      0           1  1.071003e+19   8343295          11700      3         3   \n",
       "1      1           1  1.736385e+19  20017077          23798      1         1   \n",
       "2      0           1  8.915473e+18  21348354          36654      1         1   \n",
       "3      0           1  4.426693e+18  20366086          33280      3         3   \n",
       "4      0           1  1.157260e+19   6803526          10790      2         1   \n",
       "\n",
       "   query_id  keyword_id  title_id  description_id   user_id  \n",
       "0   7702266       21264     27892            1559         0  \n",
       "1     93079       35498         4           36476    562934  \n",
       "2     10981       19975     36105           33292  11621116  \n",
       "3         0        5942      4057            4390   8778348  \n",
       "4   9881978       60593     25242            1679  12118311  "
      ]
     },
     "execution_count": 6,
     "metadata": {},
     "output_type": "execute_result"
    }
   ],
   "source": [
    "df.head()"
   ]
  },
  {
   "cell_type": "code",
   "execution_count": 8,
   "id": "2cb1fc3d",
   "metadata": {},
   "outputs": [
    {
     "data": {
      "text/html": [
       "<div>\n",
       "<style scoped>\n",
       "    .dataframe tbody tr th:only-of-type {\n",
       "        vertical-align: middle;\n",
       "    }\n",
       "\n",
       "    .dataframe tbody tr th {\n",
       "        vertical-align: top;\n",
       "    }\n",
       "\n",
       "    .dataframe thead th {\n",
       "        text-align: right;\n",
       "    }\n",
       "</style>\n",
       "<table border=\"1\" class=\"dataframe\">\n",
       "  <thead>\n",
       "    <tr style=\"text-align: right;\">\n",
       "      <th></th>\n",
       "      <th>click</th>\n",
       "      <th>impression</th>\n",
       "      <th>url_hash</th>\n",
       "      <th>ad_id</th>\n",
       "      <th>advertiser_id</th>\n",
       "      <th>depth</th>\n",
       "      <th>position</th>\n",
       "      <th>query_id</th>\n",
       "      <th>keyword_id</th>\n",
       "      <th>title_id</th>\n",
       "      <th>description_id</th>\n",
       "      <th>user_id</th>\n",
       "    </tr>\n",
       "  </thead>\n",
       "  <tbody>\n",
       "    <tr>\n",
       "      <th>count</th>\n",
       "      <td>39948.000000</td>\n",
       "      <td>39948.000000</td>\n",
       "      <td>3.994800e+04</td>\n",
       "      <td>3.994800e+04</td>\n",
       "      <td>39948.000000</td>\n",
       "      <td>39948.000000</td>\n",
       "      <td>39948.000000</td>\n",
       "      <td>3.994800e+04</td>\n",
       "      <td>3.994800e+04</td>\n",
       "      <td>3.994800e+04</td>\n",
       "      <td>3.994800e+04</td>\n",
       "      <td>3.994800e+04</td>\n",
       "    </tr>\n",
       "    <tr>\n",
       "      <th>mean</th>\n",
       "      <td>0.168419</td>\n",
       "      <td>2.100205</td>\n",
       "      <td>9.641350e+18</td>\n",
       "      <td>1.601672e+07</td>\n",
       "      <td>22454.496546</td>\n",
       "      <td>1.960023</td>\n",
       "      <td>1.463853</td>\n",
       "      <td>3.142146e+06</td>\n",
       "      <td>3.519443e+04</td>\n",
       "      <td>1.732829e+05</td>\n",
       "      <td>1.111509e+05</td>\n",
       "      <td>3.669622e+06</td>\n",
       "    </tr>\n",
       "    <tr>\n",
       "      <th>std</th>\n",
       "      <td>0.374243</td>\n",
       "      <td>65.867383</td>\n",
       "      <td>4.986705e+18</td>\n",
       "      <td>7.222260e+06</td>\n",
       "      <td>11796.085798</td>\n",
       "      <td>0.715407</td>\n",
       "      <td>0.631545</td>\n",
       "      <td>5.841540e+06</td>\n",
       "      <td>1.009148e+05</td>\n",
       "      <td>4.656748e+05</td>\n",
       "      <td>3.283742e+05</td>\n",
       "      <td>5.492058e+06</td>\n",
       "    </tr>\n",
       "    <tr>\n",
       "      <th>min</th>\n",
       "      <td>0.000000</td>\n",
       "      <td>1.000000</td>\n",
       "      <td>4.824369e+14</td>\n",
       "      <td>1.000515e+06</td>\n",
       "      <td>82.000000</td>\n",
       "      <td>1.000000</td>\n",
       "      <td>1.000000</td>\n",
       "      <td>0.000000e+00</td>\n",
       "      <td>0.000000e+00</td>\n",
       "      <td>0.000000e+00</td>\n",
       "      <td>0.000000e+00</td>\n",
       "      <td>0.000000e+00</td>\n",
       "    </tr>\n",
       "    <tr>\n",
       "      <th>25%</th>\n",
       "      <td>0.000000</td>\n",
       "      <td>1.000000</td>\n",
       "      <td>5.468728e+18</td>\n",
       "      <td>9.027238e+06</td>\n",
       "      <td>13476.500000</td>\n",
       "      <td>1.000000</td>\n",
       "      <td>1.000000</td>\n",
       "      <td>2.364250e+03</td>\n",
       "      <td>3.700000e+02</td>\n",
       "      <td>6.707500e+02</td>\n",
       "      <td>3.560000e+02</td>\n",
       "      <td>1.472250e+03</td>\n",
       "    </tr>\n",
       "    <tr>\n",
       "      <th>50%</th>\n",
       "      <td>0.000000</td>\n",
       "      <td>1.000000</td>\n",
       "      <td>1.034947e+19</td>\n",
       "      <td>2.030373e+07</td>\n",
       "      <td>23808.000000</td>\n",
       "      <td>2.000000</td>\n",
       "      <td>1.000000</td>\n",
       "      <td>1.128365e+05</td>\n",
       "      <td>3.389000e+03</td>\n",
       "      <td>1.065400e+04</td>\n",
       "      <td>5.048000e+03</td>\n",
       "      <td>8.883865e+05</td>\n",
       "    </tr>\n",
       "    <tr>\n",
       "      <th>75%</th>\n",
       "      <td>0.000000</td>\n",
       "      <td>1.000000</td>\n",
       "      <td>1.434039e+19</td>\n",
       "      <td>2.116392e+07</td>\n",
       "      <td>32124.000000</td>\n",
       "      <td>2.000000</td>\n",
       "      <td>2.000000</td>\n",
       "      <td>3.147909e+06</td>\n",
       "      <td>2.103000e+04</td>\n",
       "      <td>1.002895e+05</td>\n",
       "      <td>5.286175e+04</td>\n",
       "      <td>5.129631e+06</td>\n",
       "    </tr>\n",
       "    <tr>\n",
       "      <th>max</th>\n",
       "      <td>1.000000</td>\n",
       "      <td>11820.000000</td>\n",
       "      <td>1.844094e+19</td>\n",
       "      <td>2.222734e+07</td>\n",
       "      <td>39074.000000</td>\n",
       "      <td>3.000000</td>\n",
       "      <td>3.000000</td>\n",
       "      <td>2.624010e+07</td>\n",
       "      <td>1.243163e+06</td>\n",
       "      <td>4.050208e+06</td>\n",
       "      <td>3.171504e+06</td>\n",
       "      <td>2.390734e+07</td>\n",
       "    </tr>\n",
       "  </tbody>\n",
       "</table>\n",
       "</div>"
      ],
      "text/plain": [
       "              click    impression      url_hash         ad_id  advertiser_id  \\\n",
       "count  39948.000000  39948.000000  3.994800e+04  3.994800e+04   39948.000000   \n",
       "mean       0.168419      2.100205  9.641350e+18  1.601672e+07   22454.496546   \n",
       "std        0.374243     65.867383  4.986705e+18  7.222260e+06   11796.085798   \n",
       "min        0.000000      1.000000  4.824369e+14  1.000515e+06      82.000000   \n",
       "25%        0.000000      1.000000  5.468728e+18  9.027238e+06   13476.500000   \n",
       "50%        0.000000      1.000000  1.034947e+19  2.030373e+07   23808.000000   \n",
       "75%        0.000000      1.000000  1.434039e+19  2.116392e+07   32124.000000   \n",
       "max        1.000000  11820.000000  1.844094e+19  2.222734e+07   39074.000000   \n",
       "\n",
       "              depth      position      query_id    keyword_id      title_id  \\\n",
       "count  39948.000000  39948.000000  3.994800e+04  3.994800e+04  3.994800e+04   \n",
       "mean       1.960023      1.463853  3.142146e+06  3.519443e+04  1.732829e+05   \n",
       "std        0.715407      0.631545  5.841540e+06  1.009148e+05  4.656748e+05   \n",
       "min        1.000000      1.000000  0.000000e+00  0.000000e+00  0.000000e+00   \n",
       "25%        1.000000      1.000000  2.364250e+03  3.700000e+02  6.707500e+02   \n",
       "50%        2.000000      1.000000  1.128365e+05  3.389000e+03  1.065400e+04   \n",
       "75%        2.000000      2.000000  3.147909e+06  2.103000e+04  1.002895e+05   \n",
       "max        3.000000      3.000000  2.624010e+07  1.243163e+06  4.050208e+06   \n",
       "\n",
       "       description_id       user_id  \n",
       "count    3.994800e+04  3.994800e+04  \n",
       "mean     1.111509e+05  3.669622e+06  \n",
       "std      3.283742e+05  5.492058e+06  \n",
       "min      0.000000e+00  0.000000e+00  \n",
       "25%      3.560000e+02  1.472250e+03  \n",
       "50%      5.048000e+03  8.883865e+05  \n",
       "75%      5.286175e+04  5.129631e+06  \n",
       "max      3.171504e+06  2.390734e+07  "
      ]
     },
     "execution_count": 8,
     "metadata": {},
     "output_type": "execute_result"
    }
   ],
   "source": [
    "df.describe()"
   ]
  },
  {
   "cell_type": "code",
   "execution_count": 9,
   "id": "8a997b5d",
   "metadata": {},
   "outputs": [
    {
     "data": {
      "text/plain": [
       "0"
      ]
     },
     "execution_count": 9,
     "metadata": {},
     "output_type": "execute_result"
    }
   ],
   "source": [
    "df.click.isna().sum()"
   ]
  },
  {
   "cell_type": "code",
   "execution_count": 11,
   "id": "2b8e9ab5",
   "metadata": {},
   "outputs": [
    {
     "data": {
      "text/plain": [
       "click             0\n",
       "impression        0\n",
       "url_hash          0\n",
       "ad_id             0\n",
       "advertiser_id     0\n",
       "depth             0\n",
       "position          0\n",
       "query_id          0\n",
       "keyword_id        0\n",
       "title_id          0\n",
       "description_id    0\n",
       "user_id           0\n",
       "dtype: int64"
      ]
     },
     "execution_count": 11,
     "metadata": {},
     "output_type": "execute_result"
    }
   ],
   "source": [
    "df.isna().sum()"
   ]
  },
  {
   "cell_type": "markdown",
   "id": "c01f3e87",
   "metadata": {},
   "source": [
    "#### Target variable is click. \n",
    "#### Data doesn't seem to have any missing values."
   ]
  },
  {
   "cell_type": "code",
   "execution_count": 12,
   "id": "e2366ace",
   "metadata": {},
   "outputs": [
    {
     "data": {
      "text/plain": [
       "0    33220\n",
       "1     6728\n",
       "Name: click, dtype: int64"
      ]
     },
     "execution_count": 12,
     "metadata": {},
     "output_type": "execute_result"
    }
   ],
   "source": [
    "df.click.value_counts()"
   ]
  },
  {
   "cell_type": "markdown",
   "id": "6dc130aa",
   "metadata": {},
   "source": [
    "#### As we can see above, click 0 has more occurences than click 1. \n",
    "#### Note: The original dataset already had this class imbalance and in the downloaded csv, downsampling of the majority class (click=0) has been done so that the target feature is reasonably balanced (5 to 1). "
   ]
  },
  {
   "cell_type": "markdown",
   "id": "ef6a64b9",
   "metadata": {},
   "source": [
    "#### Lets try to do Feature Importance to identify which features are affecting the target variable Click"
   ]
  },
  {
   "cell_type": "code",
   "execution_count": 17,
   "id": "f4ee1c1c",
   "metadata": {},
   "outputs": [
    {
     "data": {
      "text/plain": [
       "click             1.000000\n",
       "impression        0.023876\n",
       "url_hash         -0.006924\n",
       "ad_id            -0.015202\n",
       "advertiser_id    -0.027146\n",
       "depth            -0.053392\n",
       "position         -0.123688\n",
       "query_id         -0.075456\n",
       "keyword_id        0.027127\n",
       "title_id          0.012609\n",
       "description_id    0.004623\n",
       "user_id           0.078729\n",
       "dtype: float64"
      ]
     },
     "execution_count": 17,
     "metadata": {},
     "output_type": "execute_result"
    }
   ],
   "source": [
    "corr_mat = df.corrwith(df.click)\n",
    "corr_mat"
   ]
  },
  {
   "cell_type": "code",
   "execution_count": 19,
   "id": "c09da40a",
   "metadata": {},
   "outputs": [
    {
     "name": "stdout",
     "output_type": "stream",
     "text": [
      "Collecting imbalanced-learn\n",
      "  Downloading imbalanced_learn-0.8.1-py3-none-any.whl (189 kB)\n",
      "\u001b[K     |████████████████████████████████| 189 kB 1.5 MB/s eta 0:00:01\n",
      "\u001b[?25hRequirement already satisfied: joblib>=0.11 in /usr/local/anaconda3/envs/ml-zoomcamp/lib/python3.8/site-packages (from imbalanced-learn) (1.0.1)\n",
      "Requirement already satisfied: scipy>=0.19.1 in /usr/local/anaconda3/envs/ml-zoomcamp/lib/python3.8/site-packages (from imbalanced-learn) (1.7.1)\n",
      "Requirement already satisfied: numpy>=1.13.3 in /usr/local/anaconda3/envs/ml-zoomcamp/lib/python3.8/site-packages (from imbalanced-learn) (1.20.3)\n",
      "Requirement already satisfied: scikit-learn>=0.24 in /usr/local/anaconda3/envs/ml-zoomcamp/lib/python3.8/site-packages (from imbalanced-learn) (0.24.2)\n",
      "Requirement already satisfied: threadpoolctl>=2.0.0 in /usr/local/anaconda3/envs/ml-zoomcamp/lib/python3.8/site-packages (from scikit-learn>=0.24->imbalanced-learn) (2.2.0)\n",
      "Installing collected packages: imbalanced-learn\n",
      "Successfully installed imbalanced-learn-0.8.1\n",
      "Note: you may need to restart the kernel to use updated packages.\n"
     ]
    }
   ],
   "source": [
    "pip install -U imbalanced-learn"
   ]
  },
  {
   "cell_type": "code",
   "execution_count": 20,
   "id": "42a30d3e",
   "metadata": {},
   "outputs": [
    {
     "name": "stdout",
     "output_type": "stream",
     "text": [
      "0.8.1\n"
     ]
    }
   ],
   "source": [
    "import imblearn\n",
    "print(imblearn.__version__)"
   ]
  },
  {
   "cell_type": "markdown",
   "id": "61ffcdde",
   "metadata": {},
   "source": [
    "#### Try to predict the accuracy, precision, recall and F1 score in the dataset without applying any imbalance technique"
   ]
  },
  {
   "cell_type": "code",
   "execution_count": 21,
   "id": "8c6fea49",
   "metadata": {},
   "outputs": [],
   "source": [
    "from sklearn.model_selection import train_test_split"
   ]
  },
  {
   "cell_type": "code",
   "execution_count": 22,
   "id": "44364238",
   "metadata": {},
   "outputs": [],
   "source": [
    "df_full_train, df_test = train_test_split(df, test_size=0.2, random_state=1)\n",
    "df_train, df_val = train_test_split(df_full_train, test_size=0.25, random_state=1)"
   ]
  },
  {
   "cell_type": "code",
   "execution_count": 23,
   "id": "2e67a01e",
   "metadata": {},
   "outputs": [
    {
     "data": {
      "text/plain": [
       "(23968, 7990, 7990)"
      ]
     },
     "execution_count": 23,
     "metadata": {},
     "output_type": "execute_result"
    }
   ],
   "source": [
    "len(df_train), len(df_val), len(df_test)"
   ]
  },
  {
   "cell_type": "code",
   "execution_count": 24,
   "id": "7ebdaacd",
   "metadata": {},
   "outputs": [],
   "source": [
    "df_train = df_train.reset_index(drop=True)\n",
    "df_val = df_val.reset_index(drop=True)\n",
    "df_test = df_test.reset_index(drop=True)"
   ]
  },
  {
   "cell_type": "code",
   "execution_count": 25,
   "id": "2c44dd94",
   "metadata": {},
   "outputs": [],
   "source": [
    "y_train = df_train.click.values\n",
    "y_val = df_val.click.values\n",
    "y_test = df_test.click.values\n",
    "\n",
    "del df_train['click']\n",
    "del df_val['click']\n",
    "del df_test['click']"
   ]
  },
  {
   "cell_type": "markdown",
   "id": "9c866009",
   "metadata": {},
   "source": [
    "### EDA"
   ]
  },
  {
   "cell_type": "markdown",
   "id": "cbd69786",
   "metadata": {},
   "source": [
    "#### Check the value counts of click variable to understand the imbalance"
   ]
  },
  {
   "cell_type": "code",
   "execution_count": 26,
   "id": "902ba124",
   "metadata": {},
   "outputs": [
    {
     "data": {
      "text/plain": [
       "0    0.830621\n",
       "1    0.169379\n",
       "Name: click, dtype: float64"
      ]
     },
     "execution_count": 26,
     "metadata": {},
     "output_type": "execute_result"
    }
   ],
   "source": [
    "df_full_train.click.value_counts(normalize=True)"
   ]
  },
  {
   "cell_type": "markdown",
   "id": "c1a56a2a",
   "metadata": {},
   "source": [
    "#### As you can see above 83% of the data has click 0 and 16% has click 1."
   ]
  },
  {
   "cell_type": "markdown",
   "id": "2d1c25d0",
   "metadata": {},
   "source": [
    "#### Lets try to do Feature Importance to identify which features are affecting the target variable Click"
   ]
  },
  {
   "cell_type": "code",
   "execution_count": 28,
   "id": "c77bc132",
   "metadata": {},
   "outputs": [
    {
     "data": {
      "text/plain": [
       "click             1.000000\n",
       "impression        0.023952\n",
       "url_hash          0.008151\n",
       "ad_id             0.018725\n",
       "advertiser_id     0.030278\n",
       "depth             0.052021\n",
       "position          0.123598\n",
       "query_id          0.077591\n",
       "keyword_id        0.030610\n",
       "title_id          0.015195\n",
       "description_id    0.007121\n",
       "user_id           0.079518\n",
       "dtype: float64"
      ]
     },
     "execution_count": 28,
     "metadata": {},
     "output_type": "execute_result"
    }
   ],
   "source": [
    "corr_mat = df_full_train.corrwith(df.click).abs()\n",
    "corr_mat"
   ]
  },
  {
   "cell_type": "markdown",
   "id": "ba04d84c",
   "metadata": {},
   "source": [
    "#### Position where the Ad has been displayed seems to be more correlated to the click than other attributes."
   ]
  },
  {
   "cell_type": "markdown",
   "id": "61200e81",
   "metadata": {},
   "source": [
    "### Train a model with LogisticRegression"
   ]
  },
  {
   "cell_type": "code",
   "execution_count": 29,
   "id": "6976469c",
   "metadata": {},
   "outputs": [],
   "source": [
    "from sklearn.feature_extraction import DictVectorizer\n",
    "from sklearn.linear_model import LogisticRegression"
   ]
  },
  {
   "cell_type": "markdown",
   "id": "e470a6ac",
   "metadata": {},
   "source": [
    "#### Since column url_hash has very big values and also as we can see from the correlation matrix that its correlation to the target variable is very less (0.008), removing the column for training purpose."
   ]
  },
  {
   "cell_type": "code",
   "execution_count": 49,
   "id": "fa0805e2",
   "metadata": {},
   "outputs": [
    {
     "ename": "KeyError",
     "evalue": "\"['url_hash'] not found in axis\"",
     "output_type": "error",
     "traceback": [
      "\u001b[0;31m---------------------------------------------------------------------------\u001b[0m",
      "\u001b[0;31mKeyError\u001b[0m                                  Traceback (most recent call last)",
      "\u001b[0;32m/var/folders/hb/6ftrzv4d27l4qgry0h5tcc040000gn/T/ipykernel_29400/3529608567.py\u001b[0m in \u001b[0;36m<module>\u001b[0;34m\u001b[0m\n\u001b[1;32m      2\u001b[0m \u001b[0mdf_train_cpy\u001b[0m\u001b[0;34m.\u001b[0m\u001b[0mcolumns\u001b[0m\u001b[0;34m\u001b[0m\u001b[0;34m\u001b[0m\u001b[0m\n\u001b[1;32m      3\u001b[0m \u001b[0mdf_val_cpy\u001b[0m \u001b[0;34m=\u001b[0m \u001b[0mdf_val\u001b[0m\u001b[0;34m.\u001b[0m\u001b[0mcopy\u001b[0m\u001b[0;34m(\u001b[0m\u001b[0;34m)\u001b[0m\u001b[0;34m\u001b[0m\u001b[0;34m\u001b[0m\u001b[0m\n\u001b[0;32m----> 4\u001b[0;31m \u001b[0mdf_train\u001b[0m \u001b[0;34m=\u001b[0m \u001b[0mdf_train\u001b[0m\u001b[0;34m.\u001b[0m\u001b[0mdrop\u001b[0m\u001b[0;34m(\u001b[0m\u001b[0;34m[\u001b[0m\u001b[0;34m'url_hash'\u001b[0m\u001b[0;34m]\u001b[0m\u001b[0;34m,\u001b[0m\u001b[0maxis\u001b[0m\u001b[0;34m=\u001b[0m\u001b[0;36m1\u001b[0m\u001b[0;34m)\u001b[0m\u001b[0;34m\u001b[0m\u001b[0;34m\u001b[0m\u001b[0m\n\u001b[0m\u001b[1;32m      5\u001b[0m \u001b[0mdf_train\u001b[0m\u001b[0;34m.\u001b[0m\u001b[0mcolumns\u001b[0m\u001b[0;34m\u001b[0m\u001b[0;34m\u001b[0m\u001b[0m\n\u001b[1;32m      6\u001b[0m \u001b[0mdf_val\u001b[0m \u001b[0;34m=\u001b[0m \u001b[0mdf_val\u001b[0m\u001b[0;34m.\u001b[0m\u001b[0mdrop\u001b[0m\u001b[0;34m(\u001b[0m\u001b[0;34m[\u001b[0m\u001b[0;34m'url_hash'\u001b[0m\u001b[0;34m]\u001b[0m\u001b[0;34m,\u001b[0m\u001b[0maxis\u001b[0m\u001b[0;34m=\u001b[0m\u001b[0;36m1\u001b[0m\u001b[0;34m)\u001b[0m\u001b[0;34m\u001b[0m\u001b[0;34m\u001b[0m\u001b[0m\n",
      "\u001b[0;32m/usr/local/anaconda3/envs/ml-zoomcamp/lib/python3.8/site-packages/pandas/util/_decorators.py\u001b[0m in \u001b[0;36mwrapper\u001b[0;34m(*args, **kwargs)\u001b[0m\n\u001b[1;32m    309\u001b[0m                     \u001b[0mstacklevel\u001b[0m\u001b[0;34m=\u001b[0m\u001b[0mstacklevel\u001b[0m\u001b[0;34m,\u001b[0m\u001b[0;34m\u001b[0m\u001b[0;34m\u001b[0m\u001b[0m\n\u001b[1;32m    310\u001b[0m                 )\n\u001b[0;32m--> 311\u001b[0;31m             \u001b[0;32mreturn\u001b[0m \u001b[0mfunc\u001b[0m\u001b[0;34m(\u001b[0m\u001b[0;34m*\u001b[0m\u001b[0margs\u001b[0m\u001b[0;34m,\u001b[0m \u001b[0;34m**\u001b[0m\u001b[0mkwargs\u001b[0m\u001b[0;34m)\u001b[0m\u001b[0;34m\u001b[0m\u001b[0;34m\u001b[0m\u001b[0m\n\u001b[0m\u001b[1;32m    312\u001b[0m \u001b[0;34m\u001b[0m\u001b[0m\n\u001b[1;32m    313\u001b[0m         \u001b[0;32mreturn\u001b[0m \u001b[0mwrapper\u001b[0m\u001b[0;34m\u001b[0m\u001b[0;34m\u001b[0m\u001b[0m\n",
      "\u001b[0;32m/usr/local/anaconda3/envs/ml-zoomcamp/lib/python3.8/site-packages/pandas/core/frame.py\u001b[0m in \u001b[0;36mdrop\u001b[0;34m(self, labels, axis, index, columns, level, inplace, errors)\u001b[0m\n\u001b[1;32m   4899\u001b[0m                 \u001b[0mweight\u001b[0m  \u001b[0;36m1.0\u001b[0m     \u001b[0;36m0.8\u001b[0m\u001b[0;34m\u001b[0m\u001b[0;34m\u001b[0m\u001b[0m\n\u001b[1;32m   4900\u001b[0m         \"\"\"\n\u001b[0;32m-> 4901\u001b[0;31m         return super().drop(\n\u001b[0m\u001b[1;32m   4902\u001b[0m             \u001b[0mlabels\u001b[0m\u001b[0;34m=\u001b[0m\u001b[0mlabels\u001b[0m\u001b[0;34m,\u001b[0m\u001b[0;34m\u001b[0m\u001b[0;34m\u001b[0m\u001b[0m\n\u001b[1;32m   4903\u001b[0m             \u001b[0maxis\u001b[0m\u001b[0;34m=\u001b[0m\u001b[0maxis\u001b[0m\u001b[0;34m,\u001b[0m\u001b[0;34m\u001b[0m\u001b[0;34m\u001b[0m\u001b[0m\n",
      "\u001b[0;32m/usr/local/anaconda3/envs/ml-zoomcamp/lib/python3.8/site-packages/pandas/core/generic.py\u001b[0m in \u001b[0;36mdrop\u001b[0;34m(self, labels, axis, index, columns, level, inplace, errors)\u001b[0m\n\u001b[1;32m   4148\u001b[0m         \u001b[0;32mfor\u001b[0m \u001b[0maxis\u001b[0m\u001b[0;34m,\u001b[0m \u001b[0mlabels\u001b[0m \u001b[0;32min\u001b[0m \u001b[0maxes\u001b[0m\u001b[0;34m.\u001b[0m\u001b[0mitems\u001b[0m\u001b[0;34m(\u001b[0m\u001b[0;34m)\u001b[0m\u001b[0;34m:\u001b[0m\u001b[0;34m\u001b[0m\u001b[0;34m\u001b[0m\u001b[0m\n\u001b[1;32m   4149\u001b[0m             \u001b[0;32mif\u001b[0m \u001b[0mlabels\u001b[0m \u001b[0;32mis\u001b[0m \u001b[0;32mnot\u001b[0m \u001b[0;32mNone\u001b[0m\u001b[0;34m:\u001b[0m\u001b[0;34m\u001b[0m\u001b[0;34m\u001b[0m\u001b[0m\n\u001b[0;32m-> 4150\u001b[0;31m                 \u001b[0mobj\u001b[0m \u001b[0;34m=\u001b[0m \u001b[0mobj\u001b[0m\u001b[0;34m.\u001b[0m\u001b[0m_drop_axis\u001b[0m\u001b[0;34m(\u001b[0m\u001b[0mlabels\u001b[0m\u001b[0;34m,\u001b[0m \u001b[0maxis\u001b[0m\u001b[0;34m,\u001b[0m \u001b[0mlevel\u001b[0m\u001b[0;34m=\u001b[0m\u001b[0mlevel\u001b[0m\u001b[0;34m,\u001b[0m \u001b[0merrors\u001b[0m\u001b[0;34m=\u001b[0m\u001b[0merrors\u001b[0m\u001b[0;34m)\u001b[0m\u001b[0;34m\u001b[0m\u001b[0;34m\u001b[0m\u001b[0m\n\u001b[0m\u001b[1;32m   4151\u001b[0m \u001b[0;34m\u001b[0m\u001b[0m\n\u001b[1;32m   4152\u001b[0m         \u001b[0;32mif\u001b[0m \u001b[0minplace\u001b[0m\u001b[0;34m:\u001b[0m\u001b[0;34m\u001b[0m\u001b[0;34m\u001b[0m\u001b[0m\n",
      "\u001b[0;32m/usr/local/anaconda3/envs/ml-zoomcamp/lib/python3.8/site-packages/pandas/core/generic.py\u001b[0m in \u001b[0;36m_drop_axis\u001b[0;34m(self, labels, axis, level, errors)\u001b[0m\n\u001b[1;32m   4183\u001b[0m                 \u001b[0mnew_axis\u001b[0m \u001b[0;34m=\u001b[0m \u001b[0maxis\u001b[0m\u001b[0;34m.\u001b[0m\u001b[0mdrop\u001b[0m\u001b[0;34m(\u001b[0m\u001b[0mlabels\u001b[0m\u001b[0;34m,\u001b[0m \u001b[0mlevel\u001b[0m\u001b[0;34m=\u001b[0m\u001b[0mlevel\u001b[0m\u001b[0;34m,\u001b[0m \u001b[0merrors\u001b[0m\u001b[0;34m=\u001b[0m\u001b[0merrors\u001b[0m\u001b[0;34m)\u001b[0m\u001b[0;34m\u001b[0m\u001b[0;34m\u001b[0m\u001b[0m\n\u001b[1;32m   4184\u001b[0m             \u001b[0;32melse\u001b[0m\u001b[0;34m:\u001b[0m\u001b[0;34m\u001b[0m\u001b[0;34m\u001b[0m\u001b[0m\n\u001b[0;32m-> 4185\u001b[0;31m                 \u001b[0mnew_axis\u001b[0m \u001b[0;34m=\u001b[0m \u001b[0maxis\u001b[0m\u001b[0;34m.\u001b[0m\u001b[0mdrop\u001b[0m\u001b[0;34m(\u001b[0m\u001b[0mlabels\u001b[0m\u001b[0;34m,\u001b[0m \u001b[0merrors\u001b[0m\u001b[0;34m=\u001b[0m\u001b[0merrors\u001b[0m\u001b[0;34m)\u001b[0m\u001b[0;34m\u001b[0m\u001b[0;34m\u001b[0m\u001b[0m\n\u001b[0m\u001b[1;32m   4186\u001b[0m             \u001b[0mresult\u001b[0m \u001b[0;34m=\u001b[0m \u001b[0mself\u001b[0m\u001b[0;34m.\u001b[0m\u001b[0mreindex\u001b[0m\u001b[0;34m(\u001b[0m\u001b[0;34m**\u001b[0m\u001b[0;34m{\u001b[0m\u001b[0maxis_name\u001b[0m\u001b[0;34m:\u001b[0m \u001b[0mnew_axis\u001b[0m\u001b[0;34m}\u001b[0m\u001b[0;34m)\u001b[0m\u001b[0;34m\u001b[0m\u001b[0;34m\u001b[0m\u001b[0m\n\u001b[1;32m   4187\u001b[0m \u001b[0;34m\u001b[0m\u001b[0m\n",
      "\u001b[0;32m/usr/local/anaconda3/envs/ml-zoomcamp/lib/python3.8/site-packages/pandas/core/indexes/base.py\u001b[0m in \u001b[0;36mdrop\u001b[0;34m(self, labels, errors)\u001b[0m\n\u001b[1;32m   6016\u001b[0m         \u001b[0;32mif\u001b[0m \u001b[0mmask\u001b[0m\u001b[0;34m.\u001b[0m\u001b[0many\u001b[0m\u001b[0;34m(\u001b[0m\u001b[0;34m)\u001b[0m\u001b[0;34m:\u001b[0m\u001b[0;34m\u001b[0m\u001b[0;34m\u001b[0m\u001b[0m\n\u001b[1;32m   6017\u001b[0m             \u001b[0;32mif\u001b[0m \u001b[0merrors\u001b[0m \u001b[0;34m!=\u001b[0m \u001b[0;34m\"ignore\"\u001b[0m\u001b[0;34m:\u001b[0m\u001b[0;34m\u001b[0m\u001b[0;34m\u001b[0m\u001b[0m\n\u001b[0;32m-> 6018\u001b[0;31m                 \u001b[0;32mraise\u001b[0m \u001b[0mKeyError\u001b[0m\u001b[0;34m(\u001b[0m\u001b[0;34mf\"{labels[mask]} not found in axis\"\u001b[0m\u001b[0;34m)\u001b[0m\u001b[0;34m\u001b[0m\u001b[0;34m\u001b[0m\u001b[0m\n\u001b[0m\u001b[1;32m   6019\u001b[0m             \u001b[0mindexer\u001b[0m \u001b[0;34m=\u001b[0m \u001b[0mindexer\u001b[0m\u001b[0;34m[\u001b[0m\u001b[0;34m~\u001b[0m\u001b[0mmask\u001b[0m\u001b[0;34m]\u001b[0m\u001b[0;34m\u001b[0m\u001b[0;34m\u001b[0m\u001b[0m\n\u001b[1;32m   6020\u001b[0m         \u001b[0;32mreturn\u001b[0m \u001b[0mself\u001b[0m\u001b[0;34m.\u001b[0m\u001b[0mdelete\u001b[0m\u001b[0;34m(\u001b[0m\u001b[0mindexer\u001b[0m\u001b[0;34m)\u001b[0m\u001b[0;34m\u001b[0m\u001b[0;34m\u001b[0m\u001b[0m\n",
      "\u001b[0;31mKeyError\u001b[0m: \"['url_hash'] not found in axis\""
     ]
    }
   ],
   "source": [
    "df_train_cpy = df_train.copy()\n",
    "df_train_cpy.columns\n",
    "\n",
    "df_train = df_train.drop(['url_hash'],axis=1)\n",
    "\n"
   ]
  },
  {
   "cell_type": "code",
   "execution_count": 50,
   "id": "082c3114",
   "metadata": {},
   "outputs": [],
   "source": [
    "df_val_cpy = df_val.copy()\n",
    "df_val = df_val.drop(['url_hash'],axis=1)"
   ]
  },
  {
   "cell_type": "code",
   "execution_count": 51,
   "id": "4963fa4a",
   "metadata": {},
   "outputs": [
    {
     "data": {
      "text/plain": [
       "LogisticRegression(random_state=42, solver='liblinear')"
      ]
     },
     "execution_count": 51,
     "metadata": {},
     "output_type": "execute_result"
    }
   ],
   "source": [
    "dv = DictVectorizer(sparse=False)\n",
    "\n",
    "train_dict = df_train.to_dict(orient='records')\n",
    "X_train = dv.fit_transform(train_dict)\n",
    "\n",
    "model = LogisticRegression(solver='liblinear', C=1.0, random_state=42)\n",
    "model.fit(X_train, y_train)"
   ]
  },
  {
   "cell_type": "code",
   "execution_count": 52,
   "id": "e5824cae",
   "metadata": {},
   "outputs": [],
   "source": [
    "from sklearn.metrics import accuracy_score"
   ]
  },
  {
   "cell_type": "code",
   "execution_count": 53,
   "id": "a59eda20",
   "metadata": {},
   "outputs": [
    {
     "data": {
      "text/plain": [
       "0.8369211514392991"
      ]
     },
     "execution_count": 53,
     "metadata": {},
     "output_type": "execute_result"
    }
   ],
   "source": [
    "val_dict = df_val.to_dict(orient='records')\n",
    "X_val = dv.transform(val_dict)\n",
    "\n",
    "y_pred = model.predict_proba(X_val)[:, 1]\n",
    "accuracy_score(y_val, y_pred >= 0.5)"
   ]
  },
  {
   "cell_type": "code",
   "execution_count": 56,
   "id": "66230903",
   "metadata": {},
   "outputs": [
    {
     "name": "stdout",
     "output_type": "stream",
     "text": [
      "0.00 0.163\n",
      "0.05 0.181\n",
      "0.10 0.254\n",
      "0.15 0.450\n",
      "0.20 0.593\n",
      "0.25 0.656\n",
      "0.30 0.745\n",
      "0.35 0.785\n",
      "0.40 0.809\n",
      "0.45 0.827\n",
      "0.50 0.837\n",
      "0.55 0.837\n",
      "0.60 0.837\n",
      "0.65 0.837\n",
      "0.70 0.837\n",
      "0.75 0.837\n",
      "0.80 0.837\n",
      "0.85 0.837\n",
      "0.90 0.837\n",
      "0.95 0.837\n",
      "1.00 0.837\n"
     ]
    },
    {
     "data": {
      "text/plain": [
       "[0.16257822277847309,\n",
       " 0.18135168961201503,\n",
       " 0.2536921151439299,\n",
       " 0.45043804755944933,\n",
       " 0.592866082603254,\n",
       " 0.6555694618272842,\n",
       " 0.7451814768460576,\n",
       " 0.7847309136420526,\n",
       " 0.8085106382978723,\n",
       " 0.8266583229036295,\n",
       " 0.8369211514392991,\n",
       " 0.83729662077597,\n",
       " 0.83729662077597,\n",
       " 0.8374217772215269,\n",
       " 0.8374217772215269,\n",
       " 0.8374217772215269,\n",
       " 0.8374217772215269,\n",
       " 0.8374217772215269,\n",
       " 0.8374217772215269,\n",
       " 0.8374217772215269,\n",
       " 0.8374217772215269]"
      ]
     },
     "execution_count": 56,
     "metadata": {},
     "output_type": "execute_result"
    }
   ],
   "source": [
    "thresholds = np.linspace(0, 1, 21)\n",
    "\n",
    "scores = []\n",
    "\n",
    "for t in thresholds:\n",
    "    score = accuracy_score(y_val, y_pred >= t)\n",
    "    print('%.2f %.3f' % (t, score))\n",
    "    scores.append(score)\n",
    "\n",
    "scores"
   ]
  },
  {
   "cell_type": "markdown",
   "id": "e4004b66",
   "metadata": {},
   "source": [
    "#### As you can see above, setting the threshold value of 0.5 seems to be the best for predicting accuracy score. "
   ]
  },
  {
   "cell_type": "markdown",
   "id": "e9745a7f",
   "metadata": {},
   "source": [
    "#### Confusion Table for evaluation"
   ]
  },
  {
   "cell_type": "code",
   "execution_count": 81,
   "id": "43733cc8",
   "metadata": {},
   "outputs": [
    {
     "data": {
      "text/plain": [
       "array([[6687,    4],\n",
       "       [1299,    0]])"
      ]
     },
     "execution_count": 81,
     "metadata": {},
     "output_type": "execute_result"
    }
   ],
   "source": [
    "actual_positive = (y_val == 1)\n",
    "actual_negative = (y_val == 0)\n",
    "\n",
    "t = 0.5\n",
    "predict_positive = (y_pred >= t)\n",
    "predict_negative = (y_pred < t)\n",
    "\n",
    "tp = (predict_positive & actual_positive).sum()\n",
    "tn = (predict_negative & actual_negative).sum()\n",
    "\n",
    "fp = (predict_positive & actual_negative).sum()\n",
    "fn = (predict_negative & actual_positive).sum()\n",
    "\n",
    "confusion_matrix = np.array([\n",
    "    [tn, fp],\n",
    "    [fn, tp]\n",
    "])\n",
    "confusion_matrix"
   ]
  },
  {
   "cell_type": "markdown",
   "id": "21d012f1",
   "metadata": {},
   "source": [
    "#### Dataset seems to have been divided in such a way that true positive value is 0. We need to perform Cross Validation in the dataset to train the model in various different subsets."
   ]
  },
  {
   "cell_type": "code",
   "execution_count": 86,
   "id": "3eabb088",
   "metadata": {},
   "outputs": [],
   "source": [
    "from sklearn.metrics import roc_auc_score"
   ]
  },
  {
   "cell_type": "code",
   "execution_count": 87,
   "id": "6aa2d821",
   "metadata": {},
   "outputs": [
    {
     "data": {
      "text/plain": [
       "0.5633788864639446"
      ]
     },
     "execution_count": 87,
     "metadata": {},
     "output_type": "execute_result"
    }
   ],
   "source": [
    "roc_auc_score(y_val, y_pred)"
   ]
  },
  {
   "cell_type": "markdown",
   "id": "83cb9120",
   "metadata": {},
   "source": [
    "#### Though the accuracy score is 83% we see that roc_auc_score is 56% and the Precision and Recall we are unable to calculate properly due to the distribution of the dataset. "
   ]
  },
  {
   "cell_type": "markdown",
   "id": "1577af31",
   "metadata": {},
   "source": [
    "#### Applying Cross-Validation using KFold"
   ]
  },
  {
   "cell_type": "code",
   "execution_count": 96,
   "id": "ec89d57d",
   "metadata": {},
   "outputs": [],
   "source": [
    "def train(df_train, y_train, C=1.0):\n",
    "    dicts = df_train.to_dict(orient='records')\n",
    "\n",
    "    dv = DictVectorizer(sparse=False)\n",
    "    X_train = dv.fit_transform(dicts)\n",
    "\n",
    "    model = LogisticRegression(solver='liblinear', C=C, random_state=42, max_iter=1000)\n",
    "    model.fit(X_train, y_train)\n",
    "    \n",
    "    return dv, model"
   ]
  },
  {
   "cell_type": "code",
   "execution_count": 97,
   "id": "7cc04a2b",
   "metadata": {},
   "outputs": [],
   "source": [
    "def predict(df, dv, model):\n",
    "    dicts = df.to_dict(orient='records')\n",
    "\n",
    "    X = dv.transform(dicts)\n",
    "    y_pred = model.predict_proba(X)[:, 1]\n",
    "\n",
    "    return y_pred"
   ]
  },
  {
   "cell_type": "code",
   "execution_count": 101,
   "id": "38998e3d",
   "metadata": {},
   "outputs": [],
   "source": [
    "def precision_and_recall(y_val,y_pred):\n",
    "    actual_positive = (y_val == 1)\n",
    "    actual_negative = (y_val == 0)\n",
    "\n",
    "    t = 0.5\n",
    "    predict_positive = (y_pred >= t)\n",
    "    predict_negative = (y_pred < t)\n",
    "\n",
    "    tp = (predict_positive & actual_positive).sum()\n",
    "    tn = (predict_negative & actual_negative).sum()\n",
    "\n",
    "    fp = (predict_positive & actual_negative).sum()\n",
    "    fn = (predict_negative & actual_positive).sum()\n",
    "    p = tp / (tp + fp)\n",
    "    r = tp / (tp + fn)\n",
    "    p, r"
   ]
  },
  {
   "cell_type": "code",
   "execution_count": 98,
   "id": "ce691053",
   "metadata": {},
   "outputs": [],
   "source": [
    "from sklearn.model_selection import KFold"
   ]
  },
  {
   "cell_type": "code",
   "execution_count": 91,
   "id": "ca6e904b",
   "metadata": {},
   "outputs": [
    {
     "name": "stdout",
     "output_type": "stream",
     "text": [
      "Requirement already satisfied: tqdm in /usr/local/anaconda3/lib/python3.8/site-packages (4.59.0)\r\n"
     ]
    }
   ],
   "source": [
    "\n",
    "df_full_train_cpy = df_full_train.copy()\n",
    "df_full_train = df_full_train.drop(['url_hash'],axis=1)"
   ]
  },
  {
   "cell_type": "code",
   "execution_count": 106,
   "id": "7ba6c00c",
   "metadata": {},
   "outputs": [
    {
     "name": "stdout",
     "output_type": "stream",
     "text": [
      "C=0.001 0.568348 +- 0.000000\n",
      "C=0.001 0.560483 +- 0.007866\n",
      "C=0.001 0.561084 +- 0.006478\n",
      "C=0.001 0.564312 +- 0.007920\n",
      "C=0.001 0.563848 +- 0.007145\n",
      "C=0.01 0.568362 +- 0.000000\n",
      "C=0.01 0.560490 +- 0.007872\n",
      "C=0.01 0.561089 +- 0.006483\n",
      "C=0.01 0.564317 +- 0.007923\n",
      "C=0.01 0.563854 +- 0.007147\n",
      "C=0.1 0.568356 +- 0.000000\n",
      "C=0.1 0.560487 +- 0.007870\n",
      "C=0.1 0.561087 +- 0.006481\n",
      "C=0.1 0.564315 +- 0.007923\n",
      "C=0.1 0.563851 +- 0.007147\n",
      "C=0.5 0.568362 +- 0.000000\n",
      "C=0.5 0.560489 +- 0.007872\n",
      "C=0.5 0.561089 +- 0.006483\n",
      "C=0.5 0.564316 +- 0.007923\n",
      "C=0.5 0.563853 +- 0.007147\n",
      "C=1 0.568362 +- 0.000000\n",
      "C=1 0.560490 +- 0.007872\n",
      "C=1 0.561089 +- 0.006483\n",
      "C=1 0.564316 +- 0.007923\n",
      "C=1 0.563852 +- 0.007148\n",
      "C=5 0.568356 +- 0.000000\n",
      "C=5 0.560487 +- 0.007870\n",
      "C=5 0.561093 +- 0.006483\n",
      "C=5 0.564319 +- 0.007920\n",
      "C=5 0.563854 +- 0.007145\n",
      "C=10 0.568362 +- 0.000000\n",
      "C=10 0.560489 +- 0.007872\n",
      "C=10 0.561095 +- 0.006485\n",
      "C=10 0.564321 +- 0.007922\n",
      "C=10 0.563856 +- 0.007147\n"
     ]
    }
   ],
   "source": [
    "n_splits = 5\n",
    "\n",
    "for C in [0.001, 0.01, 0.1, 0.5, 1, 5, 10]:\n",
    "    kfold = KFold(n_splits=n_splits, shuffle=True, random_state=1)\n",
    "\n",
    "    scores = []\n",
    "    precision = []\n",
    "    recall = []\n",
    "\n",
    "    for train_idx, val_idx in kfold.split(df_full_train):\n",
    "        df_train = df_full_train.iloc[train_idx]\n",
    "        df_val = df_full_train.iloc[val_idx]\n",
    "\n",
    "        y_train = df_train.click.values\n",
    "        y_val = df_val.click.values\n",
    "\n",
    "        dv, model = train(df_train, y_train, C=C)\n",
    "        y_pred = predict(df_val, dv, model)\n",
    "\n",
    "        auc = roc_auc_score(y_val, y_pred)\n",
    "        scores.append(auc)\n",
    "        print('C=%s %.6f +- %.6f' % (C, np.mean(scores), np.std(scores)))\n",
    "    \n",
    "\n",
    "    "
   ]
  },
  {
   "cell_type": "markdown",
   "id": "39931715",
   "metadata": {},
   "source": [
    "#### Most of the C parameter values are almost similar. Hence deciding on C=0.01"
   ]
  },
  {
   "cell_type": "code",
   "execution_count": 107,
   "id": "2126548e",
   "metadata": {},
   "outputs": [
    {
     "data": {
      "text/plain": [
       "0.546941570185557"
      ]
     },
     "execution_count": 107,
     "metadata": {},
     "output_type": "execute_result"
    }
   ],
   "source": [
    "dv, model = train(df_full_train, df_full_train.click.values, C=0.01)\n",
    "y_pred = predict(df_test, dv, model)\n",
    "\n",
    "auc = roc_auc_score(y_test, y_pred)\n",
    "auc"
   ]
  },
  {
   "cell_type": "markdown",
   "id": "d36f879e",
   "metadata": {},
   "source": [
    "### Prediction accuracy using LogisticRegression = 0.546"
   ]
  },
  {
   "cell_type": "markdown",
   "id": "0c290b1e",
   "metadata": {},
   "source": [
    "#### Training Dataset using Ridge Model"
   ]
  },
  {
   "cell_type": "code",
   "execution_count": 108,
   "id": "1197fc96",
   "metadata": {},
   "outputs": [],
   "source": [
    "from sklearn.linear_model import Ridge"
   ]
  },
  {
   "cell_type": "code",
   "execution_count": 112,
   "id": "8edd5230",
   "metadata": {},
   "outputs": [],
   "source": [
    "df_full_train, df_test = train_test_split(df, test_size=0.2, random_state=1)\n",
    "df_train, df_val = train_test_split(df_full_train, test_size=0.25, random_state=1)\n",
    "\n",
    "df_train = df_train.reset_index(drop=True)\n",
    "df_val = df_val.reset_index(drop=True)\n",
    "df_test = df_test.reset_index(drop=True)\n",
    "\n",
    "y_train = df_train.click.values\n",
    "y_val = df_val.click.values\n",
    "y_test = df_test.click.values\n",
    "\n",
    "del df_train['click']\n",
    "del df_val['click']\n",
    "del df_test['click']\n"
   ]
  },
  {
   "cell_type": "code",
   "execution_count": 114,
   "id": "8bbf11ee",
   "metadata": {},
   "outputs": [],
   "source": [
    "df_train_cpy = df_train.copy()\n",
    "df_train_cpy.columns\n",
    "\n",
    "df_train = df_train.drop(['url_hash'],axis=1)\n",
    "\n",
    "df_val_cpy = df_val.copy()\n",
    "df_val = df_val.drop(['url_hash'],axis=1)\n",
    "\n",
    "train_dict = df_train.to_dict(orient='records')\n",
    "X_train = dv.fit_transform(train_dict)\n",
    "\n",
    "val_dict = df_val.to_dict(orient='records')\n",
    "X_val = dv.transform(val_dict)\n"
   ]
  },
  {
   "cell_type": "code",
   "execution_count": 115,
   "id": "de44b720",
   "metadata": {},
   "outputs": [
    {
     "data": {
      "text/plain": [
       "array([0.19499961, 0.18158732, 0.14696818, ..., 0.18989415, 0.11764419,\n",
       "       0.19259215])"
      ]
     },
     "execution_count": 115,
     "metadata": {},
     "output_type": "execute_result"
    }
   ],
   "source": [
    "ridge_model = Ridge(alpha=0, random_state=42)\n",
    "ridge_model.fit(X_train,y_train)\n",
    "\n",
    "val_dict = df_val.to_dict(orient='records')\n",
    "X_val = dv.transform(val_dict)\n",
    "\n",
    "y_pred = ridge_model.predict(X_val)\n",
    "y_pred"
   ]
  },
  {
   "cell_type": "code",
   "execution_count": 116,
   "id": "f5bf55ed",
   "metadata": {},
   "outputs": [],
   "source": [
    "def rmse(y, y_pred):\n",
    "    se = (y - y_pred) ** 2\n",
    "    mse = se.mean()\n",
    "    return np.sqrt(mse)"
   ]
  },
  {
   "cell_type": "code",
   "execution_count": 117,
   "id": "77dd479d",
   "metadata": {},
   "outputs": [
    {
     "data": {
      "text/plain": [
       "0.49"
      ]
     },
     "execution_count": 117,
     "metadata": {},
     "output_type": "execute_result"
    }
   ],
   "source": [
    "score_with_alpha_0 = rmse(y_val, y_pred) \n",
    "score_with_alpha_0.round(3)"
   ]
  },
  {
   "cell_type": "code",
   "execution_count": 119,
   "id": "c46cb846",
   "metadata": {},
   "outputs": [
    {
     "name": "stdout",
     "output_type": "stream",
     "text": [
      "alpha, score 0 0.48964901633762403\n",
      "alpha, score 0.01 0.4896490148661009\n",
      "alpha, score 0.1 0.48964900162347835\n",
      "alpha, score 1 0.48964886930474527\n",
      "alpha, score 10 0.48964755683318206\n"
     ]
    }
   ],
   "source": [
    "for a in [0, 0.01, 0.1, 1, 10]:\n",
    "    ridge_model = Ridge(alpha=a, random_state=42)\n",
    "    ridge_model.fit(X_train,y_train)\n",
    "    y_pred = ridge_model.predict(X_val)\n",
    "    score = rmse(y_val, y_pred)\n",
    "    print('alpha, score', a, score)"
   ]
  },
  {
   "cell_type": "markdown",
   "id": "b4139b7a",
   "metadata": {},
   "source": [
    "#### As you can see above tuning alpha parameter is not having much of a difference in the scores. Hence alpha = 0 is good enough for the Ridge model"
   ]
  },
  {
   "cell_type": "code",
   "execution_count": 122,
   "id": "3e3d88c6",
   "metadata": {},
   "outputs": [],
   "source": [
    "df_test_cpy = df_test.copy()\n",
    "df_test = df_test.drop(['url_hash'],axis=1)"
   ]
  },
  {
   "cell_type": "code",
   "execution_count": 123,
   "id": "87f25408",
   "metadata": {},
   "outputs": [
    {
     "data": {
      "text/plain": [
       "array([0.0499203 , 0.14773399, 0.15712776, ..., 0.10037121, 0.09295492,\n",
       "       0.23776941])"
      ]
     },
     "execution_count": 123,
     "metadata": {},
     "output_type": "execute_result"
    }
   ],
   "source": [
    "ridge_model = Ridge(alpha=0, random_state=42)\n",
    "ridge_model.fit(X_train,y_train)\n",
    "\n",
    "test_dict = df_test.to_dict(orient='records')\n",
    "X_test = dv.transform(test_dict)\n",
    "\n",
    "y_pred = ridge_model.predict(X_test)\n",
    "y_pred"
   ]
  },
  {
   "cell_type": "code",
   "execution_count": 124,
   "id": "e8fb0f88",
   "metadata": {},
   "outputs": [
    {
     "data": {
      "text/plain": [
       "0.365"
      ]
     },
     "execution_count": 124,
     "metadata": {},
     "output_type": "execute_result"
    }
   ],
   "source": [
    "score_with_alpha_0_test = rmse(y_test, y_pred) \n",
    "score_with_alpha_0_test.round(3)"
   ]
  },
  {
   "cell_type": "markdown",
   "id": "f7ca6aff",
   "metadata": {},
   "source": [
    "### RMSE score with Ridge model was low 0.365"
   ]
  },
  {
   "cell_type": "markdown",
   "id": "c61b831e",
   "metadata": {},
   "source": [
    "#### Training model with Decision Tree"
   ]
  },
  {
   "cell_type": "code",
   "execution_count": 135,
   "id": "534097d3",
   "metadata": {},
   "outputs": [],
   "source": [
    "from sklearn.tree import DecisionTreeClassifier\n",
    "from sklearn.tree import export_text\n",
    "from sklearn.metrics import roc_auc_score\n",
    "from sklearn.tree import export_text"
   ]
  },
  {
   "cell_type": "code",
   "execution_count": 127,
   "id": "7cb22a89",
   "metadata": {},
   "outputs": [
    {
     "data": {
      "text/plain": [
       "DecisionTreeClassifier(max_depth=1)"
      ]
     },
     "execution_count": 127,
     "metadata": {},
     "output_type": "execute_result"
    }
   ],
   "source": [
    "dt = DecisionTreeClassifier(max_depth=1,random_state=42)\n",
    "dt.fit(X_train, y_train)"
   ]
  },
  {
   "cell_type": "code",
   "execution_count": 129,
   "id": "e6247c58",
   "metadata": {},
   "outputs": [
    {
     "data": {
      "text/plain": [
       "0.5663410537680653"
      ]
     },
     "execution_count": 129,
     "metadata": {},
     "output_type": "execute_result"
    }
   ],
   "source": [
    "y_pred = dt.predict_proba(X_val)[:, 1]\n",
    "score_depth_1 = roc_auc_score(y_val, y_pred)\n",
    "score_depth_1"
   ]
  },
  {
   "cell_type": "markdown",
   "id": "bd323b11",
   "metadata": {},
   "source": [
    "#### Lets tune the max_depth and min_samples_leaf parameter and see if the score improves"
   ]
  },
  {
   "cell_type": "code",
   "execution_count": 130,
   "id": "13f4e049",
   "metadata": {},
   "outputs": [
    {
     "name": "stdout",
     "output_type": "stream",
     "text": [
      "   1 -> 0.566\n",
      "   2 -> 0.619\n",
      "   3 -> 0.635\n",
      "   4 -> 0.649\n",
      "   5 -> 0.662\n",
      "   6 -> 0.673\n",
      "  10 -> 0.647\n",
      "  15 -> 0.602\n",
      "  20 -> 0.575\n",
      "None -> 0.557\n"
     ]
    }
   ],
   "source": [
    "depths = [1, 2, 3, 4, 5, 6, 10, 15, 20, None]\n",
    "\n",
    "for depth in depths: \n",
    "    dt = DecisionTreeClassifier(max_depth=depth,random_state=42)\n",
    "    dt.fit(X_train, y_train)\n",
    "    \n",
    "    y_pred = dt.predict_proba(X_val)[:, 1]\n",
    "    auc = roc_auc_score(y_val, y_pred)\n",
    "    \n",
    "    print('%4s -> %.3f' % (depth, auc))"
   ]
  },
  {
   "cell_type": "markdown",
   "id": "60497fe7",
   "metadata": {},
   "source": [
    "#### max_depth = [5, 6]  seems to give better scores. But to prevent overfitting lets take max_depth values [4,5,6] and tune the min_sample_leaf parameter"
   ]
  },
  {
   "cell_type": "code",
   "execution_count": 131,
   "id": "d900a181",
   "metadata": {},
   "outputs": [],
   "source": [
    "scores = []\n",
    "\n",
    "for depth in [4, 5, 6]:\n",
    "    for s in [1, 5, 10, 15, 20, 500, 100, 200]:\n",
    "        dt = DecisionTreeClassifier(max_depth=depth, min_samples_leaf=s,random_state=42)\n",
    "        dt.fit(X_train, y_train)\n",
    "\n",
    "        y_pred = dt.predict_proba(X_val)[:, 1]\n",
    "        auc = roc_auc_score(y_val, y_pred)\n",
    "        \n",
    "        scores.append((depth, s, auc))"
   ]
  },
  {
   "cell_type": "code",
   "execution_count": 132,
   "id": "a6fbc8ca",
   "metadata": {},
   "outputs": [
    {
     "data": {
      "text/html": [
       "<div>\n",
       "<style scoped>\n",
       "    .dataframe tbody tr th:only-of-type {\n",
       "        vertical-align: middle;\n",
       "    }\n",
       "\n",
       "    .dataframe tbody tr th {\n",
       "        vertical-align: top;\n",
       "    }\n",
       "\n",
       "    .dataframe thead tr th {\n",
       "        text-align: left;\n",
       "    }\n",
       "\n",
       "    .dataframe thead tr:last-of-type th {\n",
       "        text-align: right;\n",
       "    }\n",
       "</style>\n",
       "<table border=\"1\" class=\"dataframe\">\n",
       "  <thead>\n",
       "    <tr>\n",
       "      <th></th>\n",
       "      <th colspan=\"3\" halign=\"left\">auc</th>\n",
       "    </tr>\n",
       "    <tr>\n",
       "      <th>max_depth</th>\n",
       "      <th>4</th>\n",
       "      <th>5</th>\n",
       "      <th>6</th>\n",
       "    </tr>\n",
       "    <tr>\n",
       "      <th>min_samples_leaf</th>\n",
       "      <th></th>\n",
       "      <th></th>\n",
       "      <th></th>\n",
       "    </tr>\n",
       "  </thead>\n",
       "  <tbody>\n",
       "    <tr>\n",
       "      <th>1</th>\n",
       "      <td>0.649</td>\n",
       "      <td>0.662</td>\n",
       "      <td>0.672</td>\n",
       "    </tr>\n",
       "    <tr>\n",
       "      <th>5</th>\n",
       "      <td>0.649</td>\n",
       "      <td>0.662</td>\n",
       "      <td>0.673</td>\n",
       "    </tr>\n",
       "    <tr>\n",
       "      <th>10</th>\n",
       "      <td>0.649</td>\n",
       "      <td>0.663</td>\n",
       "      <td>0.674</td>\n",
       "    </tr>\n",
       "    <tr>\n",
       "      <th>15</th>\n",
       "      <td>0.649</td>\n",
       "      <td>0.664</td>\n",
       "      <td>0.675</td>\n",
       "    </tr>\n",
       "    <tr>\n",
       "      <th>20</th>\n",
       "      <td>0.649</td>\n",
       "      <td>0.664</td>\n",
       "      <td>0.675</td>\n",
       "    </tr>\n",
       "    <tr>\n",
       "      <th>100</th>\n",
       "      <td>0.650</td>\n",
       "      <td>0.664</td>\n",
       "      <td>0.672</td>\n",
       "    </tr>\n",
       "    <tr>\n",
       "      <th>200</th>\n",
       "      <td>0.650</td>\n",
       "      <td>0.663</td>\n",
       "      <td>0.672</td>\n",
       "    </tr>\n",
       "    <tr>\n",
       "      <th>500</th>\n",
       "      <td>0.651</td>\n",
       "      <td>0.659</td>\n",
       "      <td>0.665</td>\n",
       "    </tr>\n",
       "  </tbody>\n",
       "</table>\n",
       "</div>"
      ],
      "text/plain": [
       "                    auc              \n",
       "max_depth             4      5      6\n",
       "min_samples_leaf                     \n",
       "1                 0.649  0.662  0.672\n",
       "5                 0.649  0.662  0.673\n",
       "10                0.649  0.663  0.674\n",
       "15                0.649  0.664  0.675\n",
       "20                0.649  0.664  0.675\n",
       "100               0.650  0.664  0.672\n",
       "200               0.650  0.663  0.672\n",
       "500               0.651  0.659  0.665"
      ]
     },
     "execution_count": 132,
     "metadata": {},
     "output_type": "execute_result"
    }
   ],
   "source": [
    "columns = ['max_depth', 'min_samples_leaf', 'auc']\n",
    "df_scores = pd.DataFrame(scores, columns=columns)\n",
    "\n",
    "df_scores_pivot = df_scores.pivot(index='min_samples_leaf', columns=['max_depth'], values=['auc'])\n",
    "df_scores_pivot.round(3)"
   ]
  },
  {
   "cell_type": "code",
   "execution_count": 133,
   "id": "5170d2d9",
   "metadata": {},
   "outputs": [
    {
     "data": {
      "text/plain": [
       "<AxesSubplot:xlabel='None-max_depth', ylabel='min_samples_leaf'>"
      ]
     },
     "execution_count": 133,
     "metadata": {},
     "output_type": "execute_result"
    },
    {
     "data": {
      "image/png": "[encoded data removed]",
      "text/plain": [
       "<Figure size 432x288 with 2 Axes>"
      ]
     },
     "metadata": {
      "needs_background": "light"
     },
     "output_type": "display_data"
    }
   ],
   "source": [
    "sns.heatmap(df_scores_pivot, annot=True, fmt=\".3f\")\n"
   ]
  },
  {
   "cell_type": "markdown",
   "id": "4e7a31dc",
   "metadata": {},
   "source": [
    "#### As we can see score seems to be more for max_depth=6 and min_samples_leaf = [15, 20]"
   ]
  },
  {
   "cell_type": "code",
   "execution_count": 134,
   "id": "a8693fd2",
   "metadata": {},
   "outputs": [
    {
     "data": {
      "text/plain": [
       "DecisionTreeClassifier(max_depth=6, min_samples_leaf=15)"
      ]
     },
     "execution_count": 134,
     "metadata": {},
     "output_type": "execute_result"
    }
   ],
   "source": [
    "dt = DecisionTreeClassifier(max_depth=6, min_samples_leaf=15,random_state=42)\n",
    "dt.fit(X_train, y_train)"
   ]
  },
  {
   "cell_type": "code",
   "execution_count": 136,
   "id": "5d1672ef",
   "metadata": {},
   "outputs": [
    {
     "name": "stdout",
     "output_type": "stream",
     "text": [
      "|--- user_id <= 239403.00\n",
      "|   |--- impression <= 6.50\n",
      "|   |   |--- impression <= 1.50\n",
      "|   |   |   |--- keyword_id <= 357352.00\n",
      "|   |   |   |   |--- user_id <= 26258.50\n",
      "|   |   |   |   |   |--- depth <= 2.50\n",
      "|   |   |   |   |   |   |--- class: 0\n",
      "|   |   |   |   |   |--- depth >  2.50\n",
      "|   |   |   |   |   |   |--- class: 0\n",
      "|   |   |   |   |--- user_id >  26258.50\n",
      "|   |   |   |   |   |--- query_id <= 64455.00\n",
      "|   |   |   |   |   |   |--- class: 0\n",
      "|   |   |   |   |   |--- query_id >  64455.00\n",
      "|   |   |   |   |   |   |--- class: 0\n",
      "|   |   |   |--- keyword_id >  357352.00\n",
      "|   |   |   |   |--- user_id <= 60201.00\n",
      "|   |   |   |   |   |--- description_id <= 11202.00\n",
      "|   |   |   |   |   |   |--- class: 0\n",
      "|   |   |   |   |   |--- description_id >  11202.00\n",
      "|   |   |   |   |   |   |--- class: 0\n",
      "|   |   |   |   |--- user_id >  60201.00\n",
      "|   |   |   |   |   |--- user_id <= 130287.00\n",
      "|   |   |   |   |   |   |--- class: 1\n",
      "|   |   |   |   |   |--- user_id >  130287.00\n",
      "|   |   |   |   |   |   |--- class: 0\n",
      "|   |   |--- impression >  1.50\n",
      "|   |   |   |--- query_id <= 227839.00\n",
      "|   |   |   |   |--- impression <= 3.50\n",
      "|   |   |   |   |   |--- depth <= 2.50\n",
      "|   |   |   |   |   |   |--- class: 0\n",
      "|   |   |   |   |   |--- depth >  2.50\n",
      "|   |   |   |   |   |   |--- class: 0\n",
      "|   |   |   |   |--- impression >  3.50\n",
      "|   |   |   |   |   |--- user_id <= 30.50\n",
      "|   |   |   |   |   |   |--- class: 0\n",
      "|   |   |   |   |   |--- user_id >  30.50\n",
      "|   |   |   |   |   |   |--- class: 0\n",
      "|   |   |   |--- query_id >  227839.00\n",
      "|   |   |   |   |--- title_id <= 2424805.50\n",
      "|   |   |   |   |   |--- position <= 1.50\n",
      "|   |   |   |   |   |   |--- class: 0\n",
      "|   |   |   |   |   |--- position >  1.50\n",
      "|   |   |   |   |   |   |--- class: 0\n",
      "|   |   |   |   |--- title_id >  2424805.50\n",
      "|   |   |   |   |   |--- class: 0\n",
      "|   |--- impression >  6.50\n",
      "|   |   |--- query_id <= 11215.00\n",
      "|   |   |   |--- ad_id <= 6570783.00\n",
      "|   |   |   |   |--- class: 0\n",
      "|   |   |   |--- ad_id >  6570783.00\n",
      "|   |   |   |   |--- impression <= 16.50\n",
      "|   |   |   |   |   |--- title_id <= 31295.00\n",
      "|   |   |   |   |   |   |--- class: 0\n",
      "|   |   |   |   |   |--- title_id >  31295.00\n",
      "|   |   |   |   |   |   |--- class: 1\n",
      "|   |   |   |   |--- impression >  16.50\n",
      "|   |   |   |   |   |--- query_id <= 4346.50\n",
      "|   |   |   |   |   |   |--- class: 1\n",
      "|   |   |   |   |   |--- query_id >  4346.50\n",
      "|   |   |   |   |   |   |--- class: 1\n",
      "|   |   |--- query_id >  11215.00\n",
      "|   |   |   |--- query_id <= 80137.00\n",
      "|   |   |   |   |--- depth <= 2.50\n",
      "|   |   |   |   |   |--- ad_id <= 10723667.50\n",
      "|   |   |   |   |   |   |--- class: 1\n",
      "|   |   |   |   |   |--- ad_id >  10723667.50\n",
      "|   |   |   |   |   |   |--- class: 0\n",
      "|   |   |   |   |--- depth >  2.50\n",
      "|   |   |   |   |   |--- class: 0\n",
      "|   |   |   |--- query_id >  80137.00\n",
      "|   |   |   |   |--- depth <= 1.50\n",
      "|   |   |   |   |   |--- advertiser_id <= 23803.00\n",
      "|   |   |   |   |   |   |--- class: 1\n",
      "|   |   |   |   |   |--- advertiser_id >  23803.00\n",
      "|   |   |   |   |   |   |--- class: 0\n",
      "|   |   |   |   |--- depth >  1.50\n",
      "|   |   |   |   |   |--- keyword_id <= 10247.00\n",
      "|   |   |   |   |   |   |--- class: 0\n",
      "|   |   |   |   |   |--- keyword_id >  10247.00\n",
      "|   |   |   |   |   |   |--- class: 0\n",
      "|--- user_id >  239403.00\n",
      "|   |--- position <= 1.50\n",
      "|   |   |--- query_id <= 2302778.00\n",
      "|   |   |   |--- advertiser_id <= 37286.50\n",
      "|   |   |   |   |--- depth <= 1.50\n",
      "|   |   |   |   |   |--- ad_id <= 3067071.00\n",
      "|   |   |   |   |   |   |--- class: 0\n",
      "|   |   |   |   |   |--- ad_id >  3067071.00\n",
      "|   |   |   |   |   |   |--- class: 0\n",
      "|   |   |   |   |--- depth >  1.50\n",
      "|   |   |   |   |   |--- title_id <= 645.00\n",
      "|   |   |   |   |   |   |--- class: 0\n",
      "|   |   |   |   |   |--- title_id >  645.00\n",
      "|   |   |   |   |   |   |--- class: 0\n",
      "|   |   |   |--- advertiser_id >  37286.50\n",
      "|   |   |   |   |--- keyword_id <= 196.00\n",
      "|   |   |   |   |   |--- user_id <= 1428076.50\n",
      "|   |   |   |   |   |   |--- class: 0\n",
      "|   |   |   |   |   |--- user_id >  1428076.50\n",
      "|   |   |   |   |   |   |--- class: 0\n",
      "|   |   |   |   |--- keyword_id >  196.00\n",
      "|   |   |   |   |   |--- depth <= 2.50\n",
      "|   |   |   |   |   |   |--- class: 0\n",
      "|   |   |   |   |   |--- depth >  2.50\n",
      "|   |   |   |   |   |   |--- class: 0\n",
      "|   |   |--- query_id >  2302778.00\n",
      "|   |   |   |--- keyword_id <= 461509.50\n",
      "|   |   |   |   |--- user_id <= 1043990.50\n",
      "|   |   |   |   |   |--- title_id <= 117590.00\n",
      "|   |   |   |   |   |   |--- class: 0\n",
      "|   |   |   |   |   |--- title_id >  117590.00\n",
      "|   |   |   |   |   |   |--- class: 0\n",
      "|   |   |   |   |--- user_id >  1043990.50\n",
      "|   |   |   |   |   |--- title_id <= 301600.50\n",
      "|   |   |   |   |   |   |--- class: 0\n",
      "|   |   |   |   |   |--- title_id >  301600.50\n",
      "|   |   |   |   |   |   |--- class: 0\n",
      "|   |   |   |--- keyword_id >  461509.50\n",
      "|   |   |   |   |--- title_id <= 1986972.00\n",
      "|   |   |   |   |   |--- class: 0\n",
      "|   |   |   |   |--- title_id >  1986972.00\n",
      "|   |   |   |   |   |--- description_id <= 1891137.00\n",
      "|   |   |   |   |   |   |--- class: 1\n",
      "|   |   |   |   |   |--- description_id >  1891137.00\n",
      "|   |   |   |   |   |   |--- class: 0\n",
      "|   |--- position >  1.50\n",
      "|   |   |--- keyword_id <= 365.00\n",
      "|   |   |   |--- keyword_id <= 0.50\n",
      "|   |   |   |   |--- class: 0\n",
      "|   |   |   |--- keyword_id >  0.50\n",
      "|   |   |   |   |--- description_id <= 26.50\n",
      "|   |   |   |   |   |--- ad_id <= 21145782.00\n",
      "|   |   |   |   |   |   |--- class: 0\n",
      "|   |   |   |   |   |--- ad_id >  21145782.00\n",
      "|   |   |   |   |   |   |--- class: 0\n",
      "|   |   |   |   |--- description_id >  26.50\n",
      "|   |   |   |   |   |--- ad_id <= 20108734.00\n",
      "|   |   |   |   |   |   |--- class: 0\n",
      "|   |   |   |   |   |--- ad_id >  20108734.00\n",
      "|   |   |   |   |   |   |--- class: 0\n",
      "|   |   |--- keyword_id >  365.00\n",
      "|   |   |   |--- impression <= 1.50\n",
      "|   |   |   |   |--- description_id <= 289163.00\n",
      "|   |   |   |   |   |--- advertiser_id <= 3655.00\n",
      "|   |   |   |   |   |   |--- class: 0\n",
      "|   |   |   |   |   |--- advertiser_id >  3655.00\n",
      "|   |   |   |   |   |   |--- class: 0\n",
      "|   |   |   |   |--- description_id >  289163.00\n",
      "|   |   |   |   |   |--- ad_id <= 20317904.00\n",
      "|   |   |   |   |   |   |--- class: 0\n",
      "|   |   |   |   |   |--- ad_id >  20317904.00\n",
      "|   |   |   |   |   |   |--- class: 0\n",
      "|   |   |   |--- impression >  1.50\n",
      "|   |   |   |   |--- query_id <= 1726447.00\n",
      "|   |   |   |   |   |--- keyword_id <= 24960.00\n",
      "|   |   |   |   |   |   |--- class: 0\n",
      "|   |   |   |   |   |--- keyword_id >  24960.00\n",
      "|   |   |   |   |   |   |--- class: 0\n",
      "|   |   |   |   |--- query_id >  1726447.00\n",
      "|   |   |   |   |   |--- advertiser_id <= 13548.50\n",
      "|   |   |   |   |   |   |--- class: 0\n",
      "|   |   |   |   |   |--- advertiser_id >  13548.50\n",
      "|   |   |   |   |   |   |--- class: 0\n",
      "\n"
     ]
    }
   ],
   "source": [
    "print(export_text(dt, feature_names=dv.get_feature_names()))\n"
   ]
  },
  {
   "cell_type": "code",
   "execution_count": 137,
   "id": "b21ea1c9",
   "metadata": {},
   "outputs": [
    {
     "data": {
      "text/plain": [
       "0.6857114538385953"
      ]
     },
     "execution_count": 137,
     "metadata": {},
     "output_type": "execute_result"
    }
   ],
   "source": [
    "y_pred = dt.predict_proba(X_test)[:, 1]\n",
    "score_with_dt = roc_auc_score(y_test, y_pred)\n",
    "score_with_dt"
   ]
  },
  {
   "cell_type": "markdown",
   "id": "4f722a2d",
   "metadata": {},
   "source": [
    "### Score with Decision Tree Classifier was 0.685"
   ]
  },
  {
   "cell_type": "markdown",
   "id": "a58dc712",
   "metadata": {},
   "source": [
    "#### Training Data with RandomForest"
   ]
  },
  {
   "cell_type": "code",
   "execution_count": 138,
   "id": "77a1023c",
   "metadata": {},
   "outputs": [],
   "source": [
    "from sklearn.ensemble import RandomForestClassifier"
   ]
  },
  {
   "cell_type": "markdown",
   "id": "5e7e8231",
   "metadata": {},
   "source": [
    "#### Tuning the n_estimators parameter for the RandomForestClassifier"
   ]
  },
  {
   "cell_type": "code",
   "execution_count": 139,
   "id": "b75f56e9",
   "metadata": {},
   "outputs": [],
   "source": [
    "scores = []\n",
    "\n",
    "for n in range(10, 201, 10):\n",
    "    rf = RandomForestClassifier(n_estimators=n, random_state=1)\n",
    "    rf.fit(X_train, y_train)\n",
    "\n",
    "    y_pred = rf.predict_proba(X_val)[:, 1]\n",
    "    auc = roc_auc_score(y_val, y_pred)\n",
    "    \n",
    "    scores.append((n, auc))"
   ]
  },
  {
   "cell_type": "code",
   "execution_count": 140,
   "id": "58188d66",
   "metadata": {},
   "outputs": [
    {
     "data": {
      "text/plain": [
       "[<matplotlib.lines.Line2D at 0x7fc974a5bdf0>]"
      ]
     },
     "execution_count": 140,
     "metadata": {},
     "output_type": "execute_result"
    },
    {
     "data": {
      "image/png": "[encoded data removed]",
      "text/plain": [
       "<Figure size 432x288 with 1 Axes>"
      ]
     },
     "metadata": {
      "needs_background": "light"
     },
     "output_type": "display_data"
    }
   ],
   "source": [
    "df_scores = pd.DataFrame(scores, columns=['n_estimators', 'auc'])\n",
    "plt.plot(df_scores.n_estimators, df_scores.auc)"
   ]
  },
  {
   "cell_type": "markdown",
   "id": "b439e471",
   "metadata": {},
   "source": [
    "#### As seen above around n_estimators=120 the model provides best accuracy after which it stays stagnant."
   ]
  },
  {
   "cell_type": "markdown",
   "id": "6b28d72a",
   "metadata": {},
   "source": [
    "#### Tuning the max_depth parameter"
   ]
  },
  {
   "cell_type": "code",
   "execution_count": 141,
   "id": "7a8376fc",
   "metadata": {},
   "outputs": [],
   "source": [
    "scores = []\n",
    "\n",
    "for d in [5, 10, 15]:\n",
    "    for n in range(10, 201, 10):\n",
    "        rf = RandomForestClassifier(n_estimators=n,\n",
    "                                    max_depth=d,\n",
    "                                    random_state=1)\n",
    "        rf.fit(X_train, y_train)\n",
    "\n",
    "        y_pred = rf.predict_proba(X_val)[:, 1]\n",
    "        auc = roc_auc_score(y_val, y_pred)\n",
    "\n",
    "        scores.append((d, n, auc))"
   ]
  },
  {
   "cell_type": "code",
   "execution_count": 142,
   "id": "27f43a95",
   "metadata": {},
   "outputs": [],
   "source": [
    "columns = ['max_depth', 'n_estimators', 'auc']\n",
    "df_scores = pd.DataFrame(scores, columns=columns)"
   ]
  },
  {
   "cell_type": "code",
   "execution_count": 143,
   "id": "81784a20",
   "metadata": {},
   "outputs": [
    {
     "data": {
      "text/plain": [
       "<matplotlib.legend.Legend at 0x7fc974dddc40>"
      ]
     },
     "execution_count": 143,
     "metadata": {},
     "output_type": "execute_result"
    },
    {
     "data": {
      "image/png": "[encoded data removed]",
      "text/plain": [
       "<Figure size 432x288 with 1 Axes>"
      ]
     },
     "metadata": {
      "needs_background": "light"
     },
     "output_type": "display_data"
    }
   ],
   "source": [
    "for d in [5, 10, 15]:\n",
    "    df_subset = df_scores[df_scores.max_depth == d]\n",
    "    \n",
    "    plt.plot(df_subset.n_estimators, df_subset.auc,\n",
    "             label='max_depth=%d' % d)\n",
    "\n",
    "plt.legend()"
   ]
  },
  {
   "cell_type": "markdown",
   "id": "aa66fa62",
   "metadata": {},
   "source": [
    "#### Fixing max_depth = 10 as this seems to be performing well"
   ]
  },
  {
   "cell_type": "code",
   "execution_count": 144,
   "id": "05a17517",
   "metadata": {},
   "outputs": [],
   "source": [
    "max_depth = 10"
   ]
  },
  {
   "cell_type": "markdown",
   "id": "b4c558b6",
   "metadata": {},
   "source": [
    "#### Tuning the min_samples_leaf parameter"
   ]
  },
  {
   "cell_type": "code",
   "execution_count": 145,
   "id": "832944ce",
   "metadata": {},
   "outputs": [],
   "source": [
    "scores = []\n",
    "\n",
    "for s in [1, 3, 5, 10, 50]:\n",
    "    for n in range(10, 201, 10):\n",
    "        rf = RandomForestClassifier(n_estimators=n,\n",
    "                                    max_depth=max_depth,\n",
    "                                    min_samples_leaf=s,\n",
    "                                    random_state=1)\n",
    "        rf.fit(X_train, y_train)\n",
    "\n",
    "        y_pred = rf.predict_proba(X_val)[:, 1]\n",
    "        auc = roc_auc_score(y_val, y_pred)\n",
    "\n",
    "        scores.append((s, n, auc))"
   ]
  },
  {
   "cell_type": "code",
   "execution_count": 146,
   "id": "5d140b68",
   "metadata": {},
   "outputs": [],
   "source": [
    "columns = ['min_samples_leaf', 'n_estimators', 'auc']\n",
    "df_scores = pd.DataFrame(scores, columns=columns)"
   ]
  },
  {
   "cell_type": "code",
   "execution_count": 147,
   "id": "6e9eb665",
   "metadata": {},
   "outputs": [
    {
     "data": {
      "text/plain": [
       "<matplotlib.legend.Legend at 0x7fc9749f0460>"
      ]
     },
     "execution_count": 147,
     "metadata": {},
     "output_type": "execute_result"
    },
    {
     "data": {
      "image/png": "[encoded data removed]",
      "text/plain": [
       "<Figure size 432x288 with 1 Axes>"
      ]
     },
     "metadata": {
      "needs_background": "light"
     },
     "output_type": "display_data"
    }
   ],
   "source": [
    "colors = ['black', 'blue', 'orange', 'red', 'grey']\n",
    "values = [1, 3, 5, 10, 50]\n",
    "\n",
    "for s, col in zip(values, colors):\n",
    "    df_subset = df_scores[df_scores.min_samples_leaf == s]\n",
    "    \n",
    "    plt.plot(df_subset.n_estimators, df_subset.auc,\n",
    "             color=col,\n",
    "             label='min_samples_leaf=%d' % s)\n",
    "\n",
    "plt.legend()"
   ]
  },
  {
   "cell_type": "markdown",
   "id": "b4ffcc66",
   "metadata": {},
   "source": [
    "#### As seen in the plot min_samples_leaf = 3 seems to have better performance"
   ]
  },
  {
   "cell_type": "code",
   "execution_count": 148,
   "id": "1261eedc",
   "metadata": {},
   "outputs": [],
   "source": [
    "min_samples_leaf = 3"
   ]
  },
  {
   "cell_type": "code",
   "execution_count": 149,
   "id": "dc51da6a",
   "metadata": {},
   "outputs": [
    {
     "data": {
      "text/plain": [
       "RandomForestClassifier(max_depth=10, min_samples_leaf=3, n_estimators=125,\n",
       "                       random_state=1)"
      ]
     },
     "execution_count": 149,
     "metadata": {},
     "output_type": "execute_result"
    }
   ],
   "source": [
    "rf = RandomForestClassifier(n_estimators=125,\n",
    "                            max_depth=max_depth,\n",
    "                            min_samples_leaf=min_samples_leaf,\n",
    "                            random_state=1)\n",
    "rf.fit(X_train, y_train)"
   ]
  },
  {
   "cell_type": "code",
   "execution_count": 150,
   "id": "83fa8522",
   "metadata": {},
   "outputs": [
    {
     "data": {
      "text/plain": [
       "0.7115710115207701"
      ]
     },
     "execution_count": 150,
     "metadata": {},
     "output_type": "execute_result"
    }
   ],
   "source": [
    "y_pred = rf.predict_proba(X_test)[:, 1]\n",
    "score_with_rf = roc_auc_score(y_test, y_pred)\n",
    "score_with_rf"
   ]
  },
  {
   "cell_type": "markdown",
   "id": "d03569e3",
   "metadata": {},
   "source": [
    "### Score with RandomForestClassifier = 0.7115"
   ]
  },
  {
   "cell_type": "markdown",
   "id": "54ce1ecf",
   "metadata": {},
   "source": [
    "#### Training Data with XGBoost"
   ]
  },
  {
   "cell_type": "code",
   "execution_count": 151,
   "id": "eeed5013",
   "metadata": {},
   "outputs": [
    {
     "name": "stdout",
     "output_type": "stream",
     "text": [
      "Collecting package metadata (current_repodata.json): done\n",
      "Solving environment: done\n",
      "\n",
      "# All requested packages already installed.\n",
      "\n",
      "\n",
      "Note: you may need to restart the kernel to use updated packages.\n"
     ]
    }
   ],
   "source": [
    "conda install -c conda-forge xgboost"
   ]
  },
  {
   "cell_type": "code",
   "execution_count": 152,
   "id": "3a479a4d",
   "metadata": {},
   "outputs": [],
   "source": [
    "import xgboost as xgb"
   ]
  },
  {
   "cell_type": "code",
   "execution_count": 153,
   "id": "618e26cd",
   "metadata": {},
   "outputs": [],
   "source": [
    "features = dv.get_feature_names()\n",
    "dtrain = xgb.DMatrix(X_train, label=y_train, feature_names=features)\n",
    "dval = xgb.DMatrix(X_val, label=y_val, feature_names=features)"
   ]
  },
  {
   "cell_type": "code",
   "execution_count": 154,
   "id": "d371bc9e",
   "metadata": {},
   "outputs": [
    {
     "name": "stdout",
     "output_type": "stream",
     "text": [
      "[10:58:22] WARNING: /Users/runner/miniforge3/conda-bld/xgboost-split_1631904775127/work/src/learner.cc:1095: Starting in XGBoost 1.3.0, the default evaluation metric used with the objective 'binary:logistic' was changed from 'error' to 'logloss'. Explicitly set eval_metric if you'd like to restore the old behavior.\n"
     ]
    }
   ],
   "source": [
    "xgb_params = {\n",
    "    'eta': 0.3, \n",
    "    'max_depth': 6,\n",
    "    'min_child_weight': 1,\n",
    "    \n",
    "    'objective': 'binary:logistic',\n",
    "    'nthread': 8,\n",
    "    \n",
    "    'seed': 1,\n",
    "    'verbosity': 1,\n",
    "}\n",
    "\n",
    "model = xgb.train(xgb_params, dtrain, num_boost_round=10)"
   ]
  },
  {
   "cell_type": "code",
   "execution_count": 155,
   "id": "a80319ed",
   "metadata": {},
   "outputs": [],
   "source": [
    "y_pred = model.predict(dval)"
   ]
  },
  {
   "cell_type": "code",
   "execution_count": 156,
   "id": "c0300bab",
   "metadata": {},
   "outputs": [
    {
     "data": {
      "text/plain": [
       "0.6984379992243094"
      ]
     },
     "execution_count": 156,
     "metadata": {},
     "output_type": "execute_result"
    }
   ],
   "source": [
    "roc_auc_score(y_val, y_pred)\n"
   ]
  },
  {
   "cell_type": "code",
   "execution_count": 157,
   "id": "39a1b0d3",
   "metadata": {},
   "outputs": [],
   "source": [
    "watchlist = [(dtrain, 'train'), (dval, 'val')]"
   ]
  },
  {
   "cell_type": "code",
   "execution_count": 174,
   "id": "69752e81",
   "metadata": {},
   "outputs": [],
   "source": [
    "%%capture output\n",
    "\n",
    "xgb_params = {\n",
    "    'eta': 0.3, \n",
    "    'max_depth': 6,\n",
    "    'min_child_weight': 1,\n",
    "    \n",
    "    'objective': 'binary:logistic',\n",
    "    'eval_metric': 'auc',\n",
    "\n",
    "    'nthread': 8,\n",
    "    'seed': 1,\n",
    "    'verbosity': 1,\n",
    "}\n",
    "\n",
    "model = xgb.train(xgb_params, dtrain, num_boost_round=200,\n",
    "                  verbose_eval=5,\n",
    "                  evals=watchlist)"
   ]
  },
  {
   "cell_type": "code",
   "execution_count": 159,
   "id": "9e7be213",
   "metadata": {},
   "outputs": [
    {
     "name": "stdout",
     "output_type": "stream",
     "text": [
      "[0]\ttrain-auc:0.70342\tval-auc:0.67358\n",
      "[5]\ttrain-auc:0.74047\tval-auc:0.69320\n",
      "[10]\ttrain-auc:0.76426\tval-auc:0.69878\n",
      "[15]\ttrain-auc:0.78136\tval-auc:0.70088\n",
      "[20]\ttrain-auc:0.79816\tval-auc:0.70094\n",
      "[25]\ttr\n"
     ]
    }
   ],
   "source": [
    "s = output.stdout\n",
    "print(s[:200])"
   ]
  },
  {
   "cell_type": "code",
   "execution_count": 175,
   "id": "21a9ce26",
   "metadata": {},
   "outputs": [],
   "source": [
    "def parse_xgb_output(output):\n",
    "    results = []\n",
    "\n",
    "    for line in output.stdout.strip().split('\\n'):\n",
    "        it_line, train_line, val_line = line.split('\\t')\n",
    "\n",
    "        it = int(it_line.strip('[]'))\n",
    "        train = float(train_line.split(':')[1])\n",
    "        val = float(val_line.split(':')[1])\n",
    "\n",
    "        results.append((it, train, val))\n",
    "    \n",
    "    columns = ['num_iter', 'train_auc', 'val_auc']\n",
    "    df_results = pd.DataFrame(results, columns=columns)\n",
    "    return df_results"
   ]
  },
  {
   "cell_type": "code",
   "execution_count": 176,
   "id": "c35c9394",
   "metadata": {},
   "outputs": [
    {
     "data": {
      "text/plain": [
       "'eta=0.3'"
      ]
     },
     "execution_count": 176,
     "metadata": {},
     "output_type": "execute_result"
    }
   ],
   "source": [
    "scores = {}\n",
    "key = 'eta=%s' % (xgb_params['eta'])\n",
    "scores[key] = parse_xgb_output(output)\n",
    "key"
   ]
  },
  {
   "cell_type": "markdown",
   "id": "453d76ac",
   "metadata": {},
   "source": [
    "#### Tuning XGBoost parameters"
   ]
  },
  {
   "cell_type": "code",
   "execution_count": 177,
   "id": "ea7e92d3",
   "metadata": {},
   "outputs": [],
   "source": [
    "%%capture output\n",
    "\n",
    "xgb_params = {\n",
    "    'eta': 0.01, \n",
    "    'max_depth': 6,\n",
    "    'min_child_weight': 1,\n",
    "    \n",
    "    'objective': 'binary:logistic',\n",
    "    'eval_metric': 'auc',\n",
    "\n",
    "    'nthread': 8,\n",
    "    'seed': 1,\n",
    "    'verbosity': 1,\n",
    "}\n",
    "\n",
    "model = xgb.train(xgb_params, dtrain, num_boost_round=200,\n",
    "                  verbose_eval=5,\n",
    "                  evals=watchlist)"
   ]
  },
  {
   "cell_type": "code",
   "execution_count": 178,
   "id": "9e78ac35",
   "metadata": {},
   "outputs": [
    {
     "data": {
      "text/plain": [
       "'eta=0.01'"
      ]
     },
     "execution_count": 178,
     "metadata": {},
     "output_type": "execute_result"
    }
   ],
   "source": [
    "\n",
    "key = 'eta=%s' % (xgb_params['eta'])\n",
    "scores[key] = parse_xgb_output(output)\n",
    "key"
   ]
  },
  {
   "cell_type": "code",
   "execution_count": 179,
   "id": "c36d8eb6",
   "metadata": {},
   "outputs": [],
   "source": [
    "%%capture output\n",
    "\n",
    "xgb_params = {\n",
    "    'eta': 0.1, \n",
    "    'max_depth': 6,\n",
    "    'min_child_weight': 1,\n",
    "    \n",
    "    'objective': 'binary:logistic',\n",
    "    'eval_metric': 'auc',\n",
    "\n",
    "    'nthread': 8,\n",
    "    'seed': 1,\n",
    "    'verbosity': 1,\n",
    "}\n",
    "\n",
    "model = xgb.train(xgb_params, dtrain, num_boost_round=200,\n",
    "                  verbose_eval=5,\n",
    "                  evals=watchlist)"
   ]
  },
  {
   "cell_type": "code",
   "execution_count": 180,
   "id": "8900663d",
   "metadata": {},
   "outputs": [
    {
     "data": {
      "text/plain": [
       "'eta=0.1'"
      ]
     },
     "execution_count": 180,
     "metadata": {},
     "output_type": "execute_result"
    }
   ],
   "source": [
    "key = 'eta=%s' % (xgb_params['eta'])\n",
    "scores[key] = parse_xgb_output(output)\n",
    "key"
   ]
  },
  {
   "cell_type": "code",
   "execution_count": 181,
   "id": "af9c1ab7",
   "metadata": {},
   "outputs": [
    {
     "data": {
      "text/plain": [
       "{'eta=0.3':     num_iter  train_auc  val_auc\n",
       " 0          0    0.70342  0.67358\n",
       " 1          5    0.74047  0.69320\n",
       " 2         10    0.76426  0.69878\n",
       " 3         15    0.78136  0.70088\n",
       " 4         20    0.79816  0.70094\n",
       " 5         25    0.80960  0.70088\n",
       " 6         30    0.82454  0.70523\n",
       " 7         35    0.83625  0.70389\n",
       " 8         40    0.84709  0.70362\n",
       " 9         45    0.85358  0.70219\n",
       " 10        50    0.86198  0.69998\n",
       " 11        55    0.86941  0.69844\n",
       " 12        60    0.87641  0.69860\n",
       " 13        65    0.88206  0.70006\n",
       " 14        70    0.88726  0.70038\n",
       " 15        75    0.89247  0.69970\n",
       " 16        80    0.90102  0.69936\n",
       " 17        85    0.90673  0.69751\n",
       " 18        90    0.91150  0.69764\n",
       " 19        95    0.91636  0.69792\n",
       " 20       100    0.92215  0.69762\n",
       " 21       105    0.92700  0.69654\n",
       " 22       110    0.93031  0.69760\n",
       " 23       115    0.93501  0.69744\n",
       " 24       120    0.93660  0.69626\n",
       " 25       125    0.93954  0.69556\n",
       " 26       130    0.94319  0.69506\n",
       " 27       135    0.94686  0.69541\n",
       " 28       140    0.94812  0.69588\n",
       " 29       145    0.94966  0.69595\n",
       " 30       150    0.95153  0.69518\n",
       " 31       155    0.95555  0.69504\n",
       " 32       160    0.95708  0.69446\n",
       " 33       165    0.95945  0.69395\n",
       " 34       170    0.96189  0.69224\n",
       " 35       175    0.96379  0.69161\n",
       " 36       180    0.96604  0.69167\n",
       " 37       185    0.96744  0.69143\n",
       " 38       190    0.96962  0.69151\n",
       " 39       195    0.97092  0.69110\n",
       " 40       199    0.97159  0.69044,\n",
       " 'eta=0.01':     num_iter  train_auc  val_auc\n",
       " 0          0    0.70342  0.67358\n",
       " 1          5    0.70595  0.67392\n",
       " 2         10    0.70856  0.67510\n",
       " 3         15    0.71058  0.67636\n",
       " 4         20    0.71626  0.68016\n",
       " 5         25    0.71828  0.68194\n",
       " 6         30    0.72093  0.68357\n",
       " 7         35    0.72333  0.68471\n",
       " 8         40    0.72448  0.68516\n",
       " 9         45    0.72673  0.68647\n",
       " 10        50    0.72772  0.68705\n",
       " 11        55    0.72871  0.68771\n",
       " 12        60    0.72975  0.68835\n",
       " 13        65    0.73067  0.68869\n",
       " 14        70    0.73140  0.68893\n",
       " 15        75    0.73240  0.68933\n",
       " 16        80    0.73323  0.68961\n",
       " 17        85    0.73423  0.68990\n",
       " 18        90    0.73533  0.69035\n",
       " 19        95    0.73614  0.69048\n",
       " 20       100    0.73699  0.69082\n",
       " 21       105    0.73752  0.69127\n",
       " 22       110    0.73831  0.69145\n",
       " 23       115    0.73887  0.69190\n",
       " 24       120    0.73972  0.69240\n",
       " 25       125    0.74050  0.69280\n",
       " 26       130    0.74138  0.69295\n",
       " 27       135    0.74223  0.69351\n",
       " 28       140    0.74316  0.69399\n",
       " 29       145    0.74415  0.69436\n",
       " 30       150    0.74502  0.69461\n",
       " 31       155    0.74595  0.69498\n",
       " 32       160    0.74667  0.69522\n",
       " 33       165    0.74744  0.69541\n",
       " 34       170    0.74819  0.69585\n",
       " 35       175    0.74891  0.69613\n",
       " 36       180    0.74982  0.69659\n",
       " 37       185    0.75074  0.69709\n",
       " 38       190    0.75156  0.69749\n",
       " 39       195    0.75241  0.69784\n",
       " 40       199    0.75307  0.69815,\n",
       " 'eta=0.1':     num_iter  train_auc  val_auc\n",
       " 0          0    0.70342  0.67358\n",
       " 1          5    0.72781  0.68776\n",
       " 2         10    0.73715  0.69102\n",
       " 3         15    0.74486  0.69320\n",
       " 4         20    0.75175  0.69650\n",
       " 5         25    0.76044  0.69844\n",
       " 6         30    0.76912  0.70069\n",
       " 7         35    0.77603  0.70208\n",
       " 8         40    0.78188  0.70327\n",
       " 9         45    0.78656  0.70573\n",
       " 10        50    0.79175  0.70696\n",
       " 11        55    0.79799  0.70754\n",
       " 12        60    0.80041  0.70745\n",
       " 13        65    0.80449  0.70811\n",
       " 14        70    0.80898  0.70988\n",
       " 15        75    0.81428  0.70937\n",
       " 16        80    0.81842  0.70945\n",
       " 17        85    0.82415  0.71045\n",
       " 18        90    0.82770  0.71043\n",
       " 19        95    0.83159  0.70961\n",
       " 20       100    0.83514  0.70953\n",
       " 21       105    0.83612  0.71003\n",
       " 22       110    0.83844  0.70995\n",
       " 23       115    0.84144  0.70974\n",
       " 24       120    0.84405  0.70976\n",
       " 25       125    0.84761  0.70937\n",
       " 26       130    0.84959  0.70910\n",
       " 27       135    0.85207  0.70952\n",
       " 28       140    0.85506  0.70952\n",
       " 29       145    0.85825  0.70944\n",
       " 30       150    0.86217  0.70954\n",
       " 31       155    0.86543  0.70942\n",
       " 32       160    0.86754  0.70898\n",
       " 33       165    0.87142  0.70929\n",
       " 34       170    0.87524  0.70972\n",
       " 35       175    0.87726  0.70955\n",
       " 36       180    0.87950  0.70982\n",
       " 37       185    0.88187  0.70987\n",
       " 38       190    0.88343  0.71002\n",
       " 39       195    0.88651  0.70997\n",
       " 40       199    0.88779  0.70994}"
      ]
     },
     "execution_count": 181,
     "metadata": {},
     "output_type": "execute_result"
    }
   ],
   "source": [
    "scores"
   ]
  },
  {
   "cell_type": "code",
   "execution_count": 183,
   "id": "4c6efa7d",
   "metadata": {},
   "outputs": [
    {
     "data": {
      "text/plain": [
       "<matplotlib.legend.Legend at 0x7fc950df0760>"
      ]
     },
     "execution_count": 183,
     "metadata": {},
     "output_type": "execute_result"
    },
    {
     "data": {
      "image/png": "[encoded data removed]",
      "text/plain": [
       "<Figure size 432x288 with 1 Axes>"
      ]
     },
     "metadata": {
      "needs_background": "light"
     },
     "output_type": "display_data"
    }
   ],
   "source": [
    "for eta, df_score in scores.items():\n",
    "    plt.plot(df_score.num_iter, df_score.val_auc, label=eta)\n",
    "\n",
    "\n",
    "plt.legend()"
   ]
  },
  {
   "cell_type": "markdown",
   "id": "15665211",
   "metadata": {},
   "source": [
    "#### As seen above eta=0.1 seems to provide good score"
   ]
  },
  {
   "cell_type": "markdown",
   "id": "88e1e0cb",
   "metadata": {},
   "source": [
    "#### Tuning max_depth parameter"
   ]
  },
  {
   "cell_type": "code",
   "execution_count": 184,
   "id": "e6cf5aad",
   "metadata": {},
   "outputs": [],
   "source": [
    "scores = {}"
   ]
  },
  {
   "cell_type": "code",
   "execution_count": 185,
   "id": "d0258a86",
   "metadata": {},
   "outputs": [],
   "source": [
    "%%capture output\n",
    "\n",
    "xgb_params = {\n",
    "    'eta': 0.1, \n",
    "    'max_depth': 6,\n",
    "    'min_child_weight': 1,\n",
    "    \n",
    "    'objective': 'binary:logistic',\n",
    "    'eval_metric': 'auc',\n",
    "\n",
    "    'nthread': 8,\n",
    "    'seed': 1,\n",
    "    'verbosity': 1,\n",
    "}\n",
    "\n",
    "model = xgb.train(xgb_params, dtrain, num_boost_round=200,\n",
    "                  verbose_eval=5,\n",
    "                  evals=watchlist)"
   ]
  },
  {
   "cell_type": "code",
   "execution_count": 186,
   "id": "142ffa63",
   "metadata": {},
   "outputs": [
    {
     "data": {
      "text/plain": [
       "'max_depth=6'"
      ]
     },
     "execution_count": 186,
     "metadata": {},
     "output_type": "execute_result"
    }
   ],
   "source": [
    "key = 'max_depth=%s' % (xgb_params['max_depth'])\n",
    "scores[key] = parse_xgb_output(output)\n",
    "key"
   ]
  },
  {
   "cell_type": "code",
   "execution_count": 187,
   "id": "3eb901d7",
   "metadata": {},
   "outputs": [],
   "source": [
    "%%capture output\n",
    "\n",
    "xgb_params = {\n",
    "    'eta': 0.1, \n",
    "    'max_depth': 3,\n",
    "    'min_child_weight': 1,\n",
    "    \n",
    "    'objective': 'binary:logistic',\n",
    "    'eval_metric': 'auc',\n",
    "\n",
    "    'nthread': 8,\n",
    "    'seed': 1,\n",
    "    'verbosity': 1,\n",
    "}\n",
    "\n",
    "model = xgb.train(xgb_params, dtrain, num_boost_round=200,\n",
    "                  verbose_eval=5,\n",
    "                  evals=watchlist)"
   ]
  },
  {
   "cell_type": "code",
   "execution_count": 188,
   "id": "89b0c608",
   "metadata": {},
   "outputs": [
    {
     "data": {
      "text/plain": [
       "'max_depth=3'"
      ]
     },
     "execution_count": 188,
     "metadata": {},
     "output_type": "execute_result"
    }
   ],
   "source": [
    "key = 'max_depth=%s' % (xgb_params['max_depth'])\n",
    "scores[key] = parse_xgb_output(output)\n",
    "key"
   ]
  },
  {
   "cell_type": "code",
   "execution_count": 189,
   "id": "608ec0e7",
   "metadata": {},
   "outputs": [],
   "source": [
    "%%capture output\n",
    "\n",
    "xgb_params = {\n",
    "    'eta': 0.1, \n",
    "    'max_depth': 4,\n",
    "    'min_child_weight': 1,\n",
    "    \n",
    "    'objective': 'binary:logistic',\n",
    "    'eval_metric': 'auc',\n",
    "\n",
    "    'nthread': 8,\n",
    "    'seed': 1,\n",
    "    'verbosity': 1,\n",
    "}\n",
    "\n",
    "model = xgb.train(xgb_params, dtrain, num_boost_round=200,\n",
    "                  verbose_eval=5,\n",
    "                  evals=watchlist)"
   ]
  },
  {
   "cell_type": "code",
   "execution_count": 190,
   "id": "7f31b7e7",
   "metadata": {},
   "outputs": [
    {
     "data": {
      "text/plain": [
       "'max_depth=4'"
      ]
     },
     "execution_count": 190,
     "metadata": {},
     "output_type": "execute_result"
    }
   ],
   "source": [
    "key = 'max_depth=%s' % (xgb_params['max_depth'])\n",
    "scores[key] = parse_xgb_output(output)\n",
    "key"
   ]
  },
  {
   "cell_type": "code",
   "execution_count": 191,
   "id": "89d15520",
   "metadata": {},
   "outputs": [
    {
     "data": {
      "text/plain": [
       "<matplotlib.legend.Legend at 0x7fc9119863a0>"
      ]
     },
     "execution_count": 191,
     "metadata": {},
     "output_type": "execute_result"
    },
    {
     "data": {
      "image/png": "[encoded data removed]",
      "text/plain": [
       "<Figure size 432x288 with 1 Axes>"
      ]
     },
     "metadata": {
      "needs_background": "light"
     },
     "output_type": "display_data"
    }
   ],
   "source": [
    "for max_depth, df_score in scores.items():\n",
    "    plt.plot(df_score.num_iter, df_score.val_auc, label=max_depth)\n",
    "\n",
    "\n",
    "plt.legend()"
   ]
  },
  {
   "cell_type": "markdown",
   "id": "afa651f7",
   "metadata": {},
   "source": [
    "#### All the three values seems to be performing similar though max_depth=6 seems to remain consistent after reaching its peak. Hence choosing max_depth=6 for the model"
   ]
  },
  {
   "cell_type": "markdown",
   "id": "64e9e3e0",
   "metadata": {},
   "source": [
    "#### Tuning min_child_weight parameter"
   ]
  },
  {
   "cell_type": "code",
   "execution_count": 192,
   "id": "5f944b57",
   "metadata": {},
   "outputs": [],
   "source": [
    "scores = {}"
   ]
  },
  {
   "cell_type": "code",
   "execution_count": 193,
   "id": "267171fb",
   "metadata": {},
   "outputs": [],
   "source": [
    "%%capture output\n",
    "\n",
    "xgb_params = {\n",
    "    'eta': 0.1, \n",
    "    'max_depth': 6,\n",
    "    'min_child_weight': 1,\n",
    "    \n",
    "    'objective': 'binary:logistic',\n",
    "    'eval_metric': 'auc',\n",
    "\n",
    "    'nthread': 8,\n",
    "    'seed': 1,\n",
    "    'verbosity': 1,\n",
    "}\n",
    "\n",
    "model = xgb.train(xgb_params, dtrain, num_boost_round=200,\n",
    "                  verbose_eval=5,\n",
    "                  evals=watchlist)"
   ]
  },
  {
   "cell_type": "code",
   "execution_count": 194,
   "id": "4737fd1c",
   "metadata": {},
   "outputs": [
    {
     "data": {
      "text/plain": [
       "'min_child_weight=1'"
      ]
     },
     "execution_count": 194,
     "metadata": {},
     "output_type": "execute_result"
    }
   ],
   "source": [
    "key = 'min_child_weight=%s' % (xgb_params['min_child_weight'])\n",
    "scores[key] = parse_xgb_output(output)\n",
    "key"
   ]
  },
  {
   "cell_type": "code",
   "execution_count": 195,
   "id": "f3f49378",
   "metadata": {},
   "outputs": [],
   "source": [
    "%%capture output\n",
    "\n",
    "xgb_params = {\n",
    "    'eta': 0.1, \n",
    "    'max_depth': 6,\n",
    "    'min_child_weight': 10,\n",
    "    \n",
    "    'objective': 'binary:logistic',\n",
    "    'eval_metric': 'auc',\n",
    "\n",
    "    'nthread': 8,\n",
    "    'seed': 1,\n",
    "    'verbosity': 1,\n",
    "}\n",
    "\n",
    "model = xgb.train(xgb_params, dtrain, num_boost_round=200,\n",
    "                  verbose_eval=5,\n",
    "                  evals=watchlist)"
   ]
  },
  {
   "cell_type": "code",
   "execution_count": 196,
   "id": "43af0667",
   "metadata": {},
   "outputs": [
    {
     "data": {
      "text/plain": [
       "'min_child_weight=10'"
      ]
     },
     "execution_count": 196,
     "metadata": {},
     "output_type": "execute_result"
    }
   ],
   "source": [
    "key = 'min_child_weight=%s' % (xgb_params['min_child_weight'])\n",
    "scores[key] = parse_xgb_output(output)\n",
    "key"
   ]
  },
  {
   "cell_type": "code",
   "execution_count": 197,
   "id": "880529ae",
   "metadata": {},
   "outputs": [],
   "source": [
    "%%capture output\n",
    "\n",
    "xgb_params = {\n",
    "    'eta': 0.1, \n",
    "    'max_depth': 6,\n",
    "    'min_child_weight': 30,\n",
    "    \n",
    "    'objective': 'binary:logistic',\n",
    "    'eval_metric': 'auc',\n",
    "\n",
    "    'nthread': 8,\n",
    "    'seed': 1,\n",
    "    'verbosity': 1,\n",
    "}\n",
    "\n",
    "model = xgb.train(xgb_params, dtrain, num_boost_round=200,\n",
    "                  verbose_eval=5,\n",
    "                  evals=watchlist)"
   ]
  },
  {
   "cell_type": "code",
   "execution_count": 198,
   "id": "73684c73",
   "metadata": {},
   "outputs": [
    {
     "data": {
      "text/plain": [
       "'min_child_weight=30'"
      ]
     },
     "execution_count": 198,
     "metadata": {},
     "output_type": "execute_result"
    }
   ],
   "source": [
    "key = 'min_child_weight=%s' % (xgb_params['min_child_weight'])\n",
    "scores[key] = parse_xgb_output(output)\n",
    "key"
   ]
  },
  {
   "cell_type": "code",
   "execution_count": 199,
   "id": "9ef2a63a",
   "metadata": {},
   "outputs": [
    {
     "data": {
      "text/plain": [
       "<matplotlib.legend.Legend at 0x7fc9752b2ca0>"
      ]
     },
     "execution_count": 199,
     "metadata": {},
     "output_type": "execute_result"
    },
    {
     "data": {
      "image/png": "[encoded data removed]",
      "text/plain": [
       "<Figure size 432x288 with 1 Axes>"
      ]
     },
     "metadata": {
      "needs_background": "light"
     },
     "output_type": "display_data"
    }
   ],
   "source": [
    "for min_child_weight, df_score in scores.items():\n",
    "    plt.plot(df_score.num_iter, df_score.val_auc, label=min_child_weight)\n",
    "\n",
    "\n",
    "plt.legend()"
   ]
  },
  {
   "cell_type": "markdown",
   "id": "59dc11b4",
   "metadata": {},
   "source": [
    "#### As seen in the plot, all the values are quite similar. Choosing min_child_weight=10"
   ]
  },
  {
   "cell_type": "markdown",
   "id": "d32f2164",
   "metadata": {},
   "source": [
    "### Selecting final model"
   ]
  },
  {
   "cell_type": "markdown",
   "id": "78b1b2ea",
   "metadata": {},
   "source": [
    "#### Logistic Regression and Ridge regression doesn't seem to provide a good score. Hence choosing between DecisionTree/RandomForest/XGBoost"
   ]
  },
  {
   "cell_type": "code",
   "execution_count": 200,
   "id": "3465868b",
   "metadata": {},
   "outputs": [
    {
     "data": {
      "text/plain": [
       "DecisionTreeClassifier(max_depth=6, min_samples_leaf=15, random_state=42)"
      ]
     },
     "execution_count": 200,
     "metadata": {},
     "output_type": "execute_result"
    }
   ],
   "source": [
    "dt = DecisionTreeClassifier(max_depth=6, min_samples_leaf=15,random_state=42)\n",
    "dt.fit(X_train, y_train)"
   ]
  },
  {
   "cell_type": "code",
   "execution_count": 201,
   "id": "599464b4",
   "metadata": {},
   "outputs": [
    {
     "data": {
      "text/plain": [
       "0.6749926279472535"
      ]
     },
     "execution_count": 201,
     "metadata": {},
     "output_type": "execute_result"
    }
   ],
   "source": [
    "y_pred = dt.predict_proba(X_val)[:, 1]\n",
    "roc_auc_score(y_val, y_pred)"
   ]
  },
  {
   "cell_type": "code",
   "execution_count": 202,
   "id": "fe000df3",
   "metadata": {},
   "outputs": [
    {
     "data": {
      "text/plain": [
       "RandomForestClassifier(max_depth=10, min_samples_leaf=3, n_estimators=125,\n",
       "                       random_state=1)"
      ]
     },
     "execution_count": 202,
     "metadata": {},
     "output_type": "execute_result"
    }
   ],
   "source": [
    "rf = RandomForestClassifier(n_estimators=125,\n",
    "                            max_depth=10,\n",
    "                            min_samples_leaf=3,\n",
    "                            random_state=1)\n",
    "rf.fit(X_train, y_train)"
   ]
  },
  {
   "cell_type": "code",
   "execution_count": 204,
   "id": "4d1ac169",
   "metadata": {},
   "outputs": [
    {
     "data": {
      "text/plain": [
       "0.7054710468452964"
      ]
     },
     "execution_count": 204,
     "metadata": {},
     "output_type": "execute_result"
    }
   ],
   "source": [
    "y_pred = rf.predict_proba(X_val)[:, 1]\n",
    "roc_auc_score(y_val, y_pred)"
   ]
  },
  {
   "cell_type": "code",
   "execution_count": 205,
   "id": "6c2012f6",
   "metadata": {},
   "outputs": [],
   "source": [
    "xgb_params = {\n",
    "    'eta': 0.1, \n",
    "    'max_depth': 6,\n",
    "    'min_child_weight': 10,\n",
    "\n",
    "    'objective': 'binary:logistic',\n",
    "    'eval_metric': 'auc',\n",
    "\n",
    "    'nthread': 8,\n",
    "    'seed': 1,\n",
    "    'verbosity': 1,\n",
    "}\n",
    "\n",
    "model = xgb.train(xgb_params, dtrain, num_boost_round=175)"
   ]
  },
  {
   "cell_type": "code",
   "execution_count": 206,
   "id": "9e0d5d91",
   "metadata": {},
   "outputs": [
    {
     "data": {
      "text/plain": [
       "0.7102568695853668"
      ]
     },
     "execution_count": 206,
     "metadata": {},
     "output_type": "execute_result"
    }
   ],
   "source": [
    "y_pred = model.predict(dval)\n",
    "roc_auc_score(y_val, y_pred)"
   ]
  },
  {
   "cell_type": "markdown",
   "id": "3aa52beb",
   "metadata": {},
   "source": [
    "### Choosing XGBoost as that seems to be provide the higher score compared to others"
   ]
  },
  {
   "cell_type": "code",
   "execution_count": 207,
   "id": "b3b5ee6a",
   "metadata": {},
   "outputs": [],
   "source": [
    "df_full_train = df_full_train.reset_index(drop=True)"
   ]
  },
  {
   "cell_type": "code",
   "execution_count": 209,
   "id": "4e67b263",
   "metadata": {},
   "outputs": [],
   "source": [
    "y_full_train = df_full_train.click.values"
   ]
  },
  {
   "cell_type": "code",
   "execution_count": 210,
   "id": "15e79640",
   "metadata": {},
   "outputs": [],
   "source": [
    "del df_full_train['click']"
   ]
  },
  {
   "cell_type": "code",
   "execution_count": 211,
   "id": "120276b8",
   "metadata": {},
   "outputs": [],
   "source": [
    "dicts_full_train = df_full_train.to_dict(orient='records')\n",
    "\n",
    "dv = DictVectorizer(sparse=False)\n",
    "X_full_train = dv.fit_transform(dicts_full_train)\n",
    "\n",
    "dicts_test = df_test.to_dict(orient='records')\n",
    "X_test = dv.transform(dicts_test)"
   ]
  },
  {
   "cell_type": "code",
   "execution_count": 212,
   "id": "3a59c351",
   "metadata": {},
   "outputs": [],
   "source": [
    "dfulltrain = xgb.DMatrix(X_full_train, label=y_full_train,\n",
    "                    feature_names=dv.get_feature_names())\n",
    "\n",
    "dtest = xgb.DMatrix(X_test, feature_names=dv.get_feature_names())"
   ]
  },
  {
   "cell_type": "code",
   "execution_count": 213,
   "id": "edaa074f",
   "metadata": {},
   "outputs": [],
   "source": [
    "xgb_params = {\n",
    "    'eta': 0.1, \n",
    "    'max_depth': 6,\n",
    "    'min_child_weight': 10,\n",
    "\n",
    "    'objective': 'binary:logistic',\n",
    "    'eval_metric': 'auc',\n",
    "\n",
    "    'nthread': 8,\n",
    "    'seed': 1,\n",
    "    'verbosity': 1,\n",
    "}\n",
    "\n",
    "model = xgb.train(xgb_params, dfulltrain, num_boost_round=175)"
   ]
  },
  {
   "cell_type": "code",
   "execution_count": 214,
   "id": "5fe23c25",
   "metadata": {},
   "outputs": [],
   "source": [
    "y_pred = model.predict(dtest)"
   ]
  },
  {
   "cell_type": "code",
   "execution_count": 215,
   "id": "a3edcc9f",
   "metadata": {},
   "outputs": [
    {
     "data": {
      "text/plain": [
       "0.7057804360518933"
      ]
     },
     "execution_count": 215,
     "metadata": {},
     "output_type": "execute_result"
    }
   ],
   "source": [
    "roc_auc_score(y_test, y_pred)"
   ]
  },
  {
   "cell_type": "code",
   "execution_count": null,
   "id": "4ac97de5",
   "metadata": {},
   "outputs": [],
   "source": []
  }
 ],
 "metadata": {
  "kernelspec": {
   "display_name": "Python 3 (ipykernel)",
   "language": "python",
   "name": "python3"
  },
  "language_info": {
   "codemirror_mode": {
    "name": "ipython",
    "version": 3
   },
   "file_extension": ".py",
   "mimetype": "text/x-python",
   "name": "python",
   "nbconvert_exporter": "python",
   "pygments_lexer": "ipython3",
   "version": "3.8.11"
  }
 },
 "nbformat": 4,
 "nbformat_minor": 5
}
