{
 "cells": [
  {
   "cell_type": "code",
   "execution_count": 1,
   "id": "18d4bd29",
   "metadata": {},
   "outputs": [],
   "source": [
    "import pandas as pd\n",
    "import numpy as np\n",
    "\n",
    "import matplotlib.pyplot as plt\n",
    "import seaborn as sns\n",
    "\n",
    "%matplotlib inline"
   ]
  },
  {
   "cell_type": "code",
   "execution_count": 2,
   "id": "479c0d7b",
   "metadata": {},
   "outputs": [
    {
     "name": "stdout",
     "output_type": "stream",
     "text": [
      "--2021-10-31 05:32:16--  https://www.openml.org/data/get_csv/184157/phpfGCaQC.csv\n",
      "Resolving www.openml.org (www.openml.org)... 131.155.11.11\n",
      "Connecting to www.openml.org (www.openml.org)|131.155.11.11|:443... connected.\n",
      "HTTP request sent, awaiting response... 200 OK\n",
      "Length: unspecified [text/plain]\n",
      "Saving to: ‘phpfGCaQC.csv’\n",
      "\n",
      "phpfGCaQC.csv           [    <=>             ]   2.75M  2.74MB/s    in 1.0s    \n",
      "\n",
      "2021-10-31 05:32:18 (2.74 MB/s) - ‘phpfGCaQC.csv’ saved [2885823]\n",
      "\n"
     ]
    }
   ],
   "source": [
    "data = \"https://www.openml.org/data/get_csv/184157/phpfGCaQC.csv\"\n",
    "\n",
    "!wget $data"
   ]
  },
  {
   "cell_type": "markdown",
   "id": "bdcc193f",
   "metadata": {},
   "source": [
    "#### Read the data and do the basic EDA"
   ]
  },
  {
   "cell_type": "code",
   "execution_count": 3,
   "id": "8df33a6b",
   "metadata": {},
   "outputs": [],
   "source": [
    "df = pd.read_csv('click_data.csv')"
   ]
  },
  {
   "cell_type": "code",
   "execution_count": 4,
   "id": "95ca42aa",
   "metadata": {},
   "outputs": [
    {
     "data": {
      "text/html": [
       "<div>\n",
       "<style scoped>\n",
       "    .dataframe tbody tr th:only-of-type {\n",
       "        vertical-align: middle;\n",
       "    }\n",
       "\n",
       "    .dataframe tbody tr th {\n",
       "        vertical-align: top;\n",
       "    }\n",
       "\n",
       "    .dataframe thead th {\n",
       "        text-align: right;\n",
       "    }\n",
       "</style>\n",
       "<table border=\"1\" class=\"dataframe\">\n",
       "  <thead>\n",
       "    <tr style=\"text-align: right;\">\n",
       "      <th></th>\n",
       "      <th>click</th>\n",
       "      <th>impression</th>\n",
       "      <th>url_hash</th>\n",
       "      <th>ad_id</th>\n",
       "      <th>advertiser_id</th>\n",
       "      <th>depth</th>\n",
       "      <th>position</th>\n",
       "      <th>query_id</th>\n",
       "      <th>keyword_id</th>\n",
       "      <th>title_id</th>\n",
       "      <th>description_id</th>\n",
       "      <th>user_id</th>\n",
       "    </tr>\n",
       "  </thead>\n",
       "  <tbody>\n",
       "    <tr>\n",
       "      <th>0</th>\n",
       "      <td>0</td>\n",
       "      <td>1</td>\n",
       "      <td>1.071003e+19</td>\n",
       "      <td>8343295</td>\n",
       "      <td>11700</td>\n",
       "      <td>3</td>\n",
       "      <td>3</td>\n",
       "      <td>7702266</td>\n",
       "      <td>21264</td>\n",
       "      <td>27892</td>\n",
       "      <td>1559</td>\n",
       "      <td>0</td>\n",
       "    </tr>\n",
       "    <tr>\n",
       "      <th>1</th>\n",
       "      <td>1</td>\n",
       "      <td>1</td>\n",
       "      <td>1.736385e+19</td>\n",
       "      <td>20017077</td>\n",
       "      <td>23798</td>\n",
       "      <td>1</td>\n",
       "      <td>1</td>\n",
       "      <td>93079</td>\n",
       "      <td>35498</td>\n",
       "      <td>4</td>\n",
       "      <td>36476</td>\n",
       "      <td>562934</td>\n",
       "    </tr>\n",
       "    <tr>\n",
       "      <th>2</th>\n",
       "      <td>0</td>\n",
       "      <td>1</td>\n",
       "      <td>8.915473e+18</td>\n",
       "      <td>21348354</td>\n",
       "      <td>36654</td>\n",
       "      <td>1</td>\n",
       "      <td>1</td>\n",
       "      <td>10981</td>\n",
       "      <td>19975</td>\n",
       "      <td>36105</td>\n",
       "      <td>33292</td>\n",
       "      <td>11621116</td>\n",
       "    </tr>\n",
       "    <tr>\n",
       "      <th>3</th>\n",
       "      <td>0</td>\n",
       "      <td>1</td>\n",
       "      <td>4.426693e+18</td>\n",
       "      <td>20366086</td>\n",
       "      <td>33280</td>\n",
       "      <td>3</td>\n",
       "      <td>3</td>\n",
       "      <td>0</td>\n",
       "      <td>5942</td>\n",
       "      <td>4057</td>\n",
       "      <td>4390</td>\n",
       "      <td>8778348</td>\n",
       "    </tr>\n",
       "    <tr>\n",
       "      <th>4</th>\n",
       "      <td>0</td>\n",
       "      <td>1</td>\n",
       "      <td>1.157260e+19</td>\n",
       "      <td>6803526</td>\n",
       "      <td>10790</td>\n",
       "      <td>2</td>\n",
       "      <td>1</td>\n",
       "      <td>9881978</td>\n",
       "      <td>60593</td>\n",
       "      <td>25242</td>\n",
       "      <td>1679</td>\n",
       "      <td>12118311</td>\n",
       "    </tr>\n",
       "  </tbody>\n",
       "</table>\n",
       "</div>"
      ],
      "text/plain": [
       "   click  impression      url_hash     ad_id  advertiser_id  depth  position  \\\n",
       "0      0           1  1.071003e+19   8343295          11700      3         3   \n",
       "1      1           1  1.736385e+19  20017077          23798      1         1   \n",
       "2      0           1  8.915473e+18  21348354          36654      1         1   \n",
       "3      0           1  4.426693e+18  20366086          33280      3         3   \n",
       "4      0           1  1.157260e+19   6803526          10790      2         1   \n",
       "\n",
       "   query_id  keyword_id  title_id  description_id   user_id  \n",
       "0   7702266       21264     27892            1559         0  \n",
       "1     93079       35498         4           36476    562934  \n",
       "2     10981       19975     36105           33292  11621116  \n",
       "3         0        5942      4057            4390   8778348  \n",
       "4   9881978       60593     25242            1679  12118311  "
      ]
     },
     "execution_count": 4,
     "metadata": {},
     "output_type": "execute_result"
    }
   ],
   "source": [
    "df.head()"
   ]
  },
  {
   "cell_type": "code",
   "execution_count": 5,
   "id": "70cf1951",
   "metadata": {},
   "outputs": [
    {
     "data": {
      "text/html": [
       "<div>\n",
       "<style scoped>\n",
       "    .dataframe tbody tr th:only-of-type {\n",
       "        vertical-align: middle;\n",
       "    }\n",
       "\n",
       "    .dataframe tbody tr th {\n",
       "        vertical-align: top;\n",
       "    }\n",
       "\n",
       "    .dataframe thead th {\n",
       "        text-align: right;\n",
       "    }\n",
       "</style>\n",
       "<table border=\"1\" class=\"dataframe\">\n",
       "  <thead>\n",
       "    <tr style=\"text-align: right;\">\n",
       "      <th></th>\n",
       "      <th>click</th>\n",
       "      <th>impression</th>\n",
       "      <th>url_hash</th>\n",
       "      <th>ad_id</th>\n",
       "      <th>advertiser_id</th>\n",
       "      <th>depth</th>\n",
       "      <th>position</th>\n",
       "      <th>query_id</th>\n",
       "      <th>keyword_id</th>\n",
       "      <th>title_id</th>\n",
       "      <th>description_id</th>\n",
       "      <th>user_id</th>\n",
       "    </tr>\n",
       "  </thead>\n",
       "  <tbody>\n",
       "    <tr>\n",
       "      <th>count</th>\n",
       "      <td>39948.000000</td>\n",
       "      <td>39948.000000</td>\n",
       "      <td>3.994800e+04</td>\n",
       "      <td>3.994800e+04</td>\n",
       "      <td>39948.000000</td>\n",
       "      <td>39948.000000</td>\n",
       "      <td>39948.000000</td>\n",
       "      <td>3.994800e+04</td>\n",
       "      <td>3.994800e+04</td>\n",
       "      <td>3.994800e+04</td>\n",
       "      <td>3.994800e+04</td>\n",
       "      <td>3.994800e+04</td>\n",
       "    </tr>\n",
       "    <tr>\n",
       "      <th>mean</th>\n",
       "      <td>0.168419</td>\n",
       "      <td>2.100205</td>\n",
       "      <td>9.641350e+18</td>\n",
       "      <td>1.601672e+07</td>\n",
       "      <td>22454.496546</td>\n",
       "      <td>1.960023</td>\n",
       "      <td>1.463853</td>\n",
       "      <td>3.142146e+06</td>\n",
       "      <td>3.519443e+04</td>\n",
       "      <td>1.732829e+05</td>\n",
       "      <td>1.111509e+05</td>\n",
       "      <td>3.669622e+06</td>\n",
       "    </tr>\n",
       "    <tr>\n",
       "      <th>std</th>\n",
       "      <td>0.374243</td>\n",
       "      <td>65.867383</td>\n",
       "      <td>4.986705e+18</td>\n",
       "      <td>7.222260e+06</td>\n",
       "      <td>11796.085798</td>\n",
       "      <td>0.715407</td>\n",
       "      <td>0.631545</td>\n",
       "      <td>5.841540e+06</td>\n",
       "      <td>1.009148e+05</td>\n",
       "      <td>4.656748e+05</td>\n",
       "      <td>3.283742e+05</td>\n",
       "      <td>5.492058e+06</td>\n",
       "    </tr>\n",
       "    <tr>\n",
       "      <th>min</th>\n",
       "      <td>0.000000</td>\n",
       "      <td>1.000000</td>\n",
       "      <td>4.824369e+14</td>\n",
       "      <td>1.000515e+06</td>\n",
       "      <td>82.000000</td>\n",
       "      <td>1.000000</td>\n",
       "      <td>1.000000</td>\n",
       "      <td>0.000000e+00</td>\n",
       "      <td>0.000000e+00</td>\n",
       "      <td>0.000000e+00</td>\n",
       "      <td>0.000000e+00</td>\n",
       "      <td>0.000000e+00</td>\n",
       "    </tr>\n",
       "    <tr>\n",
       "      <th>25%</th>\n",
       "      <td>0.000000</td>\n",
       "      <td>1.000000</td>\n",
       "      <td>5.468728e+18</td>\n",
       "      <td>9.027238e+06</td>\n",
       "      <td>13476.500000</td>\n",
       "      <td>1.000000</td>\n",
       "      <td>1.000000</td>\n",
       "      <td>2.364250e+03</td>\n",
       "      <td>3.700000e+02</td>\n",
       "      <td>6.707500e+02</td>\n",
       "      <td>3.560000e+02</td>\n",
       "      <td>1.472250e+03</td>\n",
       "    </tr>\n",
       "    <tr>\n",
       "      <th>50%</th>\n",
       "      <td>0.000000</td>\n",
       "      <td>1.000000</td>\n",
       "      <td>1.034947e+19</td>\n",
       "      <td>2.030373e+07</td>\n",
       "      <td>23808.000000</td>\n",
       "      <td>2.000000</td>\n",
       "      <td>1.000000</td>\n",
       "      <td>1.128365e+05</td>\n",
       "      <td>3.389000e+03</td>\n",
       "      <td>1.065400e+04</td>\n",
       "      <td>5.048000e+03</td>\n",
       "      <td>8.883865e+05</td>\n",
       "    </tr>\n",
       "    <tr>\n",
       "      <th>75%</th>\n",
       "      <td>0.000000</td>\n",
       "      <td>1.000000</td>\n",
       "      <td>1.434039e+19</td>\n",
       "      <td>2.116392e+07</td>\n",
       "      <td>32124.000000</td>\n",
       "      <td>2.000000</td>\n",
       "      <td>2.000000</td>\n",
       "      <td>3.147909e+06</td>\n",
       "      <td>2.103000e+04</td>\n",
       "      <td>1.002895e+05</td>\n",
       "      <td>5.286175e+04</td>\n",
       "      <td>5.129631e+06</td>\n",
       "    </tr>\n",
       "    <tr>\n",
       "      <th>max</th>\n",
       "      <td>1.000000</td>\n",
       "      <td>11820.000000</td>\n",
       "      <td>1.844094e+19</td>\n",
       "      <td>2.222734e+07</td>\n",
       "      <td>39074.000000</td>\n",
       "      <td>3.000000</td>\n",
       "      <td>3.000000</td>\n",
       "      <td>2.624010e+07</td>\n",
       "      <td>1.243163e+06</td>\n",
       "      <td>4.050208e+06</td>\n",
       "      <td>3.171504e+06</td>\n",
       "      <td>2.390734e+07</td>\n",
       "    </tr>\n",
       "  </tbody>\n",
       "</table>\n",
       "</div>"
      ],
      "text/plain": [
       "              click    impression      url_hash         ad_id  advertiser_id  \\\n",
       "count  39948.000000  39948.000000  3.994800e+04  3.994800e+04   39948.000000   \n",
       "mean       0.168419      2.100205  9.641350e+18  1.601672e+07   22454.496546   \n",
       "std        0.374243     65.867383  4.986705e+18  7.222260e+06   11796.085798   \n",
       "min        0.000000      1.000000  4.824369e+14  1.000515e+06      82.000000   \n",
       "25%        0.000000      1.000000  5.468728e+18  9.027238e+06   13476.500000   \n",
       "50%        0.000000      1.000000  1.034947e+19  2.030373e+07   23808.000000   \n",
       "75%        0.000000      1.000000  1.434039e+19  2.116392e+07   32124.000000   \n",
       "max        1.000000  11820.000000  1.844094e+19  2.222734e+07   39074.000000   \n",
       "\n",
       "              depth      position      query_id    keyword_id      title_id  \\\n",
       "count  39948.000000  39948.000000  3.994800e+04  3.994800e+04  3.994800e+04   \n",
       "mean       1.960023      1.463853  3.142146e+06  3.519443e+04  1.732829e+05   \n",
       "std        0.715407      0.631545  5.841540e+06  1.009148e+05  4.656748e+05   \n",
       "min        1.000000      1.000000  0.000000e+00  0.000000e+00  0.000000e+00   \n",
       "25%        1.000000      1.000000  2.364250e+03  3.700000e+02  6.707500e+02   \n",
       "50%        2.000000      1.000000  1.128365e+05  3.389000e+03  1.065400e+04   \n",
       "75%        2.000000      2.000000  3.147909e+06  2.103000e+04  1.002895e+05   \n",
       "max        3.000000      3.000000  2.624010e+07  1.243163e+06  4.050208e+06   \n",
       "\n",
       "       description_id       user_id  \n",
       "count    3.994800e+04  3.994800e+04  \n",
       "mean     1.111509e+05  3.669622e+06  \n",
       "std      3.283742e+05  5.492058e+06  \n",
       "min      0.000000e+00  0.000000e+00  \n",
       "25%      3.560000e+02  1.472250e+03  \n",
       "50%      5.048000e+03  8.883865e+05  \n",
       "75%      5.286175e+04  5.129631e+06  \n",
       "max      3.171504e+06  2.390734e+07  "
      ]
     },
     "execution_count": 5,
     "metadata": {},
     "output_type": "execute_result"
    }
   ],
   "source": [
    "df.describe()"
   ]
  },
  {
   "cell_type": "code",
   "execution_count": 6,
   "id": "b1220105",
   "metadata": {},
   "outputs": [
    {
     "data": {
      "text/plain": [
       "0"
      ]
     },
     "execution_count": 6,
     "metadata": {},
     "output_type": "execute_result"
    }
   ],
   "source": [
    "df.click.isna().sum()"
   ]
  },
  {
   "cell_type": "code",
   "execution_count": 7,
   "id": "865ec9a1",
   "metadata": {},
   "outputs": [
    {
     "data": {
      "text/plain": [
       "click             0\n",
       "impression        0\n",
       "url_hash          0\n",
       "ad_id             0\n",
       "advertiser_id     0\n",
       "depth             0\n",
       "position          0\n",
       "query_id          0\n",
       "keyword_id        0\n",
       "title_id          0\n",
       "description_id    0\n",
       "user_id           0\n",
       "dtype: int64"
      ]
     },
     "execution_count": 7,
     "metadata": {},
     "output_type": "execute_result"
    }
   ],
   "source": [
    "df.isna().sum()"
   ]
  },
  {
   "cell_type": "markdown",
   "id": "48997cbc",
   "metadata": {},
   "source": [
    "#### Target variable is click. \n",
    "#### Data doesn't seem to have any missing values."
   ]
  },
  {
   "cell_type": "code",
   "execution_count": 8,
   "id": "05692f40",
   "metadata": {},
   "outputs": [
    {
     "data": {
      "text/plain": [
       "0    33220\n",
       "1     6728\n",
       "Name: click, dtype: int64"
      ]
     },
     "execution_count": 8,
     "metadata": {},
     "output_type": "execute_result"
    }
   ],
   "source": [
    "df.click.value_counts()"
   ]
  },
  {
   "cell_type": "markdown",
   "id": "91775662",
   "metadata": {},
   "source": [
    "#### As we can see above, click 0 has more occurences than click 1. \n",
    "#### Note: The original dataset already had this class imbalance and in the downloaded csv, downsampling of the majority class (click=0) has been done so that the target feature is reasonably balanced (5 to 1). "
   ]
  },
  {
   "cell_type": "markdown",
   "id": "8ebd0f2e",
   "metadata": {},
   "source": [
    "### Data Preparation for training. Splitting the data to train/validation/test sets."
   ]
  },
  {
   "cell_type": "code",
   "execution_count": 9,
   "id": "8dd5cd11",
   "metadata": {},
   "outputs": [],
   "source": [
    "from sklearn.model_selection import train_test_split"
   ]
  },
  {
   "cell_type": "code",
   "execution_count": 10,
   "id": "92a762b1",
   "metadata": {},
   "outputs": [],
   "source": [
    "df_full_train, df_test = train_test_split(df, test_size=0.2, random_state=1)\n",
    "df_train, df_val = train_test_split(df_full_train, test_size=0.25, random_state=1)"
   ]
  },
  {
   "cell_type": "code",
   "execution_count": 11,
   "id": "97de6d86",
   "metadata": {},
   "outputs": [
    {
     "data": {
      "text/plain": [
       "(23968, 7990, 7990)"
      ]
     },
     "execution_count": 11,
     "metadata": {},
     "output_type": "execute_result"
    }
   ],
   "source": [
    "len(df_train), len(df_val), len(df_test)"
   ]
  },
  {
   "cell_type": "code",
   "execution_count": 12,
   "id": "27d11886",
   "metadata": {},
   "outputs": [],
   "source": [
    "df_train = df_train.reset_index(drop=True)\n",
    "df_val = df_val.reset_index(drop=True)\n",
    "df_test = df_test.reset_index(drop=True)"
   ]
  },
  {
   "cell_type": "code",
   "execution_count": 13,
   "id": "b737aa2c",
   "metadata": {},
   "outputs": [],
   "source": [
    "y_train = df_train.click.values\n",
    "y_val = df_val.click.values\n",
    "y_test = df_test.click.values\n",
    "\n",
    "del df_train['click']\n",
    "del df_val['click']\n",
    "del df_test['click']"
   ]
  },
  {
   "cell_type": "markdown",
   "id": "2ba563f1",
   "metadata": {},
   "source": [
    "### EDA"
   ]
  },
  {
   "cell_type": "markdown",
   "id": "a70b396f",
   "metadata": {},
   "source": [
    "#### Check the value counts of click variable to understand the imbalance"
   ]
  },
  {
   "cell_type": "code",
   "execution_count": 14,
   "id": "33ac27d8",
   "metadata": {},
   "outputs": [
    {
     "data": {
      "text/plain": [
       "0    0.830621\n",
       "1    0.169379\n",
       "Name: click, dtype: float64"
      ]
     },
     "execution_count": 14,
     "metadata": {},
     "output_type": "execute_result"
    }
   ],
   "source": [
    "df_full_train.click.value_counts(normalize=True)"
   ]
  },
  {
   "cell_type": "markdown",
   "id": "4068a29f",
   "metadata": {},
   "source": [
    "#### As you can see above 83% of the data has click 0 and 16% has click 1."
   ]
  },
  {
   "cell_type": "markdown",
   "id": "acb3f770",
   "metadata": {},
   "source": [
    "#### Lets try to do Feature Importance to identify which features are affecting the target variable Click"
   ]
  },
  {
   "cell_type": "code",
   "execution_count": 15,
   "id": "5299db02",
   "metadata": {},
   "outputs": [
    {
     "data": {
      "text/plain": [
       "click             1.000000\n",
       "impression        0.023952\n",
       "url_hash          0.008151\n",
       "ad_id             0.018725\n",
       "advertiser_id     0.030278\n",
       "depth             0.052021\n",
       "position          0.123598\n",
       "query_id          0.077591\n",
       "keyword_id        0.030610\n",
       "title_id          0.015195\n",
       "description_id    0.007121\n",
       "user_id           0.079518\n",
       "dtype: float64"
      ]
     },
     "execution_count": 15,
     "metadata": {},
     "output_type": "execute_result"
    }
   ],
   "source": [
    "corr_mat = df_full_train.corrwith(df.click).abs()\n",
    "corr_mat"
   ]
  },
  {
   "cell_type": "markdown",
   "id": "baa08e12",
   "metadata": {},
   "source": [
    "#### Position where the Ad has been displayed seems to be more correlated to the click than other attributes."
   ]
  },
  {
   "cell_type": "code",
   "execution_count": 16,
   "id": "672c5f71",
   "metadata": {},
   "outputs": [
    {
     "data": {
      "text/html": [
       "<div>\n",
       "<style scoped>\n",
       "    .dataframe tbody tr th:only-of-type {\n",
       "        vertical-align: middle;\n",
       "    }\n",
       "\n",
       "    .dataframe tbody tr th {\n",
       "        vertical-align: top;\n",
       "    }\n",
       "\n",
       "    .dataframe thead th {\n",
       "        text-align: right;\n",
       "    }\n",
       "</style>\n",
       "<table border=\"1\" class=\"dataframe\">\n",
       "  <thead>\n",
       "    <tr style=\"text-align: right;\">\n",
       "      <th></th>\n",
       "      <th>click</th>\n",
       "      <th>impression</th>\n",
       "      <th>url_hash</th>\n",
       "      <th>ad_id</th>\n",
       "      <th>advertiser_id</th>\n",
       "      <th>depth</th>\n",
       "      <th>position</th>\n",
       "      <th>query_id</th>\n",
       "      <th>keyword_id</th>\n",
       "      <th>title_id</th>\n",
       "      <th>description_id</th>\n",
       "      <th>user_id</th>\n",
       "    </tr>\n",
       "  </thead>\n",
       "  <tbody>\n",
       "    <tr>\n",
       "      <th>20749</th>\n",
       "      <td>0</td>\n",
       "      <td>2</td>\n",
       "      <td>1.245930e+19</td>\n",
       "      <td>21431057</td>\n",
       "      <td>36677</td>\n",
       "      <td>2</td>\n",
       "      <td>2</td>\n",
       "      <td>13702</td>\n",
       "      <td>2170</td>\n",
       "      <td>7232</td>\n",
       "      <td>7399</td>\n",
       "      <td>193679</td>\n",
       "    </tr>\n",
       "    <tr>\n",
       "      <th>16666</th>\n",
       "      <td>0</td>\n",
       "      <td>1</td>\n",
       "      <td>2.549832e+17</td>\n",
       "      <td>21219574</td>\n",
       "      <td>36195</td>\n",
       "      <td>2</td>\n",
       "      <td>1</td>\n",
       "      <td>12567</td>\n",
       "      <td>7956</td>\n",
       "      <td>121718</td>\n",
       "      <td>61582</td>\n",
       "      <td>1065818</td>\n",
       "    </tr>\n",
       "    <tr>\n",
       "      <th>15000</th>\n",
       "      <td>0</td>\n",
       "      <td>1</td>\n",
       "      <td>1.124352e+19</td>\n",
       "      <td>21116978</td>\n",
       "      <td>35398</td>\n",
       "      <td>3</td>\n",
       "      <td>1</td>\n",
       "      <td>5929258</td>\n",
       "      <td>4899</td>\n",
       "      <td>16433</td>\n",
       "      <td>29678</td>\n",
       "      <td>0</td>\n",
       "    </tr>\n",
       "    <tr>\n",
       "      <th>26903</th>\n",
       "      <td>0</td>\n",
       "      <td>1</td>\n",
       "      <td>1.434039e+19</td>\n",
       "      <td>21163923</td>\n",
       "      <td>23808</td>\n",
       "      <td>2</td>\n",
       "      <td>1</td>\n",
       "      <td>105522</td>\n",
       "      <td>3120</td>\n",
       "      <td>5427</td>\n",
       "      <td>37</td>\n",
       "      <td>2304994</td>\n",
       "    </tr>\n",
       "    <tr>\n",
       "      <th>4383</th>\n",
       "      <td>0</td>\n",
       "      <td>1</td>\n",
       "      <td>9.454445e+18</td>\n",
       "      <td>9682594</td>\n",
       "      <td>17036</td>\n",
       "      <td>2</td>\n",
       "      <td>1</td>\n",
       "      <td>9637273</td>\n",
       "      <td>25351</td>\n",
       "      <td>100649</td>\n",
       "      <td>102203</td>\n",
       "      <td>4405908</td>\n",
       "    </tr>\n",
       "  </tbody>\n",
       "</table>\n",
       "</div>"
      ],
      "text/plain": [
       "       click  impression      url_hash     ad_id  advertiser_id  depth  \\\n",
       "20749      0           2  1.245930e+19  21431057          36677      2   \n",
       "16666      0           1  2.549832e+17  21219574          36195      2   \n",
       "15000      0           1  1.124352e+19  21116978          35398      3   \n",
       "26903      0           1  1.434039e+19  21163923          23808      2   \n",
       "4383       0           1  9.454445e+18   9682594          17036      2   \n",
       "\n",
       "       position  query_id  keyword_id  title_id  description_id  user_id  \n",
       "20749         2     13702        2170      7232            7399   193679  \n",
       "16666         1     12567        7956    121718           61582  1065818  \n",
       "15000         1   5929258        4899     16433           29678        0  \n",
       "26903         1    105522        3120      5427              37  2304994  \n",
       "4383          1   9637273       25351    100649          102203  4405908  "
      ]
     },
     "execution_count": 16,
     "metadata": {},
     "output_type": "execute_result"
    }
   ],
   "source": [
    "df_full_train.head()"
   ]
  },
  {
   "cell_type": "markdown",
   "id": "2f346c27",
   "metadata": {},
   "source": [
    "#### Since column url_hash has very big values and also as we can see from the correlation matrix that its correlation to the target variable is very less (0.008), removing the column for training purpose."
   ]
  },
  {
   "cell_type": "code",
   "execution_count": 17,
   "id": "5491b893",
   "metadata": {},
   "outputs": [],
   "source": [
    "df_train_cpy = df_train.copy()\n",
    "df_train_cpy.columns\n",
    "\n",
    "df_train = df_train.drop(['url_hash'],axis=1)\n",
    "\n",
    "df_val_cpy = df_val.copy()\n",
    "df_val = df_val.drop(['url_hash'],axis=1)"
   ]
  },
  {
   "cell_type": "markdown",
   "id": "ebe89305",
   "metadata": {},
   "source": [
    "### LogisticRegression"
   ]
  },
  {
   "cell_type": "code",
   "execution_count": 18,
   "id": "2d3825f5",
   "metadata": {},
   "outputs": [],
   "source": [
    "from sklearn.feature_extraction import DictVectorizer\n",
    "from sklearn.linear_model import LogisticRegression"
   ]
  },
  {
   "cell_type": "code",
   "execution_count": 19,
   "id": "e401c2b9",
   "metadata": {},
   "outputs": [
    {
     "data": {
      "text/plain": [
       "LogisticRegression(random_state=42, solver='liblinear')"
      ]
     },
     "execution_count": 19,
     "metadata": {},
     "output_type": "execute_result"
    }
   ],
   "source": [
    "dv = DictVectorizer(sparse=False)\n",
    "\n",
    "train_dict = df_train.to_dict(orient='records')\n",
    "X_train = dv.fit_transform(train_dict)\n",
    "\n",
    "model = LogisticRegression(solver='liblinear', C=1.0, random_state=42)\n",
    "model.fit(X_train, y_train)"
   ]
  },
  {
   "cell_type": "code",
   "execution_count": 20,
   "id": "ce46d414",
   "metadata": {},
   "outputs": [],
   "source": [
    "from sklearn.metrics import accuracy_score"
   ]
  },
  {
   "cell_type": "code",
   "execution_count": 21,
   "id": "9fb1763a",
   "metadata": {},
   "outputs": [
    {
     "data": {
      "text/plain": [
       "0.8369211514392991"
      ]
     },
     "execution_count": 21,
     "metadata": {},
     "output_type": "execute_result"
    }
   ],
   "source": [
    "val_dict = df_val.to_dict(orient='records')\n",
    "X_val = dv.transform(val_dict)\n",
    "\n",
    "y_pred = model.predict_proba(X_val)[:, 1]\n",
    "accuracy_score(y_val, y_pred >= 0.5)"
   ]
  },
  {
   "cell_type": "code",
   "execution_count": 22,
   "id": "f66fdb05",
   "metadata": {},
   "outputs": [
    {
     "name": "stdout",
     "output_type": "stream",
     "text": [
      "0.00 0.163\n",
      "0.05 0.181\n",
      "0.10 0.254\n",
      "0.15 0.450\n",
      "0.20 0.593\n",
      "0.25 0.656\n",
      "0.30 0.745\n",
      "0.35 0.785\n",
      "0.40 0.809\n",
      "0.45 0.827\n",
      "0.50 0.837\n",
      "0.55 0.837\n",
      "0.60 0.837\n",
      "0.65 0.837\n",
      "0.70 0.837\n",
      "0.75 0.837\n",
      "0.80 0.837\n",
      "0.85 0.837\n",
      "0.90 0.837\n",
      "0.95 0.837\n",
      "1.00 0.837\n"
     ]
    },
    {
     "data": {
      "text/plain": [
       "[0.16257822277847309,\n",
       " 0.18135168961201503,\n",
       " 0.2536921151439299,\n",
       " 0.45043804755944933,\n",
       " 0.592866082603254,\n",
       " 0.6555694618272842,\n",
       " 0.7451814768460576,\n",
       " 0.7847309136420526,\n",
       " 0.8085106382978723,\n",
       " 0.8266583229036295,\n",
       " 0.8369211514392991,\n",
       " 0.83729662077597,\n",
       " 0.83729662077597,\n",
       " 0.8374217772215269,\n",
       " 0.8374217772215269,\n",
       " 0.8374217772215269,\n",
       " 0.8374217772215269,\n",
       " 0.8374217772215269,\n",
       " 0.8374217772215269,\n",
       " 0.8374217772215269,\n",
       " 0.8374217772215269]"
      ]
     },
     "execution_count": 22,
     "metadata": {},
     "output_type": "execute_result"
    }
   ],
   "source": [
    "thresholds = np.linspace(0, 1, 21)\n",
    "\n",
    "scores = []\n",
    "\n",
    "for t in thresholds:\n",
    "    score = accuracy_score(y_val, y_pred >= t)\n",
    "    print('%.2f %.3f' % (t, score))\n",
    "    scores.append(score)\n",
    "\n",
    "scores"
   ]
  },
  {
   "cell_type": "markdown",
   "id": "e90e26ba",
   "metadata": {},
   "source": [
    "#### As you can see above, setting the threshold value of 0.5 seems to be the best for predicting accuracy score. "
   ]
  },
  {
   "cell_type": "markdown",
   "id": "e8fc612c",
   "metadata": {},
   "source": [
    "#### Confusion Table for evaluation"
   ]
  },
  {
   "cell_type": "code",
   "execution_count": 23,
   "id": "a1fa6765",
   "metadata": {},
   "outputs": [
    {
     "data": {
      "text/plain": [
       "array([[6687,    4],\n",
       "       [1299,    0]])"
      ]
     },
     "execution_count": 23,
     "metadata": {},
     "output_type": "execute_result"
    }
   ],
   "source": [
    "actual_positive = (y_val == 1)\n",
    "actual_negative = (y_val == 0)\n",
    "\n",
    "t = 0.5\n",
    "predict_positive = (y_pred >= t)\n",
    "predict_negative = (y_pred < t)\n",
    "\n",
    "tp = (predict_positive & actual_positive).sum()\n",
    "tn = (predict_negative & actual_negative).sum()\n",
    "\n",
    "fp = (predict_positive & actual_negative).sum()\n",
    "fn = (predict_negative & actual_positive).sum()\n",
    "\n",
    "confusion_matrix = np.array([\n",
    "    [tn, fp],\n",
    "    [fn, tp]\n",
    "])\n",
    "confusion_matrix"
   ]
  },
  {
   "cell_type": "markdown",
   "id": "593e6377",
   "metadata": {},
   "source": [
    "#### Dataset seems to have been divided in such a way that true positive value is 0. We need to perform Cross Validation in the dataset to train the model in various different subsets."
   ]
  },
  {
   "cell_type": "code",
   "execution_count": 24,
   "id": "b73a66c3",
   "metadata": {},
   "outputs": [],
   "source": [
    "from sklearn.metrics import roc_auc_score"
   ]
  },
  {
   "cell_type": "code",
   "execution_count": 25,
   "id": "74d41d9d",
   "metadata": {},
   "outputs": [
    {
     "data": {
      "text/plain": [
       "0.5633788864639446"
      ]
     },
     "execution_count": 25,
     "metadata": {},
     "output_type": "execute_result"
    }
   ],
   "source": [
    "roc_auc_score(y_val, y_pred)"
   ]
  },
  {
   "cell_type": "markdown",
   "id": "8c3a4cbb",
   "metadata": {},
   "source": [
    "#### Though the accuracy score is 83% we see that roc_auc_score is 56% and the Precision and Recall we are unable to calculate properly due to the distribution of the dataset. "
   ]
  },
  {
   "cell_type": "markdown",
   "id": "da95b282",
   "metadata": {},
   "source": [
    "#### Applying Cross-Validation using KFold"
   ]
  },
  {
   "cell_type": "code",
   "execution_count": 26,
   "id": "e018109d",
   "metadata": {},
   "outputs": [],
   "source": [
    "def train(df_train, y_train, C=1.0):\n",
    "    dicts = df_train.to_dict(orient='records')\n",
    "\n",
    "    dv = DictVectorizer(sparse=False)\n",
    "    X_train = dv.fit_transform(dicts)\n",
    "\n",
    "    model = LogisticRegression(solver='liblinear', C=C, random_state=42, max_iter=1000)\n",
    "    model.fit(X_train, y_train)\n",
    "    \n",
    "    return dv, model"
   ]
  },
  {
   "cell_type": "code",
   "execution_count": 27,
   "id": "6c1ef61e",
   "metadata": {},
   "outputs": [],
   "source": [
    "def predict(df, dv, model):\n",
    "    dicts = df.to_dict(orient='records')\n",
    "\n",
    "    X = dv.transform(dicts)\n",
    "    y_pred = model.predict_proba(X)[:, 1]\n",
    "\n",
    "    return y_pred"
   ]
  },
  {
   "cell_type": "code",
   "execution_count": 28,
   "id": "db9a9cca",
   "metadata": {},
   "outputs": [],
   "source": [
    "def precision_and_recall(y_val,y_pred):\n",
    "    actual_positive = (y_val == 1)\n",
    "    actual_negative = (y_val == 0)\n",
    "\n",
    "    t = 0.5\n",
    "    predict_positive = (y_pred >= t)\n",
    "    predict_negative = (y_pred < t)\n",
    "\n",
    "    tp = (predict_positive & actual_positive).sum()\n",
    "    tn = (predict_negative & actual_negative).sum()\n",
    "\n",
    "    fp = (predict_positive & actual_negative).sum()\n",
    "    fn = (predict_negative & actual_positive).sum()\n",
    "    p = tp / (tp + fp)\n",
    "    r = tp / (tp + fn)\n",
    "    p, r"
   ]
  },
  {
   "cell_type": "code",
   "execution_count": 29,
   "id": "51cfba8a",
   "metadata": {},
   "outputs": [],
   "source": [
    "from sklearn.model_selection import KFold"
   ]
  },
  {
   "cell_type": "code",
   "execution_count": 30,
   "id": "9d66eb1f",
   "metadata": {},
   "outputs": [],
   "source": [
    "\n",
    "df_full_train_cpy = df_full_train.copy()\n",
    "df_full_train = df_full_train.drop(['url_hash'],axis=1)"
   ]
  },
  {
   "cell_type": "code",
   "execution_count": 31,
   "id": "bedc4f1a",
   "metadata": {},
   "outputs": [
    {
     "name": "stdout",
     "output_type": "stream",
     "text": [
      "C=0.001 0.568348 +- 0.000000\n",
      "C=0.001 0.560483 +- 0.007866\n",
      "C=0.001 0.561084 +- 0.006478\n",
      "C=0.001 0.564312 +- 0.007920\n",
      "C=0.001 0.563848 +- 0.007145\n",
      "C=0.01 0.568362 +- 0.000000\n",
      "C=0.01 0.560490 +- 0.007872\n",
      "C=0.01 0.561089 +- 0.006483\n",
      "C=0.01 0.564317 +- 0.007923\n",
      "C=0.01 0.563854 +- 0.007147\n",
      "C=0.1 0.568356 +- 0.000000\n",
      "C=0.1 0.560487 +- 0.007870\n",
      "C=0.1 0.561087 +- 0.006481\n",
      "C=0.1 0.564315 +- 0.007923\n",
      "C=0.1 0.563851 +- 0.007147\n",
      "C=0.5 0.568362 +- 0.000000\n",
      "C=0.5 0.560489 +- 0.007872\n",
      "C=0.5 0.561089 +- 0.006483\n",
      "C=0.5 0.564316 +- 0.007923\n",
      "C=0.5 0.563853 +- 0.007147\n",
      "C=1 0.568362 +- 0.000000\n",
      "C=1 0.560490 +- 0.007872\n",
      "C=1 0.561089 +- 0.006483\n",
      "C=1 0.564316 +- 0.007923\n",
      "C=1 0.563852 +- 0.007148\n",
      "C=5 0.568356 +- 0.000000\n",
      "C=5 0.560487 +- 0.007870\n",
      "C=5 0.561093 +- 0.006483\n",
      "C=5 0.564319 +- 0.007920\n",
      "C=5 0.563854 +- 0.007145\n",
      "C=10 0.568362 +- 0.000000\n",
      "C=10 0.560489 +- 0.007872\n",
      "C=10 0.561095 +- 0.006485\n",
      "C=10 0.564321 +- 0.007922\n",
      "C=10 0.563856 +- 0.007147\n"
     ]
    }
   ],
   "source": [
    "n_splits = 5\n",
    "\n",
    "for C in [0.001, 0.01, 0.1, 0.5, 1, 5, 10]:\n",
    "    kfold = KFold(n_splits=n_splits, shuffle=True, random_state=1)\n",
    "\n",
    "    scores = []\n",
    "    precision = []\n",
    "    recall = []\n",
    "\n",
    "    for train_idx, val_idx in kfold.split(df_full_train):\n",
    "        df_train = df_full_train.iloc[train_idx]\n",
    "        df_val = df_full_train.iloc[val_idx]\n",
    "\n",
    "        y_train = df_train.click.values\n",
    "        y_val = df_val.click.values\n",
    "\n",
    "        dv, model = train(df_train, y_train, C=C)\n",
    "        y_pred = predict(df_val, dv, model)\n",
    "\n",
    "        auc = roc_auc_score(y_val, y_pred)\n",
    "        scores.append(auc)\n",
    "        print('C=%s %.6f +- %.6f' % (C, np.mean(scores), np.std(scores)))\n",
    "    \n",
    "\n",
    "    "
   ]
  },
  {
   "cell_type": "markdown",
   "id": "4b8cc257",
   "metadata": {},
   "source": [
    "#### Most of the C parameter values are almost similar. Hence deciding on C=0.01"
   ]
  },
  {
   "cell_type": "markdown",
   "id": "29c2fd51",
   "metadata": {},
   "source": [
    "### Performing Logistic Regression on validation dataset provides an accuracy score of 0.568362"
   ]
  },
  {
   "cell_type": "markdown",
   "id": "fc987536",
   "metadata": {},
   "source": [
    "### Ridge Model"
   ]
  },
  {
   "cell_type": "code",
   "execution_count": 32,
   "id": "1907769b",
   "metadata": {},
   "outputs": [],
   "source": [
    "from sklearn.linear_model import Ridge"
   ]
  },
  {
   "cell_type": "code",
   "execution_count": 36,
   "id": "70db8015",
   "metadata": {},
   "outputs": [],
   "source": [
    "df_full_train, df_test = train_test_split(df, test_size=0.2, random_state=1)\n",
    "df_train, df_val = train_test_split(df_full_train, test_size=0.25, random_state=1)\n",
    "\n",
    "df_train = df_train.reset_index(drop=True)\n",
    "df_val = df_val.reset_index(drop=True)\n",
    "df_test = df_test.reset_index(drop=True)\n",
    "\n",
    "y_train = df_train.click.values\n",
    "y_val = df_val.click.values\n",
    "y_test = df_test.click.values\n",
    "\n",
    "del df_train['click']\n",
    "del df_val['click']\n",
    "del df_test['click']\n",
    "\n",
    "df_train_cpy = df_train.copy()\n",
    "df_train.columns\n",
    "\n",
    "df_train = df_train.drop(['url_hash'],axis=1)\n",
    "\n",
    "df_val_cpy = df_val.copy()\n",
    "df_val = df_val.drop(['url_hash'],axis=1)\n",
    "\n",
    "train_dict = df_train.to_dict(orient='records')\n",
    "X_train = dv.fit_transform(train_dict)\n",
    "\n",
    "val_dict = df_val.to_dict(orient='records')\n",
    "X_val = dv.transform(val_dict)\n"
   ]
  },
  {
   "cell_type": "code",
   "execution_count": 37,
   "id": "35c66a54",
   "metadata": {},
   "outputs": [
    {
     "data": {
      "text/plain": [
       "array([0.19499961, 0.18158732, 0.14696818, ..., 0.18989415, 0.11764419,\n",
       "       0.19259215])"
      ]
     },
     "execution_count": 37,
     "metadata": {},
     "output_type": "execute_result"
    }
   ],
   "source": [
    "ridge_model = Ridge(alpha=0, random_state=42)\n",
    "ridge_model.fit(X_train,y_train)\n",
    "\n",
    "val_dict = df_val.to_dict(orient='records')\n",
    "X_val = dv.transform(val_dict)\n",
    "\n",
    "y_pred = ridge_model.predict(X_val)\n",
    "y_pred"
   ]
  },
  {
   "cell_type": "code",
   "execution_count": 38,
   "id": "12f7ef3a",
   "metadata": {},
   "outputs": [],
   "source": [
    "def rmse(y, y_pred):\n",
    "    se = (y - y_pred) ** 2\n",
    "    mse = se.mean()\n",
    "    return np.sqrt(mse)"
   ]
  },
  {
   "cell_type": "code",
   "execution_count": 39,
   "id": "2f6ac384",
   "metadata": {},
   "outputs": [
    {
     "data": {
      "text/plain": [
       "0.49"
      ]
     },
     "execution_count": 39,
     "metadata": {},
     "output_type": "execute_result"
    }
   ],
   "source": [
    "score_with_alpha_0 = rmse(y_val, y_pred) \n",
    "score_with_alpha_0.round(3)"
   ]
  },
  {
   "cell_type": "code",
   "execution_count": 40,
   "id": "08f571c7",
   "metadata": {},
   "outputs": [
    {
     "name": "stdout",
     "output_type": "stream",
     "text": [
      "alpha, score 0 0.48964901633762403\n",
      "alpha, score 0.01 0.4896490148661009\n",
      "alpha, score 0.1 0.48964900162347835\n",
      "alpha, score 1 0.48964886930474527\n",
      "alpha, score 10 0.48964755683318206\n"
     ]
    }
   ],
   "source": [
    "for a in [0, 0.01, 0.1, 1, 10]:\n",
    "    ridge_model = Ridge(alpha=a, random_state=42)\n",
    "    ridge_model.fit(X_train,y_train)\n",
    "    y_pred = ridge_model.predict(X_val)\n",
    "    score = rmse(y_val, y_pred)\n",
    "    print('alpha, score', a, score)"
   ]
  },
  {
   "cell_type": "markdown",
   "id": "6be1197f",
   "metadata": {},
   "source": [
    "#### As you can see above tuning alpha parameter is not having much of a difference in the scores. Hence alpha = 0 is good enough for the Ridge model"
   ]
  },
  {
   "cell_type": "markdown",
   "id": "af8ecebb",
   "metadata": {},
   "source": [
    "### RMSE score with Ridge model on the Validation Dataset is 0.489. This is lower than what we observed performing Logistic Regression."
   ]
  },
  {
   "cell_type": "markdown",
   "id": "e53bce6e",
   "metadata": {},
   "source": [
    "### Decision Tree"
   ]
  },
  {
   "cell_type": "code",
   "execution_count": 41,
   "id": "876ac8d9",
   "metadata": {},
   "outputs": [],
   "source": [
    "from sklearn.tree import DecisionTreeClassifier\n",
    "from sklearn.tree import export_text\n",
    "from sklearn.metrics import roc_auc_score\n",
    "from sklearn.tree import export_text"
   ]
  },
  {
   "cell_type": "code",
   "execution_count": 42,
   "id": "a748566a",
   "metadata": {},
   "outputs": [
    {
     "data": {
      "text/plain": [
       "DecisionTreeClassifier(max_depth=1, random_state=42)"
      ]
     },
     "execution_count": 42,
     "metadata": {},
     "output_type": "execute_result"
    }
   ],
   "source": [
    "dt = DecisionTreeClassifier(max_depth=1,random_state=42)\n",
    "dt.fit(X_train, y_train)"
   ]
  },
  {
   "cell_type": "code",
   "execution_count": 43,
   "id": "58269022",
   "metadata": {},
   "outputs": [
    {
     "data": {
      "text/plain": [
       "0.5663410537680653"
      ]
     },
     "execution_count": 43,
     "metadata": {},
     "output_type": "execute_result"
    }
   ],
   "source": [
    "y_pred = dt.predict_proba(X_val)[:, 1]\n",
    "score_depth_1 = roc_auc_score(y_val, y_pred)\n",
    "score_depth_1"
   ]
  },
  {
   "cell_type": "markdown",
   "id": "4dd345f7",
   "metadata": {},
   "source": [
    "#### Lets tune the max_depth and min_samples_leaf parameter and see if the score improves"
   ]
  },
  {
   "cell_type": "code",
   "execution_count": 44,
   "id": "ec7d45c0",
   "metadata": {},
   "outputs": [
    {
     "name": "stdout",
     "output_type": "stream",
     "text": [
      "   1 -> 0.566\n",
      "   2 -> 0.619\n",
      "   3 -> 0.635\n",
      "   4 -> 0.649\n",
      "   5 -> 0.662\n",
      "   6 -> 0.672\n",
      "  10 -> 0.652\n",
      "  15 -> 0.607\n",
      "  20 -> 0.578\n",
      "None -> 0.559\n"
     ]
    }
   ],
   "source": [
    "depths = [1, 2, 3, 4, 5, 6, 10, 15, 20, None]\n",
    "\n",
    "for depth in depths: \n",
    "    dt = DecisionTreeClassifier(max_depth=depth,random_state=42)\n",
    "    dt.fit(X_train, y_train)\n",
    "    \n",
    "    y_pred = dt.predict_proba(X_val)[:, 1]\n",
    "    auc = roc_auc_score(y_val, y_pred)\n",
    "    \n",
    "    print('%4s -> %.3f' % (depth, auc))"
   ]
  },
  {
   "cell_type": "markdown",
   "id": "1f58bfc8",
   "metadata": {},
   "source": [
    "#### max_depth = [5, 6]  seems to give better scores. But to prevent overfitting lets take max_depth values [4,5,6] and tune the min_sample_leaf parameter"
   ]
  },
  {
   "cell_type": "code",
   "execution_count": 45,
   "id": "e52cda26",
   "metadata": {},
   "outputs": [],
   "source": [
    "scores = []\n",
    "\n",
    "for depth in [4, 5, 6]:\n",
    "    for s in [1, 5, 10, 15, 20, 500, 100, 200]:\n",
    "        dt = DecisionTreeClassifier(max_depth=depth, min_samples_leaf=s,random_state=42)\n",
    "        dt.fit(X_train, y_train)\n",
    "\n",
    "        y_pred = dt.predict_proba(X_val)[:, 1]\n",
    "        auc = roc_auc_score(y_val, y_pred)\n",
    "        \n",
    "        scores.append((depth, s, auc))"
   ]
  },
  {
   "cell_type": "code",
   "execution_count": 46,
   "id": "f916ec2c",
   "metadata": {},
   "outputs": [
    {
     "data": {
      "text/html": [
       "<div>\n",
       "<style scoped>\n",
       "    .dataframe tbody tr th:only-of-type {\n",
       "        vertical-align: middle;\n",
       "    }\n",
       "\n",
       "    .dataframe tbody tr th {\n",
       "        vertical-align: top;\n",
       "    }\n",
       "\n",
       "    .dataframe thead tr th {\n",
       "        text-align: left;\n",
       "    }\n",
       "\n",
       "    .dataframe thead tr:last-of-type th {\n",
       "        text-align: right;\n",
       "    }\n",
       "</style>\n",
       "<table border=\"1\" class=\"dataframe\">\n",
       "  <thead>\n",
       "    <tr>\n",
       "      <th></th>\n",
       "      <th colspan=\"3\" halign=\"left\">auc</th>\n",
       "    </tr>\n",
       "    <tr>\n",
       "      <th>max_depth</th>\n",
       "      <th>4</th>\n",
       "      <th>5</th>\n",
       "      <th>6</th>\n",
       "    </tr>\n",
       "    <tr>\n",
       "      <th>min_samples_leaf</th>\n",
       "      <th></th>\n",
       "      <th></th>\n",
       "      <th></th>\n",
       "    </tr>\n",
       "  </thead>\n",
       "  <tbody>\n",
       "    <tr>\n",
       "      <th>1</th>\n",
       "      <td>0.649</td>\n",
       "      <td>0.662</td>\n",
       "      <td>0.672</td>\n",
       "    </tr>\n",
       "    <tr>\n",
       "      <th>5</th>\n",
       "      <td>0.649</td>\n",
       "      <td>0.662</td>\n",
       "      <td>0.673</td>\n",
       "    </tr>\n",
       "    <tr>\n",
       "      <th>10</th>\n",
       "      <td>0.649</td>\n",
       "      <td>0.663</td>\n",
       "      <td>0.674</td>\n",
       "    </tr>\n",
       "    <tr>\n",
       "      <th>15</th>\n",
       "      <td>0.649</td>\n",
       "      <td>0.664</td>\n",
       "      <td>0.675</td>\n",
       "    </tr>\n",
       "    <tr>\n",
       "      <th>20</th>\n",
       "      <td>0.649</td>\n",
       "      <td>0.664</td>\n",
       "      <td>0.675</td>\n",
       "    </tr>\n",
       "    <tr>\n",
       "      <th>100</th>\n",
       "      <td>0.650</td>\n",
       "      <td>0.664</td>\n",
       "      <td>0.672</td>\n",
       "    </tr>\n",
       "    <tr>\n",
       "      <th>200</th>\n",
       "      <td>0.650</td>\n",
       "      <td>0.663</td>\n",
       "      <td>0.672</td>\n",
       "    </tr>\n",
       "    <tr>\n",
       "      <th>500</th>\n",
       "      <td>0.651</td>\n",
       "      <td>0.659</td>\n",
       "      <td>0.665</td>\n",
       "    </tr>\n",
       "  </tbody>\n",
       "</table>\n",
       "</div>"
      ],
      "text/plain": [
       "                    auc              \n",
       "max_depth             4      5      6\n",
       "min_samples_leaf                     \n",
       "1                 0.649  0.662  0.672\n",
       "5                 0.649  0.662  0.673\n",
       "10                0.649  0.663  0.674\n",
       "15                0.649  0.664  0.675\n",
       "20                0.649  0.664  0.675\n",
       "100               0.650  0.664  0.672\n",
       "200               0.650  0.663  0.672\n",
       "500               0.651  0.659  0.665"
      ]
     },
     "execution_count": 46,
     "metadata": {},
     "output_type": "execute_result"
    }
   ],
   "source": [
    "columns = ['max_depth', 'min_samples_leaf', 'auc']\n",
    "df_scores = pd.DataFrame(scores, columns=columns)\n",
    "\n",
    "df_scores_pivot = df_scores.pivot(index='min_samples_leaf', columns=['max_depth'], values=['auc'])\n",
    "df_scores_pivot.round(3)"
   ]
  },
  {
   "cell_type": "code",
   "execution_count": 47,
   "id": "90df67aa",
   "metadata": {},
   "outputs": [
    {
     "data": {
      "text/plain": [
       "<AxesSubplot:xlabel='None-max_depth', ylabel='min_samples_leaf'>"
      ]
     },
     "execution_count": 47,
     "metadata": {},
     "output_type": "execute_result"
    },
    {
     "data": {
      "image/png": "[encoded data removed]",
      "text/plain": [
       "<Figure size 432x288 with 2 Axes>"
      ]
     },
     "metadata": {
      "needs_background": "light"
     },
     "output_type": "display_data"
    }
   ],
   "source": [
    "sns.heatmap(df_scores_pivot, annot=True, fmt=\".3f\")\n"
   ]
  },
  {
   "cell_type": "markdown",
   "id": "1cd4f964",
   "metadata": {},
   "source": [
    "#### As we can see score seems to be more for max_depth=6 and min_samples_leaf = [15, 20]"
   ]
  },
  {
   "cell_type": "code",
   "execution_count": 48,
   "id": "5bbcfe68",
   "metadata": {},
   "outputs": [
    {
     "data": {
      "text/plain": [
       "DecisionTreeClassifier(max_depth=6, min_samples_leaf=15, random_state=42)"
      ]
     },
     "execution_count": 48,
     "metadata": {},
     "output_type": "execute_result"
    }
   ],
   "source": [
    "dt = DecisionTreeClassifier(max_depth=6, min_samples_leaf=15,random_state=42)\n",
    "dt.fit(X_train, y_train)"
   ]
  },
  {
   "cell_type": "code",
   "execution_count": 49,
   "id": "e351932d",
   "metadata": {},
   "outputs": [
    {
     "name": "stdout",
     "output_type": "stream",
     "text": [
      "|--- user_id <= 239403.00\n",
      "|   |--- impression <= 6.50\n",
      "|   |   |--- impression <= 1.50\n",
      "|   |   |   |--- keyword_id <= 357352.00\n",
      "|   |   |   |   |--- user_id <= 26258.50\n",
      "|   |   |   |   |   |--- depth <= 2.50\n",
      "|   |   |   |   |   |   |--- class: 0\n",
      "|   |   |   |   |   |--- depth >  2.50\n",
      "|   |   |   |   |   |   |--- class: 0\n",
      "|   |   |   |   |--- user_id >  26258.50\n",
      "|   |   |   |   |   |--- query_id <= 64455.00\n",
      "|   |   |   |   |   |   |--- class: 0\n",
      "|   |   |   |   |   |--- query_id >  64455.00\n",
      "|   |   |   |   |   |   |--- class: 0\n",
      "|   |   |   |--- keyword_id >  357352.00\n",
      "|   |   |   |   |--- user_id <= 60201.00\n",
      "|   |   |   |   |   |--- description_id <= 11202.00\n",
      "|   |   |   |   |   |   |--- class: 0\n",
      "|   |   |   |   |   |--- description_id >  11202.00\n",
      "|   |   |   |   |   |   |--- class: 0\n",
      "|   |   |   |   |--- user_id >  60201.00\n",
      "|   |   |   |   |   |--- user_id <= 130287.00\n",
      "|   |   |   |   |   |   |--- class: 1\n",
      "|   |   |   |   |   |--- user_id >  130287.00\n",
      "|   |   |   |   |   |   |--- class: 0\n",
      "|   |   |--- impression >  1.50\n",
      "|   |   |   |--- query_id <= 227839.00\n",
      "|   |   |   |   |--- impression <= 3.50\n",
      "|   |   |   |   |   |--- depth <= 2.50\n",
      "|   |   |   |   |   |   |--- class: 0\n",
      "|   |   |   |   |   |--- depth >  2.50\n",
      "|   |   |   |   |   |   |--- class: 0\n",
      "|   |   |   |   |--- impression >  3.50\n",
      "|   |   |   |   |   |--- user_id <= 30.50\n",
      "|   |   |   |   |   |   |--- class: 0\n",
      "|   |   |   |   |   |--- user_id >  30.50\n",
      "|   |   |   |   |   |   |--- class: 0\n",
      "|   |   |   |--- query_id >  227839.00\n",
      "|   |   |   |   |--- title_id <= 2424805.50\n",
      "|   |   |   |   |   |--- position <= 1.50\n",
      "|   |   |   |   |   |   |--- class: 0\n",
      "|   |   |   |   |   |--- position >  1.50\n",
      "|   |   |   |   |   |   |--- class: 0\n",
      "|   |   |   |   |--- title_id >  2424805.50\n",
      "|   |   |   |   |   |--- class: 0\n",
      "|   |--- impression >  6.50\n",
      "|   |   |--- query_id <= 11215.00\n",
      "|   |   |   |--- ad_id <= 6570783.00\n",
      "|   |   |   |   |--- class: 0\n",
      "|   |   |   |--- ad_id >  6570783.00\n",
      "|   |   |   |   |--- impression <= 16.50\n",
      "|   |   |   |   |   |--- title_id <= 31295.00\n",
      "|   |   |   |   |   |   |--- class: 0\n",
      "|   |   |   |   |   |--- title_id >  31295.00\n",
      "|   |   |   |   |   |   |--- class: 1\n",
      "|   |   |   |   |--- impression >  16.50\n",
      "|   |   |   |   |   |--- description_id <= 13127.50\n",
      "|   |   |   |   |   |   |--- class: 1\n",
      "|   |   |   |   |   |--- description_id >  13127.50\n",
      "|   |   |   |   |   |   |--- class: 1\n",
      "|   |   |--- query_id >  11215.00\n",
      "|   |   |   |--- query_id <= 80137.00\n",
      "|   |   |   |   |--- depth <= 2.50\n",
      "|   |   |   |   |   |--- ad_id <= 10723667.50\n",
      "|   |   |   |   |   |   |--- class: 1\n",
      "|   |   |   |   |   |--- ad_id >  10723667.50\n",
      "|   |   |   |   |   |   |--- class: 0\n",
      "|   |   |   |   |--- depth >  2.50\n",
      "|   |   |   |   |   |--- class: 0\n",
      "|   |   |   |--- query_id >  80137.00\n",
      "|   |   |   |   |--- depth <= 1.50\n",
      "|   |   |   |   |   |--- advertiser_id <= 23803.00\n",
      "|   |   |   |   |   |   |--- class: 1\n",
      "|   |   |   |   |   |--- advertiser_id >  23803.00\n",
      "|   |   |   |   |   |   |--- class: 0\n",
      "|   |   |   |   |--- depth >  1.50\n",
      "|   |   |   |   |   |--- keyword_id <= 10247.00\n",
      "|   |   |   |   |   |   |--- class: 0\n",
      "|   |   |   |   |   |--- keyword_id >  10247.00\n",
      "|   |   |   |   |   |   |--- class: 0\n",
      "|--- user_id >  239403.00\n",
      "|   |--- position <= 1.50\n",
      "|   |   |--- query_id <= 2302778.00\n",
      "|   |   |   |--- advertiser_id <= 37286.50\n",
      "|   |   |   |   |--- depth <= 1.50\n",
      "|   |   |   |   |   |--- ad_id <= 3067071.00\n",
      "|   |   |   |   |   |   |--- class: 0\n",
      "|   |   |   |   |   |--- ad_id >  3067071.00\n",
      "|   |   |   |   |   |   |--- class: 0\n",
      "|   |   |   |   |--- depth >  1.50\n",
      "|   |   |   |   |   |--- title_id <= 645.00\n",
      "|   |   |   |   |   |   |--- class: 0\n",
      "|   |   |   |   |   |--- title_id >  645.00\n",
      "|   |   |   |   |   |   |--- class: 0\n",
      "|   |   |   |--- advertiser_id >  37286.50\n",
      "|   |   |   |   |--- keyword_id <= 196.00\n",
      "|   |   |   |   |   |--- user_id <= 1428076.50\n",
      "|   |   |   |   |   |   |--- class: 0\n",
      "|   |   |   |   |   |--- user_id >  1428076.50\n",
      "|   |   |   |   |   |   |--- class: 0\n",
      "|   |   |   |   |--- keyword_id >  196.00\n",
      "|   |   |   |   |   |--- depth <= 2.50\n",
      "|   |   |   |   |   |   |--- class: 0\n",
      "|   |   |   |   |   |--- depth >  2.50\n",
      "|   |   |   |   |   |   |--- class: 0\n",
      "|   |   |--- query_id >  2302778.00\n",
      "|   |   |   |--- keyword_id <= 461509.50\n",
      "|   |   |   |   |--- user_id <= 1043990.50\n",
      "|   |   |   |   |   |--- title_id <= 117590.00\n",
      "|   |   |   |   |   |   |--- class: 0\n",
      "|   |   |   |   |   |--- title_id >  117590.00\n",
      "|   |   |   |   |   |   |--- class: 0\n",
      "|   |   |   |   |--- user_id >  1043990.50\n",
      "|   |   |   |   |   |--- title_id <= 301600.50\n",
      "|   |   |   |   |   |   |--- class: 0\n",
      "|   |   |   |   |   |--- title_id >  301600.50\n",
      "|   |   |   |   |   |   |--- class: 0\n",
      "|   |   |   |--- keyword_id >  461509.50\n",
      "|   |   |   |   |--- title_id <= 1986972.00\n",
      "|   |   |   |   |   |--- class: 0\n",
      "|   |   |   |   |--- title_id >  1986972.00\n",
      "|   |   |   |   |   |--- description_id <= 1891137.00\n",
      "|   |   |   |   |   |   |--- class: 1\n",
      "|   |   |   |   |   |--- description_id >  1891137.00\n",
      "|   |   |   |   |   |   |--- class: 0\n",
      "|   |--- position >  1.50\n",
      "|   |   |--- keyword_id <= 365.00\n",
      "|   |   |   |--- keyword_id <= 0.50\n",
      "|   |   |   |   |--- class: 0\n",
      "|   |   |   |--- keyword_id >  0.50\n",
      "|   |   |   |   |--- description_id <= 26.50\n",
      "|   |   |   |   |   |--- ad_id <= 21145782.00\n",
      "|   |   |   |   |   |   |--- class: 0\n",
      "|   |   |   |   |   |--- ad_id >  21145782.00\n",
      "|   |   |   |   |   |   |--- class: 0\n",
      "|   |   |   |   |--- description_id >  26.50\n",
      "|   |   |   |   |   |--- ad_id <= 20108734.00\n",
      "|   |   |   |   |   |   |--- class: 0\n",
      "|   |   |   |   |   |--- ad_id >  20108734.00\n",
      "|   |   |   |   |   |   |--- class: 0\n",
      "|   |   |--- keyword_id >  365.00\n",
      "|   |   |   |--- impression <= 1.50\n",
      "|   |   |   |   |--- description_id <= 289163.00\n",
      "|   |   |   |   |   |--- advertiser_id <= 3655.00\n",
      "|   |   |   |   |   |   |--- class: 0\n",
      "|   |   |   |   |   |--- advertiser_id >  3655.00\n",
      "|   |   |   |   |   |   |--- class: 0\n",
      "|   |   |   |   |--- description_id >  289163.00\n",
      "|   |   |   |   |   |--- ad_id <= 20317904.00\n",
      "|   |   |   |   |   |   |--- class: 0\n",
      "|   |   |   |   |   |--- ad_id >  20317904.00\n",
      "|   |   |   |   |   |   |--- class: 0\n",
      "|   |   |   |--- impression >  1.50\n",
      "|   |   |   |   |--- query_id <= 1726447.00\n",
      "|   |   |   |   |   |--- keyword_id <= 24960.00\n",
      "|   |   |   |   |   |   |--- class: 0\n",
      "|   |   |   |   |   |--- keyword_id >  24960.00\n",
      "|   |   |   |   |   |   |--- class: 0\n",
      "|   |   |   |   |--- query_id >  1726447.00\n",
      "|   |   |   |   |   |--- advertiser_id <= 13548.50\n",
      "|   |   |   |   |   |   |--- class: 0\n",
      "|   |   |   |   |   |--- advertiser_id >  13548.50\n",
      "|   |   |   |   |   |   |--- class: 0\n",
      "\n"
     ]
    }
   ],
   "source": [
    "print(export_text(dt, feature_names=dv.get_feature_names()))\n"
   ]
  },
  {
   "cell_type": "code",
   "execution_count": 50,
   "id": "034ae51a",
   "metadata": {},
   "outputs": [
    {
     "data": {
      "text/plain": [
       "0.6749926279472535"
      ]
     },
     "execution_count": 50,
     "metadata": {},
     "output_type": "execute_result"
    }
   ],
   "source": [
    "y_pred = dt.predict_proba(X_val)[:, 1]\n",
    "auc = roc_auc_score(y_val, y_pred)\n",
    "auc"
   ]
  },
  {
   "cell_type": "markdown",
   "id": "4ffe11a9",
   "metadata": {},
   "source": [
    "### Score with Decision Tree Classifier was 0.675"
   ]
  },
  {
   "cell_type": "markdown",
   "id": "17ab47ab",
   "metadata": {},
   "source": [
    "### RandomForest"
   ]
  },
  {
   "cell_type": "code",
   "execution_count": 51,
   "id": "9cda38e9",
   "metadata": {},
   "outputs": [],
   "source": [
    "from sklearn.ensemble import RandomForestClassifier"
   ]
  },
  {
   "cell_type": "markdown",
   "id": "c6e2cc74",
   "metadata": {},
   "source": [
    "#### Tuning the n_estimators parameter for the RandomForestClassifier"
   ]
  },
  {
   "cell_type": "code",
   "execution_count": 52,
   "id": "8bb114d1",
   "metadata": {},
   "outputs": [],
   "source": [
    "scores = []\n",
    "\n",
    "for n in range(10, 201, 10):\n",
    "    rf = RandomForestClassifier(n_estimators=n, random_state=1)\n",
    "    rf.fit(X_train, y_train)\n",
    "\n",
    "    y_pred = rf.predict_proba(X_val)[:, 1]\n",
    "    auc = roc_auc_score(y_val, y_pred)\n",
    "    \n",
    "    scores.append((n, auc))"
   ]
  },
  {
   "cell_type": "code",
   "execution_count": 53,
   "id": "22a9d8b7",
   "metadata": {},
   "outputs": [
    {
     "data": {
      "text/plain": [
       "[<matplotlib.lines.Line2D at 0x7fc928e3fbe0>]"
      ]
     },
     "execution_count": 53,
     "metadata": {},
     "output_type": "execute_result"
    },
    {
     "data": {
      "image/png": "[encoded data removed]",
      "text/plain": [
       "<Figure size 432x288 with 1 Axes>"
      ]
     },
     "metadata": {
      "needs_background": "light"
     },
     "output_type": "display_data"
    }
   ],
   "source": [
    "df_scores = pd.DataFrame(scores, columns=['n_estimators', 'auc'])\n",
    "plt.plot(df_scores.n_estimators, df_scores.auc)"
   ]
  },
  {
   "cell_type": "markdown",
   "id": "874efd93",
   "metadata": {},
   "source": [
    "#### As seen above around n_estimators=120 the model provides best accuracy after which it stays stagnant."
   ]
  },
  {
   "cell_type": "markdown",
   "id": "4d1f3ca2",
   "metadata": {},
   "source": [
    "#### Tuning the max_depth parameter"
   ]
  },
  {
   "cell_type": "code",
   "execution_count": 54,
   "id": "515afd82",
   "metadata": {},
   "outputs": [],
   "source": [
    "scores = []\n",
    "\n",
    "for d in [5, 10, 15]:\n",
    "    for n in range(10, 201, 10):\n",
    "        rf = RandomForestClassifier(n_estimators=n,\n",
    "                                    max_depth=d,\n",
    "                                    random_state=1)\n",
    "        rf.fit(X_train, y_train)\n",
    "\n",
    "        y_pred = rf.predict_proba(X_val)[:, 1]\n",
    "        auc = roc_auc_score(y_val, y_pred)\n",
    "\n",
    "        scores.append((d, n, auc))"
   ]
  },
  {
   "cell_type": "code",
   "execution_count": 55,
   "id": "8c4b0bc6",
   "metadata": {},
   "outputs": [],
   "source": [
    "columns = ['max_depth', 'n_estimators', 'auc']\n",
    "df_scores = pd.DataFrame(scores, columns=columns)"
   ]
  },
  {
   "cell_type": "code",
   "execution_count": 56,
   "id": "c27193d3",
   "metadata": {},
   "outputs": [
    {
     "data": {
      "text/plain": [
       "<matplotlib.legend.Legend at 0x7fc919eaa490>"
      ]
     },
     "execution_count": 56,
     "metadata": {},
     "output_type": "execute_result"
    },
    {
     "data": {
      "image/png": "[encoded data removed]",
      "text/plain": [
       "<Figure size 432x288 with 1 Axes>"
      ]
     },
     "metadata": {
      "needs_background": "light"
     },
     "output_type": "display_data"
    }
   ],
   "source": [
    "for d in [5, 10, 15]:\n",
    "    df_subset = df_scores[df_scores.max_depth == d]\n",
    "    \n",
    "    plt.plot(df_subset.n_estimators, df_subset.auc,\n",
    "             label='max_depth=%d' % d)\n",
    "\n",
    "plt.legend()"
   ]
  },
  {
   "cell_type": "markdown",
   "id": "d8dd9c81",
   "metadata": {},
   "source": [
    "#### Fixing max_depth = 10 as this seems to be performing well"
   ]
  },
  {
   "cell_type": "code",
   "execution_count": 57,
   "id": "4d939d51",
   "metadata": {},
   "outputs": [],
   "source": [
    "max_depth = 10"
   ]
  },
  {
   "cell_type": "markdown",
   "id": "fed79250",
   "metadata": {},
   "source": [
    "#### Tuning the min_samples_leaf parameter"
   ]
  },
  {
   "cell_type": "code",
   "execution_count": 58,
   "id": "68d3ec5f",
   "metadata": {},
   "outputs": [],
   "source": [
    "scores = []\n",
    "\n",
    "for s in [1, 3, 5, 10, 50]:\n",
    "    for n in range(10, 201, 10):\n",
    "        rf = RandomForestClassifier(n_estimators=n,\n",
    "                                    max_depth=max_depth,\n",
    "                                    min_samples_leaf=s,\n",
    "                                    random_state=1)\n",
    "        rf.fit(X_train, y_train)\n",
    "\n",
    "        y_pred = rf.predict_proba(X_val)[:, 1]\n",
    "        auc = roc_auc_score(y_val, y_pred)\n",
    "\n",
    "        scores.append((s, n, auc))"
   ]
  },
  {
   "cell_type": "code",
   "execution_count": 59,
   "id": "ddcdfa5c",
   "metadata": {},
   "outputs": [],
   "source": [
    "columns = ['min_samples_leaf', 'n_estimators', 'auc']\n",
    "df_scores = pd.DataFrame(scores, columns=columns)"
   ]
  },
  {
   "cell_type": "code",
   "execution_count": 60,
   "id": "3879d299",
   "metadata": {},
   "outputs": [
    {
     "data": {
      "text/plain": [
       "<matplotlib.legend.Legend at 0x7fc919ecd370>"
      ]
     },
     "execution_count": 60,
     "metadata": {},
     "output_type": "execute_result"
    },
    {
     "data": {
      "image/png": "[encoded data removed]",
      "text/plain": [
       "<Figure size 432x288 with 1 Axes>"
      ]
     },
     "metadata": {
      "needs_background": "light"
     },
     "output_type": "display_data"
    }
   ],
   "source": [
    "colors = ['black', 'blue', 'orange', 'red', 'grey']\n",
    "values = [1, 3, 5, 10, 50]\n",
    "\n",
    "for s, col in zip(values, colors):\n",
    "    df_subset = df_scores[df_scores.min_samples_leaf == s]\n",
    "    \n",
    "    plt.plot(df_subset.n_estimators, df_subset.auc,\n",
    "             color=col,\n",
    "             label='min_samples_leaf=%d' % s)\n",
    "\n",
    "plt.legend()"
   ]
  },
  {
   "cell_type": "markdown",
   "id": "55b27c36",
   "metadata": {},
   "source": [
    "#### As seen in the plot min_samples_leaf = 3 seems to have better performance"
   ]
  },
  {
   "cell_type": "code",
   "execution_count": 61,
   "id": "9b1fc24c",
   "metadata": {},
   "outputs": [],
   "source": [
    "min_samples_leaf = 3"
   ]
  },
  {
   "cell_type": "code",
   "execution_count": 62,
   "id": "1d5f7fdc",
   "metadata": {},
   "outputs": [
    {
     "data": {
      "text/plain": [
       "RandomForestClassifier(max_depth=10, min_samples_leaf=3, n_estimators=125,\n",
       "                       random_state=1)"
      ]
     },
     "execution_count": 62,
     "metadata": {},
     "output_type": "execute_result"
    }
   ],
   "source": [
    "rf = RandomForestClassifier(n_estimators=125,\n",
    "                            max_depth=max_depth,\n",
    "                            min_samples_leaf=min_samples_leaf,\n",
    "                            random_state=1)\n",
    "rf.fit(X_train, y_train)"
   ]
  },
  {
   "cell_type": "code",
   "execution_count": 63,
   "id": "4a1697c9",
   "metadata": {},
   "outputs": [
    {
     "data": {
      "text/plain": [
       "0.7054710468452964"
      ]
     },
     "execution_count": 63,
     "metadata": {},
     "output_type": "execute_result"
    }
   ],
   "source": [
    "y_pred = rf.predict_proba(X_val)[:, 1]\n",
    "score_with_rf = roc_auc_score(y_val, y_pred)\n",
    "score_with_rf"
   ]
  },
  {
   "cell_type": "markdown",
   "id": "1f4dbe2b",
   "metadata": {},
   "source": [
    "### Score with RandomForestClassifier = 0.7115"
   ]
  },
  {
   "cell_type": "markdown",
   "id": "dd7ec2e4",
   "metadata": {},
   "source": [
    "#### Training Data with XGBoost"
   ]
  },
  {
   "cell_type": "code",
   "execution_count": 64,
   "id": "b888eaaa",
   "metadata": {},
   "outputs": [
    {
     "name": "stdout",
     "output_type": "stream",
     "text": [
      "Collecting package metadata (current_repodata.json): done\n",
      "Solving environment: done\n",
      "\n",
      "# All requested packages already installed.\n",
      "\n",
      "\n",
      "Note: you may need to restart the kernel to use updated packages.\n"
     ]
    }
   ],
   "source": [
    "conda install -c conda-forge xgboost"
   ]
  },
  {
   "cell_type": "code",
   "execution_count": 65,
   "id": "9892bedc",
   "metadata": {},
   "outputs": [],
   "source": [
    "import xgboost as xgb"
   ]
  },
  {
   "cell_type": "code",
   "execution_count": 66,
   "id": "bb4756e7",
   "metadata": {},
   "outputs": [],
   "source": [
    "features = dv.get_feature_names()\n",
    "dtrain = xgb.DMatrix(X_train, label=y_train, feature_names=features)\n",
    "dval = xgb.DMatrix(X_val, label=y_val, feature_names=features)"
   ]
  },
  {
   "cell_type": "code",
   "execution_count": 67,
   "id": "bb52f7e3",
   "metadata": {},
   "outputs": [
    {
     "name": "stdout",
     "output_type": "stream",
     "text": [
      "[05:53:05] WARNING: /Users/runner/miniforge3/conda-bld/xgboost-split_1631904775127/work/src/learner.cc:1095: Starting in XGBoost 1.3.0, the default evaluation metric used with the objective 'binary:logistic' was changed from 'error' to 'logloss'. Explicitly set eval_metric if you'd like to restore the old behavior.\n"
     ]
    }
   ],
   "source": [
    "xgb_params = {\n",
    "    'eta': 0.3, \n",
    "    'max_depth': 6,\n",
    "    'min_child_weight': 1,\n",
    "    \n",
    "    'objective': 'binary:logistic',\n",
    "    'nthread': 8,\n",
    "    \n",
    "    'seed': 1,\n",
    "    'verbosity': 1,\n",
    "}\n",
    "\n",
    "model = xgb.train(xgb_params, dtrain, num_boost_round=10)"
   ]
  },
  {
   "cell_type": "code",
   "execution_count": 68,
   "id": "e99c4d39",
   "metadata": {},
   "outputs": [],
   "source": [
    "y_pred = model.predict(dval)"
   ]
  },
  {
   "cell_type": "code",
   "execution_count": 69,
   "id": "9494717c",
   "metadata": {},
   "outputs": [
    {
     "data": {
      "text/plain": [
       "0.6984379992243094"
      ]
     },
     "execution_count": 69,
     "metadata": {},
     "output_type": "execute_result"
    }
   ],
   "source": [
    "roc_auc_score(y_val, y_pred)\n"
   ]
  },
  {
   "cell_type": "code",
   "execution_count": 70,
   "id": "d1a67a31",
   "metadata": {},
   "outputs": [],
   "source": [
    "watchlist = [(dtrain, 'train'), (dval, 'val')]"
   ]
  },
  {
   "cell_type": "code",
   "execution_count": 71,
   "id": "71449b55",
   "metadata": {},
   "outputs": [],
   "source": [
    "%%capture output\n",
    "\n",
    "xgb_params = {\n",
    "    'eta': 0.3, \n",
    "    'max_depth': 6,\n",
    "    'min_child_weight': 1,\n",
    "    \n",
    "    'objective': 'binary:logistic',\n",
    "    'eval_metric': 'auc',\n",
    "\n",
    "    'nthread': 8,\n",
    "    'seed': 1,\n",
    "    'verbosity': 1,\n",
    "}\n",
    "\n",
    "model = xgb.train(xgb_params, dtrain, num_boost_round=200,\n",
    "                  verbose_eval=5,\n",
    "                  evals=watchlist)"
   ]
  },
  {
   "cell_type": "code",
   "execution_count": 72,
   "id": "945fb8c2",
   "metadata": {},
   "outputs": [
    {
     "name": "stdout",
     "output_type": "stream",
     "text": [
      "[0]\ttrain-auc:0.70342\tval-auc:0.67358\n",
      "[5]\ttrain-auc:0.74047\tval-auc:0.69320\n",
      "[10]\ttrain-auc:0.76426\tval-auc:0.69878\n",
      "[15]\ttrain-auc:0.78136\tval-auc:0.70088\n",
      "[20]\ttrain-auc:0.79816\tval-auc:0.70094\n",
      "[25]\ttr\n"
     ]
    }
   ],
   "source": [
    "s = output.stdout\n",
    "print(s[:200])"
   ]
  },
  {
   "cell_type": "code",
   "execution_count": 73,
   "id": "f741eb85",
   "metadata": {},
   "outputs": [],
   "source": [
    "def parse_xgb_output(output):\n",
    "    results = []\n",
    "\n",
    "    for line in output.stdout.strip().split('\\n'):\n",
    "        it_line, train_line, val_line = line.split('\\t')\n",
    "\n",
    "        it = int(it_line.strip('[]'))\n",
    "        train = float(train_line.split(':')[1])\n",
    "        val = float(val_line.split(':')[1])\n",
    "\n",
    "        results.append((it, train, val))\n",
    "    \n",
    "    columns = ['num_iter', 'train_auc', 'val_auc']\n",
    "    df_results = pd.DataFrame(results, columns=columns)\n",
    "    return df_results"
   ]
  },
  {
   "cell_type": "code",
   "execution_count": 74,
   "id": "58f62042",
   "metadata": {},
   "outputs": [
    {
     "data": {
      "text/plain": [
       "'eta=0.3'"
      ]
     },
     "execution_count": 74,
     "metadata": {},
     "output_type": "execute_result"
    }
   ],
   "source": [
    "scores = {}\n",
    "key = 'eta=%s' % (xgb_params['eta'])\n",
    "scores[key] = parse_xgb_output(output)\n",
    "key"
   ]
  },
  {
   "cell_type": "markdown",
   "id": "d79a435f",
   "metadata": {},
   "source": [
    "#### Tuning XGBoost parameters"
   ]
  },
  {
   "cell_type": "code",
   "execution_count": 75,
   "id": "07c5a53f",
   "metadata": {},
   "outputs": [],
   "source": [
    "%%capture output\n",
    "\n",
    "xgb_params = {\n",
    "    'eta': 0.01, \n",
    "    'max_depth': 6,\n",
    "    'min_child_weight': 1,\n",
    "    \n",
    "    'objective': 'binary:logistic',\n",
    "    'eval_metric': 'auc',\n",
    "\n",
    "    'nthread': 8,\n",
    "    'seed': 1,\n",
    "    'verbosity': 1,\n",
    "}\n",
    "\n",
    "model = xgb.train(xgb_params, dtrain, num_boost_round=200,\n",
    "                  verbose_eval=5,\n",
    "                  evals=watchlist)"
   ]
  },
  {
   "cell_type": "code",
   "execution_count": 76,
   "id": "7292692e",
   "metadata": {},
   "outputs": [
    {
     "data": {
      "text/plain": [
       "'eta=0.01'"
      ]
     },
     "execution_count": 76,
     "metadata": {},
     "output_type": "execute_result"
    }
   ],
   "source": [
    "\n",
    "key = 'eta=%s' % (xgb_params['eta'])\n",
    "scores[key] = parse_xgb_output(output)\n",
    "key"
   ]
  },
  {
   "cell_type": "code",
   "execution_count": 77,
   "id": "f8f4d21b",
   "metadata": {},
   "outputs": [],
   "source": [
    "%%capture output\n",
    "\n",
    "xgb_params = {\n",
    "    'eta': 0.1, \n",
    "    'max_depth': 6,\n",
    "    'min_child_weight': 1,\n",
    "    \n",
    "    'objective': 'binary:logistic',\n",
    "    'eval_metric': 'auc',\n",
    "\n",
    "    'nthread': 8,\n",
    "    'seed': 1,\n",
    "    'verbosity': 1,\n",
    "}\n",
    "\n",
    "model = xgb.train(xgb_params, dtrain, num_boost_round=200,\n",
    "                  verbose_eval=5,\n",
    "                  evals=watchlist)"
   ]
  },
  {
   "cell_type": "code",
   "execution_count": 78,
   "id": "ba0632ca",
   "metadata": {},
   "outputs": [
    {
     "data": {
      "text/plain": [
       "'eta=0.1'"
      ]
     },
     "execution_count": 78,
     "metadata": {},
     "output_type": "execute_result"
    }
   ],
   "source": [
    "key = 'eta=%s' % (xgb_params['eta'])\n",
    "scores[key] = parse_xgb_output(output)\n",
    "key"
   ]
  },
  {
   "cell_type": "code",
   "execution_count": 79,
   "id": "cc082cb2",
   "metadata": {},
   "outputs": [
    {
     "data": {
      "text/plain": [
       "{'eta=0.3':     num_iter  train_auc  val_auc\n",
       " 0          0    0.70342  0.67358\n",
       " 1          5    0.74047  0.69320\n",
       " 2         10    0.76426  0.69878\n",
       " 3         15    0.78136  0.70088\n",
       " 4         20    0.79816  0.70094\n",
       " 5         25    0.80960  0.70088\n",
       " 6         30    0.82454  0.70523\n",
       " 7         35    0.83625  0.70389\n",
       " 8         40    0.84709  0.70362\n",
       " 9         45    0.85358  0.70219\n",
       " 10        50    0.86198  0.69998\n",
       " 11        55    0.86941  0.69844\n",
       " 12        60    0.87641  0.69860\n",
       " 13        65    0.88206  0.70006\n",
       " 14        70    0.88726  0.70038\n",
       " 15        75    0.89247  0.69970\n",
       " 16        80    0.90102  0.69936\n",
       " 17        85    0.90673  0.69751\n",
       " 18        90    0.91150  0.69764\n",
       " 19        95    0.91636  0.69792\n",
       " 20       100    0.92215  0.69762\n",
       " 21       105    0.92700  0.69654\n",
       " 22       110    0.93031  0.69760\n",
       " 23       115    0.93501  0.69744\n",
       " 24       120    0.93660  0.69626\n",
       " 25       125    0.93954  0.69556\n",
       " 26       130    0.94319  0.69506\n",
       " 27       135    0.94686  0.69541\n",
       " 28       140    0.94812  0.69588\n",
       " 29       145    0.94966  0.69595\n",
       " 30       150    0.95153  0.69518\n",
       " 31       155    0.95555  0.69504\n",
       " 32       160    0.95708  0.69446\n",
       " 33       165    0.95945  0.69395\n",
       " 34       170    0.96189  0.69224\n",
       " 35       175    0.96379  0.69161\n",
       " 36       180    0.96604  0.69167\n",
       " 37       185    0.96744  0.69143\n",
       " 38       190    0.96962  0.69151\n",
       " 39       195    0.97092  0.69110\n",
       " 40       199    0.97159  0.69044,\n",
       " 'eta=0.01':     num_iter  train_auc  val_auc\n",
       " 0          0    0.70342  0.67358\n",
       " 1          5    0.70595  0.67392\n",
       " 2         10    0.70856  0.67510\n",
       " 3         15    0.71058  0.67636\n",
       " 4         20    0.71626  0.68016\n",
       " 5         25    0.71828  0.68194\n",
       " 6         30    0.72093  0.68357\n",
       " 7         35    0.72333  0.68471\n",
       " 8         40    0.72448  0.68516\n",
       " 9         45    0.72673  0.68647\n",
       " 10        50    0.72772  0.68705\n",
       " 11        55    0.72871  0.68771\n",
       " 12        60    0.72975  0.68835\n",
       " 13        65    0.73067  0.68869\n",
       " 14        70    0.73140  0.68893\n",
       " 15        75    0.73240  0.68933\n",
       " 16        80    0.73323  0.68961\n",
       " 17        85    0.73423  0.68990\n",
       " 18        90    0.73533  0.69035\n",
       " 19        95    0.73614  0.69048\n",
       " 20       100    0.73699  0.69082\n",
       " 21       105    0.73752  0.69127\n",
       " 22       110    0.73831  0.69145\n",
       " 23       115    0.73887  0.69190\n",
       " 24       120    0.73972  0.69240\n",
       " 25       125    0.74050  0.69280\n",
       " 26       130    0.74138  0.69295\n",
       " 27       135    0.74223  0.69351\n",
       " 28       140    0.74316  0.69399\n",
       " 29       145    0.74415  0.69436\n",
       " 30       150    0.74502  0.69461\n",
       " 31       155    0.74595  0.69498\n",
       " 32       160    0.74667  0.69522\n",
       " 33       165    0.74744  0.69541\n",
       " 34       170    0.74819  0.69585\n",
       " 35       175    0.74891  0.69613\n",
       " 36       180    0.74982  0.69659\n",
       " 37       185    0.75074  0.69709\n",
       " 38       190    0.75156  0.69749\n",
       " 39       195    0.75241  0.69784\n",
       " 40       199    0.75307  0.69815,\n",
       " 'eta=0.1':     num_iter  train_auc  val_auc\n",
       " 0          0    0.70342  0.67358\n",
       " 1          5    0.72781  0.68776\n",
       " 2         10    0.73715  0.69102\n",
       " 3         15    0.74486  0.69320\n",
       " 4         20    0.75175  0.69650\n",
       " 5         25    0.76044  0.69844\n",
       " 6         30    0.76912  0.70069\n",
       " 7         35    0.77603  0.70208\n",
       " 8         40    0.78188  0.70327\n",
       " 9         45    0.78656  0.70573\n",
       " 10        50    0.79175  0.70696\n",
       " 11        55    0.79799  0.70754\n",
       " 12        60    0.80041  0.70745\n",
       " 13        65    0.80449  0.70811\n",
       " 14        70    0.80898  0.70988\n",
       " 15        75    0.81428  0.70937\n",
       " 16        80    0.81842  0.70945\n",
       " 17        85    0.82415  0.71045\n",
       " 18        90    0.82770  0.71043\n",
       " 19        95    0.83159  0.70961\n",
       " 20       100    0.83514  0.70953\n",
       " 21       105    0.83612  0.71003\n",
       " 22       110    0.83844  0.70995\n",
       " 23       115    0.84144  0.70974\n",
       " 24       120    0.84405  0.70976\n",
       " 25       125    0.84761  0.70937\n",
       " 26       130    0.84959  0.70910\n",
       " 27       135    0.85207  0.70952\n",
       " 28       140    0.85506  0.70952\n",
       " 29       145    0.85825  0.70944\n",
       " 30       150    0.86217  0.70954\n",
       " 31       155    0.86543  0.70942\n",
       " 32       160    0.86754  0.70898\n",
       " 33       165    0.87142  0.70929\n",
       " 34       170    0.87524  0.70972\n",
       " 35       175    0.87726  0.70955\n",
       " 36       180    0.87950  0.70982\n",
       " 37       185    0.88187  0.70987\n",
       " 38       190    0.88343  0.71002\n",
       " 39       195    0.88651  0.70997\n",
       " 40       199    0.88779  0.70994}"
      ]
     },
     "execution_count": 79,
     "metadata": {},
     "output_type": "execute_result"
    }
   ],
   "source": [
    "scores"
   ]
  },
  {
   "cell_type": "code",
   "execution_count": 80,
   "id": "d17759cc",
   "metadata": {},
   "outputs": [
    {
     "data": {
      "text/plain": [
       "<matplotlib.legend.Legend at 0x7fc8e01b9250>"
      ]
     },
     "execution_count": 80,
     "metadata": {},
     "output_type": "execute_result"
    },
    {
     "data": {
      "image/png": "[encoded data removed]",
      "text/plain": [
       "<Figure size 432x288 with 1 Axes>"
      ]
     },
     "metadata": {
      "needs_background": "light"
     },
     "output_type": "display_data"
    }
   ],
   "source": [
    "for eta, df_score in scores.items():\n",
    "    plt.plot(df_score.num_iter, df_score.val_auc, label=eta)\n",
    "\n",
    "\n",
    "plt.legend()"
   ]
  },
  {
   "cell_type": "markdown",
   "id": "f6a8642b",
   "metadata": {},
   "source": [
    "#### As seen above eta=0.1 seems to provide good score"
   ]
  },
  {
   "cell_type": "markdown",
   "id": "710cc224",
   "metadata": {},
   "source": [
    "#### Tuning max_depth parameter"
   ]
  },
  {
   "cell_type": "code",
   "execution_count": 81,
   "id": "c7897d4d",
   "metadata": {},
   "outputs": [],
   "source": [
    "scores = {}"
   ]
  },
  {
   "cell_type": "code",
   "execution_count": 82,
   "id": "ecd10baa",
   "metadata": {},
   "outputs": [],
   "source": [
    "%%capture output\n",
    "\n",
    "xgb_params = {\n",
    "    'eta': 0.1, \n",
    "    'max_depth': 6,\n",
    "    'min_child_weight': 1,\n",
    "    \n",
    "    'objective': 'binary:logistic',\n",
    "    'eval_metric': 'auc',\n",
    "\n",
    "    'nthread': 8,\n",
    "    'seed': 1,\n",
    "    'verbosity': 1,\n",
    "}\n",
    "\n",
    "model = xgb.train(xgb_params, dtrain, num_boost_round=200,\n",
    "                  verbose_eval=5,\n",
    "                  evals=watchlist)"
   ]
  },
  {
   "cell_type": "code",
   "execution_count": 83,
   "id": "ab539100",
   "metadata": {},
   "outputs": [
    {
     "data": {
      "text/plain": [
       "'max_depth=6'"
      ]
     },
     "execution_count": 83,
     "metadata": {},
     "output_type": "execute_result"
    }
   ],
   "source": [
    "key = 'max_depth=%s' % (xgb_params['max_depth'])\n",
    "scores[key] = parse_xgb_output(output)\n",
    "key"
   ]
  },
  {
   "cell_type": "code",
   "execution_count": 84,
   "id": "4be303cd",
   "metadata": {},
   "outputs": [],
   "source": [
    "%%capture output\n",
    "\n",
    "xgb_params = {\n",
    "    'eta': 0.1, \n",
    "    'max_depth': 3,\n",
    "    'min_child_weight': 1,\n",
    "    \n",
    "    'objective': 'binary:logistic',\n",
    "    'eval_metric': 'auc',\n",
    "\n",
    "    'nthread': 8,\n",
    "    'seed': 1,\n",
    "    'verbosity': 1,\n",
    "}\n",
    "\n",
    "model = xgb.train(xgb_params, dtrain, num_boost_round=200,\n",
    "                  verbose_eval=5,\n",
    "                  evals=watchlist)"
   ]
  },
  {
   "cell_type": "code",
   "execution_count": 85,
   "id": "abb9e247",
   "metadata": {},
   "outputs": [
    {
     "data": {
      "text/plain": [
       "'max_depth=3'"
      ]
     },
     "execution_count": 85,
     "metadata": {},
     "output_type": "execute_result"
    }
   ],
   "source": [
    "key = 'max_depth=%s' % (xgb_params['max_depth'])\n",
    "scores[key] = parse_xgb_output(output)\n",
    "key"
   ]
  },
  {
   "cell_type": "code",
   "execution_count": 86,
   "id": "39a96ae2",
   "metadata": {},
   "outputs": [],
   "source": [
    "%%capture output\n",
    "\n",
    "xgb_params = {\n",
    "    'eta': 0.1, \n",
    "    'max_depth': 4,\n",
    "    'min_child_weight': 1,\n",
    "    \n",
    "    'objective': 'binary:logistic',\n",
    "    'eval_metric': 'auc',\n",
    "\n",
    "    'nthread': 8,\n",
    "    'seed': 1,\n",
    "    'verbosity': 1,\n",
    "}\n",
    "\n",
    "model = xgb.train(xgb_params, dtrain, num_boost_round=200,\n",
    "                  verbose_eval=5,\n",
    "                  evals=watchlist)"
   ]
  },
  {
   "cell_type": "code",
   "execution_count": 87,
   "id": "b3da5422",
   "metadata": {},
   "outputs": [
    {
     "data": {
      "text/plain": [
       "'max_depth=4'"
      ]
     },
     "execution_count": 87,
     "metadata": {},
     "output_type": "execute_result"
    }
   ],
   "source": [
    "key = 'max_depth=%s' % (xgb_params['max_depth'])\n",
    "scores[key] = parse_xgb_output(output)\n",
    "key"
   ]
  },
  {
   "cell_type": "code",
   "execution_count": 88,
   "id": "116239c4",
   "metadata": {},
   "outputs": [
    {
     "data": {
      "text/plain": [
       "<matplotlib.legend.Legend at 0x7fc8e8c85790>"
      ]
     },
     "execution_count": 88,
     "metadata": {},
     "output_type": "execute_result"
    },
    {
     "data": {
      "image/png": "[encoded data removed]",
      "text/plain": [
       "<Figure size 432x288 with 1 Axes>"
      ]
     },
     "metadata": {
      "needs_background": "light"
     },
     "output_type": "display_data"
    }
   ],
   "source": [
    "for max_depth, df_score in scores.items():\n",
    "    plt.plot(df_score.num_iter, df_score.val_auc, label=max_depth)\n",
    "\n",
    "\n",
    "plt.legend()"
   ]
  },
  {
   "cell_type": "markdown",
   "id": "1e2ceaf5",
   "metadata": {},
   "source": [
    "#### All the three values seems to be performing similar though max_depth=6 seems to remain consistent after reaching its peak. Hence choosing max_depth=6 for the model"
   ]
  },
  {
   "cell_type": "markdown",
   "id": "37128973",
   "metadata": {},
   "source": [
    "#### Tuning min_child_weight parameter"
   ]
  },
  {
   "cell_type": "code",
   "execution_count": 89,
   "id": "dabc6dd3",
   "metadata": {},
   "outputs": [],
   "source": [
    "scores = {}"
   ]
  },
  {
   "cell_type": "code",
   "execution_count": 90,
   "id": "f25d8567",
   "metadata": {},
   "outputs": [],
   "source": [
    "%%capture output\n",
    "\n",
    "xgb_params = {\n",
    "    'eta': 0.1, \n",
    "    'max_depth': 6,\n",
    "    'min_child_weight': 1,\n",
    "    \n",
    "    'objective': 'binary:logistic',\n",
    "    'eval_metric': 'auc',\n",
    "\n",
    "    'nthread': 8,\n",
    "    'seed': 1,\n",
    "    'verbosity': 1,\n",
    "}\n",
    "\n",
    "model = xgb.train(xgb_params, dtrain, num_boost_round=200,\n",
    "                  verbose_eval=5,\n",
    "                  evals=watchlist)"
   ]
  },
  {
   "cell_type": "code",
   "execution_count": 91,
   "id": "a2c2cb9c",
   "metadata": {},
   "outputs": [
    {
     "data": {
      "text/plain": [
       "'min_child_weight=1'"
      ]
     },
     "execution_count": 91,
     "metadata": {},
     "output_type": "execute_result"
    }
   ],
   "source": [
    "key = 'min_child_weight=%s' % (xgb_params['min_child_weight'])\n",
    "scores[key] = parse_xgb_output(output)\n",
    "key"
   ]
  },
  {
   "cell_type": "code",
   "execution_count": 92,
   "id": "aa8210eb",
   "metadata": {},
   "outputs": [],
   "source": [
    "%%capture output\n",
    "\n",
    "xgb_params = {\n",
    "    'eta': 0.1, \n",
    "    'max_depth': 6,\n",
    "    'min_child_weight': 10,\n",
    "    \n",
    "    'objective': 'binary:logistic',\n",
    "    'eval_metric': 'auc',\n",
    "\n",
    "    'nthread': 8,\n",
    "    'seed': 1,\n",
    "    'verbosity': 1,\n",
    "}\n",
    "\n",
    "model = xgb.train(xgb_params, dtrain, num_boost_round=200,\n",
    "                  verbose_eval=5,\n",
    "                  evals=watchlist)"
   ]
  },
  {
   "cell_type": "code",
   "execution_count": 93,
   "id": "d4869f33",
   "metadata": {},
   "outputs": [
    {
     "data": {
      "text/plain": [
       "'min_child_weight=10'"
      ]
     },
     "execution_count": 93,
     "metadata": {},
     "output_type": "execute_result"
    }
   ],
   "source": [
    "key = 'min_child_weight=%s' % (xgb_params['min_child_weight'])\n",
    "scores[key] = parse_xgb_output(output)\n",
    "key"
   ]
  },
  {
   "cell_type": "code",
   "execution_count": 94,
   "id": "c7986ef1",
   "metadata": {},
   "outputs": [],
   "source": [
    "%%capture output\n",
    "\n",
    "xgb_params = {\n",
    "    'eta': 0.1, \n",
    "    'max_depth': 6,\n",
    "    'min_child_weight': 30,\n",
    "    \n",
    "    'objective': 'binary:logistic',\n",
    "    'eval_metric': 'auc',\n",
    "\n",
    "    'nthread': 8,\n",
    "    'seed': 1,\n",
    "    'verbosity': 1,\n",
    "}\n",
    "\n",
    "model = xgb.train(xgb_params, dtrain, num_boost_round=200,\n",
    "                  verbose_eval=5,\n",
    "                  evals=watchlist)"
   ]
  },
  {
   "cell_type": "code",
   "execution_count": 95,
   "id": "dd53a6ce",
   "metadata": {},
   "outputs": [
    {
     "data": {
      "text/plain": [
       "'min_child_weight=30'"
      ]
     },
     "execution_count": 95,
     "metadata": {},
     "output_type": "execute_result"
    }
   ],
   "source": [
    "key = 'min_child_weight=%s' % (xgb_params['min_child_weight'])\n",
    "scores[key] = parse_xgb_output(output)\n",
    "key"
   ]
  },
  {
   "cell_type": "code",
   "execution_count": null,
   "id": "7fc74d5c",
   "metadata": {},
   "outputs": [],
   "source": [
    "for min_child_weight, df_score in scores.items():\n",
    "    plt.plot(df_score.num_iter, df_score.val_auc, label=min_child_weight)\n",
    "\n",
    "\n",
    "plt.legend()"
   ]
  },
  {
   "cell_type": "markdown",
   "id": "b3537429",
   "metadata": {},
   "source": [
    "#### As seen in the plot, all the values are quite similar. Choosing min_child_weight=10"
   ]
  },
  {
   "cell_type": "markdown",
   "id": "2be98c3a",
   "metadata": {},
   "source": [
    "### Selecting final model"
   ]
  },
  {
   "cell_type": "markdown",
   "id": "0bb5cdcd",
   "metadata": {},
   "source": [
    "#### Logistic Regression and Ridge regression doesn't seem to provide a good score. Hence choosing between DecisionTree/RandomForest/XGBoost"
   ]
  },
  {
   "cell_type": "code",
   "execution_count": null,
   "id": "674c05a6",
   "metadata": {},
   "outputs": [],
   "source": [
    "dt = DecisionTreeClassifier(max_depth=6, min_samples_leaf=15,random_state=42)\n",
    "dt.fit(X_train, y_train)"
   ]
  },
  {
   "cell_type": "code",
   "execution_count": null,
   "id": "4610091b",
   "metadata": {},
   "outputs": [],
   "source": [
    "y_pred = dt.predict_proba(X_val)[:, 1]\n",
    "roc_auc_score(y_val, y_pred)"
   ]
  },
  {
   "cell_type": "code",
   "execution_count": null,
   "id": "6390e9c6",
   "metadata": {},
   "outputs": [],
   "source": [
    "rf = RandomForestClassifier(n_estimators=125,\n",
    "                            max_depth=10,\n",
    "                            min_samples_leaf=3,\n",
    "                            random_state=1)\n",
    "rf.fit(X_train, y_train)"
   ]
  },
  {
   "cell_type": "code",
   "execution_count": null,
   "id": "39623b59",
   "metadata": {},
   "outputs": [],
   "source": [
    "y_pred = rf.predict_proba(X_val)[:, 1]\n",
    "roc_auc_score(y_val, y_pred)"
   ]
  },
  {
   "cell_type": "code",
   "execution_count": null,
   "id": "9429b4a6",
   "metadata": {},
   "outputs": [],
   "source": [
    "xgb_params = {\n",
    "    'eta': 0.1, \n",
    "    'max_depth': 6,\n",
    "    'min_child_weight': 10,\n",
    "\n",
    "    'objective': 'binary:logistic',\n",
    "    'eval_metric': 'auc',\n",
    "\n",
    "    'nthread': 8,\n",
    "    'seed': 1,\n",
    "    'verbosity': 1,\n",
    "}\n",
    "\n",
    "model = xgb.train(xgb_params, dtrain, num_boost_round=175)"
   ]
  },
  {
   "cell_type": "code",
   "execution_count": null,
   "id": "3546c917",
   "metadata": {},
   "outputs": [],
   "source": [
    "y_pred = model.predict(dval)\n",
    "roc_auc_score(y_val, y_pred)"
   ]
  },
  {
   "cell_type": "markdown",
   "id": "b8d89f60",
   "metadata": {},
   "source": [
    "### Choosing XGBoost as that seems to be provide the higher score compared to others"
   ]
  },
  {
   "cell_type": "code",
   "execution_count": null,
   "id": "1031371d",
   "metadata": {},
   "outputs": [],
   "source": [
    "df_full_train = df_full_train.reset_index(drop=True)"
   ]
  },
  {
   "cell_type": "code",
   "execution_count": null,
   "id": "42bd89df",
   "metadata": {},
   "outputs": [],
   "source": [
    "y_full_train = df_full_train.click.values"
   ]
  },
  {
   "cell_type": "code",
   "execution_count": null,
   "id": "adb86249",
   "metadata": {},
   "outputs": [],
   "source": [
    "del df_full_train['click']"
   ]
  },
  {
   "cell_type": "code",
   "execution_count": null,
   "id": "2ab78892",
   "metadata": {},
   "outputs": [],
   "source": [
    "dicts_full_train = df_full_train.to_dict(orient='records')\n",
    "\n",
    "dv = DictVectorizer(sparse=False)\n",
    "X_full_train = dv.fit_transform(dicts_full_train)\n",
    "\n",
    "dicts_test = df_test.to_dict(orient='records')\n",
    "X_test = dv.transform(dicts_test)"
   ]
  },
  {
   "cell_type": "code",
   "execution_count": null,
   "id": "e299743f",
   "metadata": {},
   "outputs": [],
   "source": [
    "dfulltrain = xgb.DMatrix(X_full_train, label=y_full_train,\n",
    "                    feature_names=dv.get_feature_names())\n",
    "\n",
    "dtest = xgb.DMatrix(X_test, feature_names=dv.get_feature_names())"
   ]
  },
  {
   "cell_type": "code",
   "execution_count": null,
   "id": "bdd4c4f9",
   "metadata": {},
   "outputs": [],
   "source": [
    "xgb_params = {\n",
    "    'eta': 0.1, \n",
    "    'max_depth': 6,\n",
    "    'min_child_weight': 10,\n",
    "\n",
    "    'objective': 'binary:logistic',\n",
    "    'eval_metric': 'auc',\n",
    "\n",
    "    'nthread': 8,\n",
    "    'seed': 1,\n",
    "    'verbosity': 1,\n",
    "}\n",
    "\n",
    "model = xgb.train(xgb_params, dfulltrain, num_boost_round=175)"
   ]
  },
  {
   "cell_type": "code",
   "execution_count": null,
   "id": "3862ef59",
   "metadata": {},
   "outputs": [],
   "source": [
    "y_pred = model.predict(dtest)"
   ]
  },
  {
   "cell_type": "code",
   "execution_count": null,
   "id": "76da3742",
   "metadata": {},
   "outputs": [],
   "source": [
    "roc_auc_score(y_test, y_pred)"
   ]
  },
  {
   "cell_type": "markdown",
   "id": "8a3e7404",
   "metadata": {},
   "source": [
    "#### As seen above the roc_auc_score in the test dataset (0.7057)  seems to be close to the validation score  (0.7102)"
   ]
  },
  {
   "cell_type": "code",
   "execution_count": null,
   "id": "3746c85b",
   "metadata": {},
   "outputs": [],
   "source": []
  }
 ],
 "metadata": {
  "kernelspec": {
   "display_name": "Python 3 (ipykernel)",
   "language": "python",
   "name": "python3"
  },
  "language_info": {
   "codemirror_mode": {
    "name": "ipython",
    "version": 3
   },
   "file_extension": ".py",
   "mimetype": "text/x-python",
   "name": "python",
   "nbconvert_exporter": "python",
   "pygments_lexer": "ipython3",
   "version": "3.8.11"
  }
 },
 "nbformat": 4,
 "nbformat_minor": 5
}
