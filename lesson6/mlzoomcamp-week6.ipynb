{
 "cells": [
  {
   "cell_type": "code",
   "execution_count": 4,
   "id": "a6703813",
   "metadata": {},
   "outputs": [],
   "source": [
    "import pandas as pd\n",
    "import numpy as np\n",
    "\n",
    "import matplotlib.pyplot as plt\n",
    "import seaborn as sns\n",
    "\n",
    "%matplotlib inline"
   ]
  },
  {
   "cell_type": "code",
   "execution_count": 5,
   "id": "be369a23",
   "metadata": {},
   "outputs": [
    {
     "name": "stdout",
     "output_type": "stream",
     "text": [
      "--2021-10-20 06:56:20--  https://raw.githubusercontent.com/alexeygrigorev/datasets/master/AB_NYC_2019.csv\n",
      "Resolving raw.githubusercontent.com (raw.githubusercontent.com)... 185.199.109.133, 185.199.110.133, 185.199.108.133, ...\n",
      "Connecting to raw.githubusercontent.com (raw.githubusercontent.com)|185.199.109.133|:443... connected.\n",
      "HTTP request sent, awaiting response... 200 OK\n",
      "Length: 7077973 (6.8M) [text/plain]\n",
      "Saving to: ‘AB_NYC_2019.csv.2’\n",
      "\n",
      "AB_NYC_2019.csv.2   100%[===================>]   6.75M  18.1MB/s    in 0.4s    \n",
      "\n",
      "2021-10-20 06:56:21 (18.1 MB/s) - ‘AB_NYC_2019.csv.2’ saved [7077973/7077973]\n",
      "\n"
     ]
    }
   ],
   "source": [
    "data = \"https://raw.githubusercontent.com/alexeygrigorev/datasets/master/AB_NYC_2019.csv\"\n",
    "\n",
    "!wget $data"
   ]
  },
  {
   "cell_type": "code",
   "execution_count": 6,
   "id": "5a725a99",
   "metadata": {},
   "outputs": [],
   "source": [
    "columns = [\n",
    "    'neighbourhood_group', 'room_type', 'latitude', 'longitude',\n",
    "    'minimum_nights', 'number_of_reviews','reviews_per_month',\n",
    "    'calculated_host_listings_count', 'availability_365',\n",
    "    'price'\n",
    "]\n",
    "\n",
    "df = pd.read_csv('AB_NYC_2019.csv', usecols=columns)\n",
    "df.reviews_per_month = df.reviews_per_month.fillna(0)\n",
    "df_copy = df.copy()"
   ]
  },
  {
   "cell_type": "markdown",
   "id": "3870e2db",
   "metadata": {},
   "source": [
    "#### Apply the log tranform to price\n",
    "#### Do train/validation/test split with 60%/20%/20% distribution.\n",
    "#### Use the train_test_split function and set the random_state parameter to 1"
   ]
  },
  {
   "cell_type": "code",
   "execution_count": 7,
   "id": "61f9869f",
   "metadata": {},
   "outputs": [],
   "source": [
    "df.price = np.log1p(df.price.values)"
   ]
  },
  {
   "cell_type": "code",
   "execution_count": 8,
   "id": "20a4f511",
   "metadata": {},
   "outputs": [],
   "source": [
    "from sklearn.model_selection import train_test_split\n",
    "\n",
    "df_full_train, df_test = train_test_split(df, test_size=0.2, random_state=11)\n",
    "df_train, df_val = train_test_split(df_full_train, test_size=0.25, random_state=11)"
   ]
  },
  {
   "cell_type": "code",
   "execution_count": 9,
   "id": "5d9ca431",
   "metadata": {},
   "outputs": [],
   "source": [
    "df_train = df_train.reset_index(drop=True)\n",
    "df_val = df_val.reset_index(drop=True)\n",
    "df_test = df_test.reset_index(drop=True)"
   ]
  },
  {
   "cell_type": "code",
   "execution_count": 10,
   "id": "9ff834a7",
   "metadata": {},
   "outputs": [],
   "source": [
    "y_train = df_train.price.values\n",
    "y_val = df_val.price.values\n",
    "y_test = df_test.price.values"
   ]
  },
  {
   "cell_type": "code",
   "execution_count": 11,
   "id": "4ae29c87",
   "metadata": {},
   "outputs": [],
   "source": [
    "del df_train['price']\n",
    "del df_val['price']\n",
    "del df_test['price']"
   ]
  },
  {
   "cell_type": "markdown",
   "id": "facdd9d8",
   "metadata": {},
   "source": [
    "#### Now, use DictVectorizer to turn train and validation into matrices:"
   ]
  },
  {
   "cell_type": "code",
   "execution_count": 12,
   "id": "1495e7ae",
   "metadata": {},
   "outputs": [],
   "source": [
    "from sklearn.tree import DecisionTreeRegressor\n",
    "from sklearn.feature_extraction import DictVectorizer\n",
    "from sklearn.tree import export_text"
   ]
  },
  {
   "cell_type": "code",
   "execution_count": 13,
   "id": "41ff1408",
   "metadata": {},
   "outputs": [],
   "source": [
    "train_dicts = df_train.fillna(0).to_dict(orient='records')"
   ]
  },
  {
   "cell_type": "code",
   "execution_count": 14,
   "id": "bbe57207",
   "metadata": {},
   "outputs": [],
   "source": [
    "dv = DictVectorizer(sparse=False)\n",
    "X_train = dv.fit_transform(train_dicts)"
   ]
  },
  {
   "cell_type": "markdown",
   "id": "d6215ee8",
   "metadata": {},
   "source": [
    "### Question 1"
   ]
  },
  {
   "cell_type": "markdown",
   "id": "2bc02117",
   "metadata": {},
   "source": [
    "#### Let's train a decision tree regressor to predict the price variable. \n",
    "#### Train a model with max_depth=1"
   ]
  },
  {
   "cell_type": "code",
   "execution_count": 17,
   "id": "019709d1",
   "metadata": {},
   "outputs": [
    {
     "data": {
      "text/plain": [
       "DecisionTreeRegressor(max_depth=1)"
      ]
     },
     "execution_count": 17,
     "metadata": {},
     "output_type": "execute_result"
    }
   ],
   "source": [
    "dt = DecisionTreeRegressor(max_depth=1)\n",
    "dt.fit(X_train, y_train)"
   ]
  },
  {
   "cell_type": "code",
   "execution_count": 18,
   "id": "517f2166",
   "metadata": {},
   "outputs": [
    {
     "name": "stdout",
     "output_type": "stream",
     "text": [
      "|--- room_type=Entire home/apt <= 0.50\n",
      "|   |--- value: [4.29]\n",
      "|--- room_type=Entire home/apt >  0.50\n",
      "|   |--- value: [5.15]\n",
      "\n"
     ]
    }
   ],
   "source": [
    "print(export_text(dt, feature_names=dv.get_feature_names()))"
   ]
  },
  {
   "cell_type": "markdown",
   "id": "cb4fc606",
   "metadata": {},
   "source": [
    "#### Q1: room_type"
   ]
  },
  {
   "cell_type": "markdown",
   "id": "b021b62a",
   "metadata": {},
   "source": [
    "### Question 2\n",
    "##### Train a random forest model with these parameters:  n_estimators=10,  random_state=1, n_jobs=-1 (optional - to make training faster)"
   ]
  },
  {
   "cell_type": "code",
   "execution_count": 19,
   "id": "714a3eb7",
   "metadata": {},
   "outputs": [],
   "source": [
    "from sklearn.ensemble import RandomForestRegressor"
   ]
  },
  {
   "cell_type": "code",
   "execution_count": 20,
   "id": "7d09e748",
   "metadata": {},
   "outputs": [
    {
     "data": {
      "text/plain": [
       "RandomForestRegressor(n_estimators=10, n_jobs=-1, random_state=1)"
      ]
     },
     "execution_count": 20,
     "metadata": {},
     "output_type": "execute_result"
    }
   ],
   "source": [
    "rf = RandomForestRegressor(n_estimators=10, random_state=1, n_jobs=-1)\n",
    "rf.fit(X_train, y_train)"
   ]
  },
  {
   "cell_type": "code",
   "execution_count": 21,
   "id": "a2bef1c6",
   "metadata": {},
   "outputs": [],
   "source": [
    "val_dicts = df_val.to_dict(orient='records')\n",
    "X_val = dv.transform(val_dicts)"
   ]
  },
  {
   "cell_type": "code",
   "execution_count": 22,
   "id": "249878ab",
   "metadata": {},
   "outputs": [],
   "source": [
    "def rmse(y, y_pred):\n",
    "    se = (y - y_pred) ** 2\n",
    "    mse = se.mean()\n",
    "    return np.sqrt(mse)"
   ]
  },
  {
   "cell_type": "code",
   "execution_count": 23,
   "id": "9393c8ac",
   "metadata": {},
   "outputs": [],
   "source": [
    "y_pred = rf.predict(X_val)"
   ]
  },
  {
   "cell_type": "code",
   "execution_count": 24,
   "id": "c48df685",
   "metadata": {},
   "outputs": [
    {
     "data": {
      "text/plain": [
       "0.4655526503172463"
      ]
     },
     "execution_count": 24,
     "metadata": {},
     "output_type": "execute_result"
    }
   ],
   "source": [
    "rmse(y_val, y_pred)"
   ]
  },
  {
   "cell_type": "markdown",
   "id": "264f5b22",
   "metadata": {},
   "source": [
    "#### RMSE : 0.4655526503172463"
   ]
  },
  {
   "cell_type": "markdown",
   "id": "edbc522f",
   "metadata": {},
   "source": [
    "### Question 3\n",
    "##### Experimenting with n_estimators param"
   ]
  },
  {
   "cell_type": "code",
   "execution_count": 21,
   "id": "048d2d32",
   "metadata": {},
   "outputs": [
    {
     "data": {
      "text/plain": [
       "[(10, 0.466),\n",
       " (20, 0.455),\n",
       " (30, 0.449),\n",
       " (40, 0.448),\n",
       " (50, 0.447),\n",
       " (60, 0.446),\n",
       " (70, 0.446),\n",
       " (80, 0.445),\n",
       " (90, 0.445),\n",
       " (100, 0.444),\n",
       " (110, 0.444),\n",
       " (120, 0.444),\n",
       " (130, 0.444),\n",
       " (140, 0.444),\n",
       " (150, 0.444),\n",
       " (160, 0.444),\n",
       " (170, 0.444),\n",
       " (180, 0.444),\n",
       " (190, 0.444),\n",
       " (200, 0.444)]"
      ]
     },
     "execution_count": 21,
     "metadata": {},
     "output_type": "execute_result"
    }
   ],
   "source": [
    "scores = []\n",
    "\n",
    "for n in range(10, 201, 10):\n",
    "    rf = RandomForestRegressor(n_estimators=n, random_state=1, n_jobs=-1)\n",
    "    rf.fit(X_train, y_train)\n",
    "\n",
    "    y_pred = rf.predict(X_val)\n",
    "    r_score = rmse(y_val, y_pred)\n",
    "    scores.append((n, r_score.round(3)))\n",
    "\n",
    "scores"
   ]
  },
  {
   "cell_type": "markdown",
   "id": "7677d731",
   "metadata": {},
   "source": [
    "#### RMSE stops improving after 10"
   ]
  },
  {
   "cell_type": "markdown",
   "id": "8b651693",
   "metadata": {},
   "source": [
    "### Question 4\n",
    "#### Along with n_estimators try tuning for max_depth parameter"
   ]
  },
  {
   "cell_type": "code",
   "execution_count": 22,
   "id": "f0227e9f",
   "metadata": {},
   "outputs": [
    {
     "data": {
      "text/plain": [
       "[(10, 10, 0.448),\n",
       " (10, 20, 0.447),\n",
       " (10, 30, 0.445),\n",
       " (10, 40, 0.445),\n",
       " (10, 50, 0.445),\n",
       " (10, 60, 0.445),\n",
       " (10, 70, 0.445),\n",
       " (10, 80, 0.445),\n",
       " (10, 90, 0.445),\n",
       " (10, 100, 0.445),\n",
       " (10, 110, 0.445),\n",
       " (10, 120, 0.445),\n",
       " (10, 130, 0.445),\n",
       " (10, 140, 0.445),\n",
       " (10, 150, 0.445),\n",
       " (10, 160, 0.445),\n",
       " (10, 170, 0.445),\n",
       " (10, 180, 0.445),\n",
       " (10, 190, 0.445),\n",
       " (10, 200, 0.445),\n",
       " (15, 10, 0.455),\n",
       " (15, 20, 0.449),\n",
       " (15, 30, 0.445),\n",
       " (15, 40, 0.444),\n",
       " (15, 50, 0.443),\n",
       " (15, 60, 0.443),\n",
       " (15, 70, 0.442),\n",
       " (15, 80, 0.442),\n",
       " (15, 90, 0.442),\n",
       " (15, 100, 0.441),\n",
       " (15, 110, 0.441),\n",
       " (15, 120, 0.441),\n",
       " (15, 130, 0.441),\n",
       " (15, 140, 0.441),\n",
       " (15, 150, 0.441),\n",
       " (15, 160, 0.441),\n",
       " (15, 170, 0.441),\n",
       " (15, 180, 0.441),\n",
       " (15, 190, 0.441),\n",
       " (15, 200, 0.441),\n",
       " (20, 10, 0.464),\n",
       " (20, 20, 0.453),\n",
       " (20, 30, 0.448),\n",
       " (20, 40, 0.447),\n",
       " (20, 50, 0.446),\n",
       " (20, 60, 0.445),\n",
       " (20, 70, 0.445),\n",
       " (20, 80, 0.444),\n",
       " (20, 90, 0.443),\n",
       " (20, 100, 0.443),\n",
       " (20, 110, 0.443),\n",
       " (20, 120, 0.443),\n",
       " (20, 130, 0.443),\n",
       " (20, 140, 0.443),\n",
       " (20, 150, 0.443),\n",
       " (20, 160, 0.443),\n",
       " (20, 170, 0.442),\n",
       " (20, 180, 0.443),\n",
       " (20, 190, 0.443),\n",
       " (20, 200, 0.442),\n",
       " (25, 10, 0.464),\n",
       " (25, 20, 0.454),\n",
       " (25, 30, 0.448),\n",
       " (25, 40, 0.447),\n",
       " (25, 50, 0.446),\n",
       " (25, 60, 0.445),\n",
       " (25, 70, 0.445),\n",
       " (25, 80, 0.444),\n",
       " (25, 90, 0.444),\n",
       " (25, 100, 0.443),\n",
       " (25, 110, 0.443),\n",
       " (25, 120, 0.443),\n",
       " (25, 130, 0.443),\n",
       " (25, 140, 0.443),\n",
       " (25, 150, 0.443),\n",
       " (25, 160, 0.443),\n",
       " (25, 170, 0.443),\n",
       " (25, 180, 0.443),\n",
       " (25, 190, 0.443),\n",
       " (25, 200, 0.443)]"
      ]
     },
     "execution_count": 22,
     "metadata": {},
     "output_type": "execute_result"
    }
   ],
   "source": [
    "scores = []\n",
    "\n",
    "for d in [10, 15, 20, 25]:\n",
    "    for n in range(10, 201, 10):\n",
    "        rf = RandomForestRegressor(n_estimators=n, max_depth=d, random_state=1, n_jobs=-1)\n",
    "        rf.fit(X_train, y_train)\n",
    "\n",
    "        y_pred = rf.predict(X_val)\n",
    "        r_score = rmse(y_val, y_pred)\n",
    "        scores.append((d, n, r_score.round(3)))\n",
    "\n",
    "scores"
   ]
  },
  {
   "cell_type": "code",
   "execution_count": 23,
   "id": "da320c51",
   "metadata": {},
   "outputs": [],
   "source": [
    "columns = ['max_depth', 'n_estimators', 'rmse']\n",
    "df_scores = pd.DataFrame(scores, columns=columns)\n",
    "df_scores_pivot = df_scores.pivot(index='n_estimators', columns=['max_depth'], values=['rmse'])\n"
   ]
  },
  {
   "cell_type": "code",
   "execution_count": 24,
   "id": "7adc0799",
   "metadata": {},
   "outputs": [
    {
     "data": {
      "text/html": [
       "<div>\n",
       "<style scoped>\n",
       "    .dataframe tbody tr th:only-of-type {\n",
       "        vertical-align: middle;\n",
       "    }\n",
       "\n",
       "    .dataframe tbody tr th {\n",
       "        vertical-align: top;\n",
       "    }\n",
       "\n",
       "    .dataframe thead tr th {\n",
       "        text-align: left;\n",
       "    }\n",
       "\n",
       "    .dataframe thead tr:last-of-type th {\n",
       "        text-align: right;\n",
       "    }\n",
       "</style>\n",
       "<table border=\"1\" class=\"dataframe\">\n",
       "  <thead>\n",
       "    <tr>\n",
       "      <th></th>\n",
       "      <th colspan=\"4\" halign=\"left\">rmse</th>\n",
       "    </tr>\n",
       "    <tr>\n",
       "      <th>max_depth</th>\n",
       "      <th>10</th>\n",
       "      <th>15</th>\n",
       "      <th>20</th>\n",
       "      <th>25</th>\n",
       "    </tr>\n",
       "    <tr>\n",
       "      <th>n_estimators</th>\n",
       "      <th></th>\n",
       "      <th></th>\n",
       "      <th></th>\n",
       "      <th></th>\n",
       "    </tr>\n",
       "  </thead>\n",
       "  <tbody>\n",
       "    <tr>\n",
       "      <th>10</th>\n",
       "      <td>0.448</td>\n",
       "      <td>0.455</td>\n",
       "      <td>0.464</td>\n",
       "      <td>0.464</td>\n",
       "    </tr>\n",
       "    <tr>\n",
       "      <th>20</th>\n",
       "      <td>0.447</td>\n",
       "      <td>0.449</td>\n",
       "      <td>0.453</td>\n",
       "      <td>0.454</td>\n",
       "    </tr>\n",
       "    <tr>\n",
       "      <th>30</th>\n",
       "      <td>0.445</td>\n",
       "      <td>0.445</td>\n",
       "      <td>0.448</td>\n",
       "      <td>0.448</td>\n",
       "    </tr>\n",
       "    <tr>\n",
       "      <th>40</th>\n",
       "      <td>0.445</td>\n",
       "      <td>0.444</td>\n",
       "      <td>0.447</td>\n",
       "      <td>0.447</td>\n",
       "    </tr>\n",
       "    <tr>\n",
       "      <th>50</th>\n",
       "      <td>0.445</td>\n",
       "      <td>0.443</td>\n",
       "      <td>0.446</td>\n",
       "      <td>0.446</td>\n",
       "    </tr>\n",
       "    <tr>\n",
       "      <th>60</th>\n",
       "      <td>0.445</td>\n",
       "      <td>0.443</td>\n",
       "      <td>0.445</td>\n",
       "      <td>0.445</td>\n",
       "    </tr>\n",
       "    <tr>\n",
       "      <th>70</th>\n",
       "      <td>0.445</td>\n",
       "      <td>0.442</td>\n",
       "      <td>0.445</td>\n",
       "      <td>0.445</td>\n",
       "    </tr>\n",
       "    <tr>\n",
       "      <th>80</th>\n",
       "      <td>0.445</td>\n",
       "      <td>0.442</td>\n",
       "      <td>0.444</td>\n",
       "      <td>0.444</td>\n",
       "    </tr>\n",
       "    <tr>\n",
       "      <th>90</th>\n",
       "      <td>0.445</td>\n",
       "      <td>0.442</td>\n",
       "      <td>0.443</td>\n",
       "      <td>0.444</td>\n",
       "    </tr>\n",
       "    <tr>\n",
       "      <th>100</th>\n",
       "      <td>0.445</td>\n",
       "      <td>0.441</td>\n",
       "      <td>0.443</td>\n",
       "      <td>0.443</td>\n",
       "    </tr>\n",
       "    <tr>\n",
       "      <th>110</th>\n",
       "      <td>0.445</td>\n",
       "      <td>0.441</td>\n",
       "      <td>0.443</td>\n",
       "      <td>0.443</td>\n",
       "    </tr>\n",
       "    <tr>\n",
       "      <th>120</th>\n",
       "      <td>0.445</td>\n",
       "      <td>0.441</td>\n",
       "      <td>0.443</td>\n",
       "      <td>0.443</td>\n",
       "    </tr>\n",
       "    <tr>\n",
       "      <th>130</th>\n",
       "      <td>0.445</td>\n",
       "      <td>0.441</td>\n",
       "      <td>0.443</td>\n",
       "      <td>0.443</td>\n",
       "    </tr>\n",
       "    <tr>\n",
       "      <th>140</th>\n",
       "      <td>0.445</td>\n",
       "      <td>0.441</td>\n",
       "      <td>0.443</td>\n",
       "      <td>0.443</td>\n",
       "    </tr>\n",
       "    <tr>\n",
       "      <th>150</th>\n",
       "      <td>0.445</td>\n",
       "      <td>0.441</td>\n",
       "      <td>0.443</td>\n",
       "      <td>0.443</td>\n",
       "    </tr>\n",
       "    <tr>\n",
       "      <th>160</th>\n",
       "      <td>0.445</td>\n",
       "      <td>0.441</td>\n",
       "      <td>0.443</td>\n",
       "      <td>0.443</td>\n",
       "    </tr>\n",
       "    <tr>\n",
       "      <th>170</th>\n",
       "      <td>0.445</td>\n",
       "      <td>0.441</td>\n",
       "      <td>0.442</td>\n",
       "      <td>0.443</td>\n",
       "    </tr>\n",
       "    <tr>\n",
       "      <th>180</th>\n",
       "      <td>0.445</td>\n",
       "      <td>0.441</td>\n",
       "      <td>0.443</td>\n",
       "      <td>0.443</td>\n",
       "    </tr>\n",
       "    <tr>\n",
       "      <th>190</th>\n",
       "      <td>0.445</td>\n",
       "      <td>0.441</td>\n",
       "      <td>0.443</td>\n",
       "      <td>0.443</td>\n",
       "    </tr>\n",
       "    <tr>\n",
       "      <th>200</th>\n",
       "      <td>0.445</td>\n",
       "      <td>0.441</td>\n",
       "      <td>0.442</td>\n",
       "      <td>0.443</td>\n",
       "    </tr>\n",
       "  </tbody>\n",
       "</table>\n",
       "</div>"
      ],
      "text/plain": [
       "               rmse                     \n",
       "max_depth        10     15     20     25\n",
       "n_estimators                            \n",
       "10            0.448  0.455  0.464  0.464\n",
       "20            0.447  0.449  0.453  0.454\n",
       "30            0.445  0.445  0.448  0.448\n",
       "40            0.445  0.444  0.447  0.447\n",
       "50            0.445  0.443  0.446  0.446\n",
       "60            0.445  0.443  0.445  0.445\n",
       "70            0.445  0.442  0.445  0.445\n",
       "80            0.445  0.442  0.444  0.444\n",
       "90            0.445  0.442  0.443  0.444\n",
       "100           0.445  0.441  0.443  0.443\n",
       "110           0.445  0.441  0.443  0.443\n",
       "120           0.445  0.441  0.443  0.443\n",
       "130           0.445  0.441  0.443  0.443\n",
       "140           0.445  0.441  0.443  0.443\n",
       "150           0.445  0.441  0.443  0.443\n",
       "160           0.445  0.441  0.443  0.443\n",
       "170           0.445  0.441  0.442  0.443\n",
       "180           0.445  0.441  0.443  0.443\n",
       "190           0.445  0.441  0.443  0.443\n",
       "200           0.445  0.441  0.442  0.443"
      ]
     },
     "execution_count": 24,
     "metadata": {},
     "output_type": "execute_result"
    }
   ],
   "source": [
    "df_scores_pivot"
   ]
  },
  {
   "cell_type": "code",
   "execution_count": 25,
   "id": "e81aad45",
   "metadata": {},
   "outputs": [
    {
     "data": {
      "text/plain": [
       "<AxesSubplot:xlabel='None-max_depth', ylabel='n_estimators'>"
      ]
     },
     "execution_count": 25,
     "metadata": {},
     "output_type": "execute_result"
    },
    {
     "data": {
      "image/png": "[encoded data removed]",
      "text/plain": [
       "<Figure size 432x288 with 2 Axes>"
      ]
     },
     "metadata": {
      "needs_background": "light"
     },
     "output_type": "display_data"
    }
   ],
   "source": [
    "sns.heatmap(df_scores_pivot, annot=True, fmt=\".3f\")"
   ]
  },
  {
   "cell_type": "code",
   "execution_count": 26,
   "id": "4b131e07",
   "metadata": {},
   "outputs": [
    {
     "data": {
      "text/plain": [
       "0.46355978561111005"
      ]
     },
     "execution_count": 26,
     "metadata": {},
     "output_type": "execute_result"
    }
   ],
   "source": [
    "rf = RandomForestRegressor(n_estimators=10, max_depth=20, random_state=1, n_jobs=-1)\n",
    "rf.fit(X_train, y_train)\n",
    "\n",
    "y_pred = rf.predict(X_val)\n",
    "r_score_with_20 = rmse(y_val, y_pred)\n",
    "r_score_with_20"
   ]
  },
  {
   "cell_type": "code",
   "execution_count": 27,
   "id": "760cc48e",
   "metadata": {},
   "outputs": [
    {
     "data": {
      "text/plain": [
       "0.46381573899567247"
      ]
     },
     "execution_count": 27,
     "metadata": {},
     "output_type": "execute_result"
    }
   ],
   "source": [
    "rf = RandomForestRegressor(n_estimators=10, max_depth=25, random_state=1, n_jobs=-1)\n",
    "rf.fit(X_train, y_train)\n",
    "\n",
    "y_pred = rf.predict(X_val)\n",
    "r_score_with_25 = rmse(y_val, y_pred)\n",
    "r_score_with_25"
   ]
  },
  {
   "cell_type": "markdown",
   "id": "bdea6a01",
   "metadata": {},
   "source": [
    "#### Without rounding max_depth=25 gives the best rmse score"
   ]
  },
  {
   "cell_type": "markdown",
   "id": "b43f7b00",
   "metadata": {},
   "source": [
    "#### Change the seed of the model to see if it impacts anything"
   ]
  },
  {
   "cell_type": "code",
   "execution_count": 28,
   "id": "4eb16053",
   "metadata": {},
   "outputs": [
    {
     "name": "stdout",
     "output_type": "stream",
     "text": [
      "r_score_with_20 0.4569389095210444\n",
      "r_score_with_25 0.46171701642335145\n"
     ]
    }
   ],
   "source": [
    "rf = RandomForestRegressor(n_estimators=10, max_depth=20, random_state=10, n_jobs=-1)\n",
    "rf.fit(X_train, y_train)\n",
    "\n",
    "y_pred = rf.predict(X_val)\n",
    "r_score_with_20 = rmse(y_val, y_pred)\n",
    "print('r_score_with_20',r_score_with_20)\n",
    "\n",
    "rf = RandomForestRegressor(n_estimators=10, max_depth=25, random_state=10, n_jobs=-1)\n",
    "rf.fit(X_train, y_train)\n",
    "\n",
    "y_pred = rf.predict(X_val)\n",
    "r_score_with_25 = rmse(y_val, y_pred)\n",
    "print('r_score_with_25',r_score_with_25)\n"
   ]
  },
  {
   "cell_type": "markdown",
   "id": "24380cf6",
   "metadata": {},
   "source": [
    "#### max_depth=25 seems to be the best"
   ]
  },
  {
   "cell_type": "markdown",
   "id": "4ad555a4",
   "metadata": {},
   "source": [
    "### Question 5\n",
    "#### Finding the feature importance of the tree based model"
   ]
  },
  {
   "cell_type": "code",
   "execution_count": 29,
   "id": "8edf55ea",
   "metadata": {},
   "outputs": [],
   "source": [
    "rf = RandomForestRegressor(n_estimators=10, max_depth=20, random_state=1, n_jobs=-1)\n",
    "rf.fit(X_train, y_train)\n",
    "\n",
    "feature_importances = rf.feature_importances_"
   ]
  },
  {
   "cell_type": "code",
   "execution_count": 30,
   "id": "9605fd96",
   "metadata": {},
   "outputs": [
    {
     "data": {
      "text/plain": [
       "Index(['availability_365', 'calculated_host_listings_count', 'latitude',\n",
       "       'longitude', 'minimum_nights', 'neighbourhood_group=Bronx',\n",
       "       'neighbourhood_group=Brooklyn', 'neighbourhood_group=Manhattan',\n",
       "       'neighbourhood_group=Queens', 'neighbourhood_group=Staten Island',\n",
       "       'number_of_reviews', 'reviews_per_month', 'room_type=Entire home/apt',\n",
       "       'room_type=Private room', 'room_type=Shared room'],\n",
       "      dtype='object')"
      ]
     },
     "execution_count": 30,
     "metadata": {},
     "output_type": "execute_result"
    }
   ],
   "source": [
    "pd_series = pd.Series(feature_importances,dv.get_feature_names())\n",
    "pd_series\n",
    "pd_series.index"
   ]
  },
  {
   "cell_type": "code",
   "execution_count": 65,
   "id": "b394b05a",
   "metadata": {},
   "outputs": [
    {
     "data": {
      "text/html": [
       "<div>\n",
       "<style scoped>\n",
       "    .dataframe tbody tr th:only-of-type {\n",
       "        vertical-align: middle;\n",
       "    }\n",
       "\n",
       "    .dataframe tbody tr th {\n",
       "        vertical-align: top;\n",
       "    }\n",
       "\n",
       "    .dataframe thead th {\n",
       "        text-align: right;\n",
       "    }\n",
       "</style>\n",
       "<table border=\"1\" class=\"dataframe\">\n",
       "  <thead>\n",
       "    <tr style=\"text-align: right;\">\n",
       "      <th></th>\n",
       "      <th>feature</th>\n",
       "      <th>importance</th>\n",
       "    </tr>\n",
       "  </thead>\n",
       "  <tbody>\n",
       "    <tr>\n",
       "      <th>12</th>\n",
       "      <td>room_type=Entire home/apt</td>\n",
       "      <td>0.393678</td>\n",
       "    </tr>\n",
       "    <tr>\n",
       "      <th>2</th>\n",
       "      <td>latitude</td>\n",
       "      <td>0.150191</td>\n",
       "    </tr>\n",
       "    <tr>\n",
       "      <th>3</th>\n",
       "      <td>longitude</td>\n",
       "      <td>0.145244</td>\n",
       "    </tr>\n",
       "    <tr>\n",
       "      <th>0</th>\n",
       "      <td>availability_365</td>\n",
       "      <td>0.079998</td>\n",
       "    </tr>\n",
       "    <tr>\n",
       "      <th>4</th>\n",
       "      <td>minimum_nights</td>\n",
       "      <td>0.053678</td>\n",
       "    </tr>\n",
       "    <tr>\n",
       "      <th>11</th>\n",
       "      <td>reviews_per_month</td>\n",
       "      <td>0.053043</td>\n",
       "    </tr>\n",
       "    <tr>\n",
       "      <th>10</th>\n",
       "      <td>number_of_reviews</td>\n",
       "      <td>0.045969</td>\n",
       "    </tr>\n",
       "    <tr>\n",
       "      <th>7</th>\n",
       "      <td>neighbourhood_group=Manhattan</td>\n",
       "      <td>0.033247</td>\n",
       "    </tr>\n",
       "    <tr>\n",
       "      <th>1</th>\n",
       "      <td>calculated_host_listings_count</td>\n",
       "      <td>0.031530</td>\n",
       "    </tr>\n",
       "    <tr>\n",
       "      <th>13</th>\n",
       "      <td>room_type=Private room</td>\n",
       "      <td>0.006639</td>\n",
       "    </tr>\n",
       "    <tr>\n",
       "      <th>14</th>\n",
       "      <td>room_type=Shared room</td>\n",
       "      <td>0.003422</td>\n",
       "    </tr>\n",
       "    <tr>\n",
       "      <th>6</th>\n",
       "      <td>neighbourhood_group=Brooklyn</td>\n",
       "      <td>0.001369</td>\n",
       "    </tr>\n",
       "    <tr>\n",
       "      <th>8</th>\n",
       "      <td>neighbourhood_group=Queens</td>\n",
       "      <td>0.001280</td>\n",
       "    </tr>\n",
       "    <tr>\n",
       "      <th>5</th>\n",
       "      <td>neighbourhood_group=Bronx</td>\n",
       "      <td>0.000395</td>\n",
       "    </tr>\n",
       "    <tr>\n",
       "      <th>9</th>\n",
       "      <td>neighbourhood_group=Staten Island</td>\n",
       "      <td>0.000317</td>\n",
       "    </tr>\n",
       "  </tbody>\n",
       "</table>\n",
       "</div>"
      ],
      "text/plain": [
       "                              feature  importance\n",
       "12          room_type=Entire home/apt    0.393678\n",
       "2                            latitude    0.150191\n",
       "3                           longitude    0.145244\n",
       "0                    availability_365    0.079998\n",
       "4                      minimum_nights    0.053678\n",
       "11                  reviews_per_month    0.053043\n",
       "10                  number_of_reviews    0.045969\n",
       "7       neighbourhood_group=Manhattan    0.033247\n",
       "1      calculated_host_listings_count    0.031530\n",
       "13             room_type=Private room    0.006639\n",
       "14              room_type=Shared room    0.003422\n",
       "6        neighbourhood_group=Brooklyn    0.001369\n",
       "8          neighbourhood_group=Queens    0.001280\n",
       "5           neighbourhood_group=Bronx    0.000395\n",
       "9   neighbourhood_group=Staten Island    0.000317"
      ]
     },
     "execution_count": 65,
     "metadata": {},
     "output_type": "execute_result"
    }
   ],
   "source": [
    "df_importances = pd.DataFrame({'feature':pd_series.index, 'importance':pd_series.values})\n",
    "df_importances.sort_values('importance',ascending=False)"
   ]
  },
  {
   "cell_type": "markdown",
   "id": "7608dc99",
   "metadata": {},
   "source": [
    "#### Feature room_type=Entire home/apt seems to be of more importance"
   ]
  },
  {
   "cell_type": "markdown",
   "id": "57a9c8e6",
   "metadata": {},
   "source": [
    "### Question 6\n",
    "#### Train an XGBoost model"
   ]
  },
  {
   "cell_type": "code",
   "execution_count": 2,
   "id": "89b856b3",
   "metadata": {},
   "outputs": [
    {
     "name": "stdout",
     "output_type": "stream",
     "text": [
      "Collecting package metadata (current_repodata.json): done\n",
      "Solving environment: done\n",
      "\n",
      "## Package Plan ##\n",
      "\n",
      "  environment location: /usr/local/anaconda3/envs/ml-zoomcamp\n",
      "\n",
      "  added / updated specs:\n",
      "    - xgboost\n",
      "\n",
      "\n",
      "The following packages will be downloaded:\n",
      "\n",
      "    package                    |            build\n",
      "    ---------------------------|-----------------\n",
      "    _py-xgboost-mutex-2.0      |            cpu_0           8 KB  conda-forge\n",
      "    ca-certificates-2021.10.8  |       h033912b_0         139 KB  conda-forge\n",
      "    certifi-2021.10.8          |   py38h50d1736_0         145 KB  conda-forge\n",
      "    libxgboost-1.4.2           |       h4a89273_0         2.1 MB  conda-forge\n",
      "    openssl-1.1.1l             |       h0d85af4_0         1.9 MB  conda-forge\n",
      "    py-xgboost-1.4.2           |   py38h50d1736_0         142 KB  conda-forge\n",
      "    xgboost-1.4.2              |   py38hbb4f172_0          11 KB  conda-forge\n",
      "    ------------------------------------------------------------\n",
      "                                           Total:         4.4 MB\n",
      "\n",
      "The following NEW packages will be INSTALLED:\n",
      "\n",
      "  _py-xgboost-mutex  conda-forge/osx-64::_py-xgboost-mutex-2.0-cpu_0\n",
      "  libxgboost         conda-forge/osx-64::libxgboost-1.4.2-h4a89273_0\n",
      "  py-xgboost         conda-forge/osx-64::py-xgboost-1.4.2-py38h50d1736_0\n",
      "  python_abi         conda-forge/osx-64::python_abi-3.8-2_cp38\n",
      "  xgboost            conda-forge/osx-64::xgboost-1.4.2-py38hbb4f172_0\n",
      "\n",
      "The following packages will be UPDATED:\n",
      "\n",
      "  ca-certificates    pkgs/main::ca-certificates-2021.7.5-h~ --> conda-forge::ca-certificates-2021.10.8-h033912b_0\n",
      "  certifi            pkgs/main::certifi-2021.5.30-py38hecd~ --> conda-forge::certifi-2021.10.8-py38h50d1736_0\n",
      "\n",
      "The following packages will be SUPERSEDED by a higher-priority channel:\n",
      "\n",
      "  openssl              pkgs/main::openssl-1.1.1l-h9ed2024_0 --> conda-forge::openssl-1.1.1l-h0d85af4_0\n",
      "\n",
      "\n",
      "\n",
      "Downloading and Extracting Packages\n",
      "openssl-1.1.1l       | 1.9 MB    | ##################################### | 100% \n",
      "xgboost-1.4.2        | 11 KB     | ##################################### | 100% \n",
      "ca-certificates-2021 | 139 KB    | ##################################### | 100% \n",
      "libxgboost-1.4.2     | 2.1 MB    | ##################################### | 100% \n",
      "py-xgboost-1.4.2     | 142 KB    | ##################################### | 100% \n",
      "certifi-2021.10.8    | 145 KB    | ##################################### | 100% \n",
      "_py-xgboost-mutex-2. | 8 KB      | ##################################### | 100% \n",
      "Preparing transaction: done\n",
      "Verifying transaction: | WARNING conda.core.path_actions:verify(962): Unable to create environments file. Path not writable.\n",
      "  environment location: /Users/deepa/.conda/environments.txt\n",
      "\n",
      "done\n",
      "Executing transaction: - WARNING conda.core.envs_manager:register_env(50): Unable to register environment. Path not writable or missing.\n",
      "  environment location: /usr/local/anaconda3/envs/ml-zoomcamp\n",
      "  registry file: /Users/deepa/.conda/environments.txt\n",
      "done\n",
      "\n",
      "Note: you may need to restart the kernel to use updated packages.\n"
     ]
    }
   ],
   "source": [
    "conda install -c conda-forge xgboost\n"
   ]
  },
  {
   "cell_type": "code",
   "execution_count": 3,
   "id": "40c1c3bd",
   "metadata": {},
   "outputs": [],
   "source": [
    "import xgboost as xgb"
   ]
  },
  {
   "cell_type": "code",
   "execution_count": 25,
   "id": "6001e48c",
   "metadata": {},
   "outputs": [],
   "source": [
    "features = dv.get_feature_names()\n",
    "dtrain = xgb.DMatrix(X_train, label=y_train, feature_names=features)\n",
    "dval = xgb.DMatrix(X_val, label=y_val, feature_names=features)"
   ]
  },
  {
   "cell_type": "code",
   "execution_count": 28,
   "id": "6c880b19",
   "metadata": {},
   "outputs": [],
   "source": [
    "%%capture output\n",
    "\n",
    "watchlist = [(dtrain, 'train'), (dval, 'val')]\n",
    "\n",
    "xgb_params = {\n",
    "    'eta': 0.3, \n",
    "    'max_depth': 6,\n",
    "    'min_child_weight': 1,\n",
    "    \n",
    "    'objective': 'reg:squarederror',\n",
    "    'nthread': 8,\n",
    "    \n",
    "    'seed': 1,\n",
    "    'verbosity': 1,\n",
    "}\n",
    "\n",
    "model = xgb.train(xgb_params, dtrain, num_boost_round=100, evals=watchlist)"
   ]
  },
  {
   "cell_type": "code",
   "execution_count": 29,
   "id": "1f456a2f",
   "metadata": {},
   "outputs": [
    {
     "name": "stdout",
     "output_type": "stream",
     "text": [
      "[0]\ttrain-rmse:3.02617\tval-rmse:3.02654\n",
      "[1]\ttrain-rmse:2.14522\tval-rmse:2.14747\n",
      "[2]\ttrain-rmse:1.537\n"
     ]
    }
   ],
   "source": [
    "s = output.stdout\n",
    "print(s[:100])"
   ]
  },
  {
   "cell_type": "code",
   "execution_count": 30,
   "id": "b2ef39cc",
   "metadata": {},
   "outputs": [],
   "source": [
    "%%capture output\n",
    "\n",
    "xgb_params = {\n",
    "    'eta': 0.1, \n",
    "    'max_depth': 6,\n",
    "    'min_child_weight': 1,\n",
    "    \n",
    "    'objective': 'reg:squarederror',\n",
    "    'nthread': 8,\n",
    "    \n",
    "    'seed': 1,\n",
    "    'verbosity': 1,\n",
    "}\n",
    "\n",
    "model = xgb.train(xgb_params, dtrain, num_boost_round=100, evals=watchlist)\n",
    "\n"
   ]
  },
  {
   "cell_type": "code",
   "execution_count": 31,
   "id": "32f22b5e",
   "metadata": {},
   "outputs": [
    {
     "name": "stdout",
     "output_type": "stream",
     "text": [
      "[0]\ttrain-rmse:3.87065\tval-rmse:3.86962\n",
      "[1]\ttrain-rmse:3.49008\tval-rmse:3.48943\n",
      "[2]\ttrain-rmse:3.148\n"
     ]
    }
   ],
   "source": [
    "s = output.stdout\n",
    "print(s[:100])"
   ]
  },
  {
   "cell_type": "code",
   "execution_count": 32,
   "id": "d8c47ca0",
   "metadata": {},
   "outputs": [],
   "source": [
    "%%capture output\n",
    "\n",
    "xgb_params = {\n",
    "    'eta': 0.01, \n",
    "    'max_depth': 6,\n",
    "    'min_child_weight': 1,\n",
    "    \n",
    "    'objective': 'reg:squarederror',\n",
    "    'nthread': 8,\n",
    "    \n",
    "    'seed': 1,\n",
    "    'verbosity': 1,\n",
    "}\n",
    "\n",
    "model = xgb.train(xgb_params, dtrain, num_boost_round=100, evals=watchlist)"
   ]
  },
  {
   "cell_type": "code",
   "execution_count": 33,
   "id": "bf4532c2",
   "metadata": {},
   "outputs": [
    {
     "name": "stdout",
     "output_type": "stream",
     "text": [
      "[0]\ttrain-rmse:4.25174\tval-rmse:4.25010\n",
      "[1]\ttrain-rmse:4.20979\tval-rmse:4.20823\n",
      "[2]\ttrain-rmse:4.168\n"
     ]
    }
   ],
   "source": [
    "s = output.stdout\n",
    "print(s[:100])"
   ]
  },
  {
   "cell_type": "markdown",
   "id": "9babbd51",
   "metadata": {},
   "source": [
    "#### Lower RMSE value is obtained for eta = 0.3"
   ]
  },
  {
   "cell_type": "code",
   "execution_count": null,
   "id": "a5163f77",
   "metadata": {},
   "outputs": [],
   "source": []
  }
 ],
 "metadata": {
  "kernelspec": {
   "display_name": "Python 3 (ipykernel)",
   "language": "python",
   "name": "python3"
  },
  "language_info": {
   "codemirror_mode": {
    "name": "ipython",
    "version": 3
   },
   "file_extension": ".py",
   "mimetype": "text/x-python",
   "name": "python",
   "nbconvert_exporter": "python",
   "pygments_lexer": "ipython3",
   "version": "3.8.11"
  }
 },
 "nbformat": 4,
 "nbformat_minor": 5
}
