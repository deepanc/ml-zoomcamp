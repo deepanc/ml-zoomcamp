{
 "cells": [
  {
   "cell_type": "code",
   "execution_count": 1,
   "id": "a68af768-92e2-4970-a142-a0f0e77571ed",
   "metadata": {},
   "outputs": [
    {
     "data": {
      "text/plain": [
       "'2.6.0'"
      ]
     },
     "execution_count": 1,
     "metadata": {},
     "output_type": "execute_result"
    }
   ],
   "source": [
    "import numpy as np\n",
    "\n",
    "import tensorflow as tf\n",
    "from tensorflow import keras\n",
    "\n",
    "tf.__version__"
   ]
  },
  {
   "cell_type": "code",
   "execution_count": 2,
   "id": "9bab5ceb-2a6d-4eb8-9f0a-0db270f85681",
   "metadata": {},
   "outputs": [],
   "source": [
    "from tensorflow.keras.preprocessing.image import load_img\n",
    "from tensorflow.keras.applications.xception import preprocess_input"
   ]
  },
  {
   "cell_type": "code",
   "execution_count": 3,
   "id": "72132793-32ba-4edb-80cb-750df34bd15d",
   "metadata": {},
   "outputs": [],
   "source": [
    "model = keras.models.load_model('xception_v1_09_0.803.h5')\n"
   ]
  },
  {
   "cell_type": "code",
   "execution_count": 4,
   "id": "d2307617-825f-454e-8d83-5ff84955eb71",
   "metadata": {},
   "outputs": [],
   "source": [
    "img = load_img('./dataset/test_black.jpg', target_size=(150, 150))\n",
    "\n",
    "x = np.array(img)\n",
    "X = np.array([x])\n",
    "\n",
    "X = preprocess_input(X)"
   ]
  },
  {
   "cell_type": "code",
   "execution_count": 5,
   "id": "5e9f1c19-fd90-4693-8f4d-a943407321dc",
   "metadata": {},
   "outputs": [
    {
     "data": {
      "text/plain": [
       "array([[ 13.855396  ,   3.202181  ,   5.1696057 ,  -3.5375361 ,\n",
       "          6.2616096 ,  -2.232081  ,   2.1969457 ,  -8.189516  ,\n",
       "         -7.0077405 ,  -5.077041  ,  -4.647565  ,  -9.379538  ,\n",
       "         -2.9228396 ,  -7.043243  ,  -5.428063  , -11.299324  ,\n",
       "        -10.534654  ,  -4.9850574 , -15.3460455 , -21.140926  ,\n",
       "        -11.158437  ,  -6.910347  ,  -3.0318916 , -16.477018  ,\n",
       "         -9.474036  , -10.201892  ,  -7.909956  ,  -6.8831253 ,\n",
       "         -3.5060778 ,   0.17380346,  -7.3390613 ,  -6.37476   ,\n",
       "         -2.6427524 , -12.875496  ,  -5.3285685 , -11.497002  ,\n",
       "         -4.0317116 ]], dtype=float32)"
      ]
     },
     "execution_count": 5,
     "metadata": {},
     "output_type": "execute_result"
    }
   ],
   "source": [
    "preds = model.predict(X)\n",
    "preds"
   ]
  },
  {
   "cell_type": "code",
   "execution_count": 6,
   "id": "7b4aaa3e-7e68-4eb2-9045-48e11d51825b",
   "metadata": {},
   "outputs": [],
   "source": [
    "classes = ['black_dress',\n",
    " 'black_pants',\n",
    " 'black_shirt',\n",
    " 'black_shoes',\n",
    " 'black_shorts',\n",
    " 'black_suit',\n",
    " 'blue_dress',\n",
    " 'blue_pants',\n",
    " 'blue_shirt',\n",
    " 'blue_shoes',\n",
    " 'blue_shorts',\n",
    " 'brown_hoodie',\n",
    " 'brown_pants',\n",
    " 'brown_shoes',\n",
    " 'green_pants',\n",
    " 'green_shirt',\n",
    " 'green_shoes',\n",
    " 'green_shorts',\n",
    " 'green_suit',\n",
    " 'pink_hoodie',\n",
    " 'pink_pants',\n",
    " 'pink_skirt',\n",
    " 'red_dress',\n",
    " 'red_hoodie',\n",
    " 'red_pants',\n",
    " 'red_shirt',\n",
    " 'red_shoes',\n",
    " 'silver_shoes',\n",
    " 'silver_skirt',\n",
    " 'white_dress',\n",
    " 'white_pants',\n",
    " 'white_shoes',\n",
    " 'white_shorts',\n",
    " 'white_suit',\n",
    " 'yellow_dress',\n",
    " 'yellow_shorts',\n",
    " 'yellow_skirt']"
   ]
  },
  {
   "cell_type": "code",
   "execution_count": 7,
   "id": "fada9829-70f2-42fc-b811-a8ad84c53504",
   "metadata": {},
   "outputs": [
    {
     "data": {
      "text/plain": [
       "{'black_dress': 13.855396,\n",
       " 'black_pants': 3.202181,\n",
       " 'black_shirt': 5.1696057,\n",
       " 'black_shoes': -3.5375361,\n",
       " 'black_shorts': 6.2616096,\n",
       " 'black_suit': -2.232081,\n",
       " 'blue_dress': 2.1969457,\n",
       " 'blue_pants': -8.189516,\n",
       " 'blue_shirt': -7.0077405,\n",
       " 'blue_shoes': -5.077041,\n",
       " 'blue_shorts': -4.647565,\n",
       " 'brown_hoodie': -9.379538,\n",
       " 'brown_pants': -2.9228396,\n",
       " 'brown_shoes': -7.043243,\n",
       " 'green_pants': -5.428063,\n",
       " 'green_shirt': -11.299324,\n",
       " 'green_shoes': -10.534654,\n",
       " 'green_shorts': -4.9850574,\n",
       " 'green_suit': -15.3460455,\n",
       " 'pink_hoodie': -21.140926,\n",
       " 'pink_pants': -11.158437,\n",
       " 'pink_skirt': -6.910347,\n",
       " 'red_dress': -3.0318916,\n",
       " 'red_hoodie': -16.477018,\n",
       " 'red_pants': -9.474036,\n",
       " 'red_shirt': -10.201892,\n",
       " 'red_shoes': -7.909956,\n",
       " 'silver_shoes': -6.8831253,\n",
       " 'silver_skirt': -3.5060778,\n",
       " 'white_dress': 0.17380346,\n",
       " 'white_pants': -7.3390613,\n",
       " 'white_shoes': -6.37476,\n",
       " 'white_shorts': -2.6427524,\n",
       " 'white_suit': -12.875496,\n",
       " 'yellow_dress': -5.3285685,\n",
       " 'yellow_shorts': -11.497002,\n",
       " 'yellow_skirt': -4.0317116}"
      ]
     },
     "execution_count": 7,
     "metadata": {},
     "output_type": "execute_result"
    }
   ],
   "source": [
    "dict(zip(classes, preds[0]))"
   ]
  },
  {
   "cell_type": "markdown",
   "id": "37351b6c-ec5b-4592-b4b0-aeb2822146f4",
   "metadata": {},
   "source": [
    "#### As you can see model predicted this as a black dress with highest probability which is correct!"
   ]
  },
  {
   "cell_type": "markdown",
   "id": "3a74c598-fef4-4287-b364-6ffbb4099445",
   "metadata": {},
   "source": [
    "#### Converting model to TFLite for deployment"
   ]
  },
  {
   "cell_type": "code",
   "execution_count": 8,
   "id": "02b00eb1-e0cb-4f80-91e9-0d931cd23d92",
   "metadata": {},
   "outputs": [
    {
     "name": "stdout",
     "output_type": "stream",
     "text": [
      "INFO:tensorflow:Assets written to: /var/folders/hb/6ftrzv4d27l4qgry0h5tcc040000gn/T/tmpn1pgp5hs/assets\n"
     ]
    },
    {
     "name": "stderr",
     "output_type": "stream",
     "text": [
      "/Users/deepa/miniforge3/envs/tensorflow/lib/python3.9/site-packages/keras/utils/generic_utils.py:494: CustomMaskWarning: Custom mask layers require a config and must override get_config. When loading, the custom mask layer must be passed to the custom_objects argument.\n",
      "  warnings.warn('Custom mask layers require a config and must override '\n"
     ]
    }
   ],
   "source": [
    "converter = tf.lite.TFLiteConverter.from_keras_model(model)\n",
    "tflite_model = converter.convert()\n",
    "with open('xception-clothing-model.tflite', 'wb') as f_out:\n",
    "    f_out.write(tflite_model)"
   ]
  },
  {
   "cell_type": "code",
   "execution_count": 9,
   "id": "3abb976c-ba22-43f5-952e-5fb6e630c836",
   "metadata": {},
   "outputs": [
    {
     "name": "stdout",
     "output_type": "stream",
     "text": [
      "Requirement already satisfied: keras-image-helper in /Users/deepa/miniforge3/envs/tensorflow/lib/python3.9/site-packages (0.0.1)\n",
      "Requirement already satisfied: pillow in /Users/deepa/miniforge3/envs/tensorflow/lib/python3.9/site-packages (from keras-image-helper) (8.3.1)\n",
      "Requirement already satisfied: numpy in /Users/deepa/miniforge3/envs/tensorflow/lib/python3.9/site-packages (from keras-image-helper) (1.19.5)\n"
     ]
    }
   ],
   "source": [
    "!pip install keras-image-helper"
   ]
  },
  {
   "cell_type": "code",
   "execution_count": 10,
   "id": "73e5bf34-27f7-49d0-8077-9f0f84fb3fab",
   "metadata": {},
   "outputs": [],
   "source": [
    "import tensorflow.lite as tflite"
   ]
  },
  {
   "cell_type": "code",
   "execution_count": 19,
   "id": "4c71fba9-25e8-490c-9ad5-443f893ad356",
   "metadata": {},
   "outputs": [],
   "source": [
    "from keras_image_helper import create_preprocessor\n",
    "from PIL import Image"
   ]
  },
  {
   "cell_type": "code",
   "execution_count": 12,
   "id": "dd28cc37-382b-442c-a029-1c9021cd0d20",
   "metadata": {},
   "outputs": [
    {
     "data": {
      "text/plain": [
       "[{'name': 'input_26',\n",
       "  'index': 0,\n",
       "  'shape': array([  1, 150, 150,   3], dtype=int32),\n",
       "  'shape_signature': array([ -1, 150, 150,   3], dtype=int32),\n",
       "  'dtype': numpy.float32,\n",
       "  'quantization': (0.0, 0),\n",
       "  'quantization_parameters': {'scales': array([], dtype=float32),\n",
       "   'zero_points': array([], dtype=int32),\n",
       "   'quantized_dimension': 0},\n",
       "  'sparsity_parameters': {}}]"
      ]
     },
     "execution_count": 12,
     "metadata": {},
     "output_type": "execute_result"
    }
   ],
   "source": [
    "interpreter = tflite.Interpreter(model_path='xception-clothing-model.tflite')\n",
    "interpreter.allocate_tensors()\n",
    "interpreter.get_input_details()"
   ]
  },
  {
   "cell_type": "code",
   "execution_count": 13,
   "id": "edb7f514-c01f-4c4d-86e5-82e8cebce873",
   "metadata": {},
   "outputs": [
    {
     "data": {
      "text/plain": [
       "[{'name': 'Identity',\n",
       "  'index': 229,\n",
       "  'shape': array([ 1, 37], dtype=int32),\n",
       "  'shape_signature': array([-1, 37], dtype=int32),\n",
       "  'dtype': numpy.float32,\n",
       "  'quantization': (0.0, 0),\n",
       "  'quantization_parameters': {'scales': array([], dtype=float32),\n",
       "   'zero_points': array([], dtype=int32),\n",
       "   'quantized_dimension': 0},\n",
       "  'sparsity_parameters': {}}]"
      ]
     },
     "execution_count": 13,
     "metadata": {},
     "output_type": "execute_result"
    }
   ],
   "source": [
    "interpreter.get_output_details()"
   ]
  },
  {
   "cell_type": "code",
   "execution_count": 14,
   "id": "a245962f-3b25-40cb-afac-ed11ca4a44b2",
   "metadata": {},
   "outputs": [],
   "source": [
    "input_index = interpreter.get_input_details()[0]['index']\n",
    "output_index = interpreter.get_output_details()[0]['index']"
   ]
  },
  {
   "cell_type": "code",
   "execution_count": 22,
   "id": "ba205bf9-e5c3-4f51-aa39-2c4d6834de02",
   "metadata": {},
   "outputs": [],
   "source": [
    "with Image.open('./dataset/test_black.jpg') as img:\n",
    "    img = img.resize((150, 150), Image.NEAREST)\n"
   ]
  },
  {
   "cell_type": "code",
   "execution_count": 23,
   "id": "256e1b41-16a3-4a68-a5a1-6bbe6aebb7c2",
   "metadata": {},
   "outputs": [],
   "source": [
    "def preprocess_input(x):\n",
    "    x /= 127.5\n",
    "    x -= 1.\n",
    "    return x"
   ]
  },
  {
   "cell_type": "code",
   "execution_count": 24,
   "id": "67dace64-500d-40b9-8e44-486ec8ccd28d",
   "metadata": {},
   "outputs": [],
   "source": [
    "x = np.array(img, dtype='float32')\n",
    "X = np.array([x])\n",
    "\n",
    "X = preprocess_input(X)"
   ]
  },
  {
   "cell_type": "code",
   "execution_count": 25,
   "id": "58eb518e-6bfd-440c-ad42-81c9297f6eae",
   "metadata": {},
   "outputs": [],
   "source": [
    "interpreter.set_tensor(input_index, X)\n",
    "interpreter.invoke()\n",
    "preds = interpreter.get_tensor(output_index)"
   ]
  },
  {
   "cell_type": "code",
   "execution_count": 26,
   "id": "ba51730f-6516-43a0-9968-d09f73e302a8",
   "metadata": {},
   "outputs": [
    {
     "data": {
      "text/plain": [
       "{'black_dress': 13.855392,\n",
       " 'black_pants': 3.2021832,\n",
       " 'black_shirt': 5.1696033,\n",
       " 'black_shoes': -3.5375302,\n",
       " 'black_shorts': 6.261607,\n",
       " 'black_suit': -2.232076,\n",
       " 'blue_dress': 2.1969585,\n",
       " 'blue_pants': -8.1895075,\n",
       " 'blue_shirt': -7.0077314,\n",
       " 'blue_shoes': -5.07704,\n",
       " 'blue_shorts': -4.64756,\n",
       " 'brown_hoodie': -9.379532,\n",
       " 'brown_pants': -2.9228299,\n",
       " 'brown_shoes': -7.0432386,\n",
       " 'green_pants': -5.428049,\n",
       " 'green_shirt': -11.299312,\n",
       " 'green_shoes': -10.534648,\n",
       " 'green_shorts': -4.985056,\n",
       " 'green_suit': -15.34603,\n",
       " 'pink_hoodie': -21.140917,\n",
       " 'pink_pants': -11.158427,\n",
       " 'pink_skirt': -6.9103374,\n",
       " 'red_dress': -3.031891,\n",
       " 'red_hoodie': -16.477016,\n",
       " 'red_pants': -9.4740305,\n",
       " 'red_shirt': -10.201887,\n",
       " 'red_shoes': -7.9099483,\n",
       " 'silver_shoes': -6.883121,\n",
       " 'silver_skirt': -3.5060706,\n",
       " 'white_dress': 0.17380656,\n",
       " 'white_pants': -7.3390517,\n",
       " 'white_shoes': -6.374762,\n",
       " 'white_shorts': -2.6427524,\n",
       " 'white_suit': -12.875487,\n",
       " 'yellow_dress': -5.3285637,\n",
       " 'yellow_shorts': -11.496998,\n",
       " 'yellow_skirt': -4.03171}"
      ]
     },
     "execution_count": 26,
     "metadata": {},
     "output_type": "execute_result"
    }
   ],
   "source": [
    "dict(zip(classes, preds[0]))"
   ]
  },
  {
   "cell_type": "code",
   "execution_count": null,
   "id": "7218914b-01c6-4668-9eed-6e833d4730db",
   "metadata": {},
   "outputs": [],
   "source": []
  }
 ],
 "metadata": {
  "kernelspec": {
   "display_name": "Python 3",
   "language": "python",
   "name": "python3"
  },
  "language_info": {
   "codemirror_mode": {
    "name": "ipython",
    "version": 3
   },
   "file_extension": ".py",
   "mimetype": "text/x-python",
   "name": "python",
   "nbconvert_exporter": "python",
   "pygments_lexer": "ipython3",
   "version": "3.9.5"
  }
 },
 "nbformat": 4,
 "nbformat_minor": 5
}
